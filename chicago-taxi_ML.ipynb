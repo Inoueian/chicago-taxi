{
 "cells": [
  {
   "cell_type": "code",
   "execution_count": 1,
   "metadata": {},
   "outputs": [],
   "source": [
    "%matplotlib inline\n",
    "import matplotlib\n",
    "import seaborn as sns"
   ]
  },
  {
   "cell_type": "markdown",
   "metadata": {},
   "source": [
    "## To do\n",
    "1. Make the same models as before, but have the \"from the loop\" and \"to the loop\" as 2 columns in the same DataFrame."
   ]
  },
  {
   "cell_type": "markdown",
   "metadata": {},
   "source": [
    "## Summary"
   ]
  },
  {
   "cell_type": "markdown",
   "metadata": {},
   "source": [
    "This is the notebook where I build models for taxi traffic based on time."
   ]
  },
  {
   "cell_type": "code",
   "execution_count": 2,
   "metadata": {},
   "outputs": [],
   "source": [
    "import numpy as np\n",
    "import scipy\n",
    "import pandas as pd\n",
    "import matplotlib.pyplot as plt\n",
    "import pickle\n",
    "from datetime import datetime, timedelta"
   ]
  },
  {
   "cell_type": "code",
   "execution_count": 204,
   "metadata": {},
   "outputs": [],
   "source": [
    "from sklearn.linear_model import LinearRegression\n",
    "from sklearn.neural_network import MLPRegressor\n",
    "from sklearn.preprocessing import OneHotEncoder, StandardScaler\n",
    "from sklearn.model_selection import GridSearchCV\n",
    "from sklearn.pipeline import Pipeline, FeatureUnion\n",
    "from sklearn.base import BaseEstimator, TransformerMixin"
   ]
  },
  {
   "cell_type": "code",
   "execution_count": 4,
   "metadata": {},
   "outputs": [],
   "source": [
    "df = pd.read_csv('Data/GroupBy.csv')"
   ]
  },
  {
   "cell_type": "code",
   "execution_count": 5,
   "metadata": {},
   "outputs": [
    {
     "data": {
      "text/html": [
       "<div>\n",
       "<style scoped>\n",
       "    .dataframe tbody tr th:only-of-type {\n",
       "        vertical-align: middle;\n",
       "    }\n",
       "\n",
       "    .dataframe tbody tr th {\n",
       "        vertical-align: top;\n",
       "    }\n",
       "\n",
       "    .dataframe thead th {\n",
       "        text-align: right;\n",
       "    }\n",
       "</style>\n",
       "<table border=\"1\" class=\"dataframe\">\n",
       "  <thead>\n",
       "    <tr style=\"text-align: right;\">\n",
       "      <th></th>\n",
       "      <th>Unnamed: 0</th>\n",
       "      <th>direction</th>\n",
       "      <th>year</th>\n",
       "      <th>month</th>\n",
       "      <th>day</th>\n",
       "      <th>hour</th>\n",
       "      <th>minute</th>\n",
       "      <th>census_tract</th>\n",
       "      <th>count</th>\n",
       "    </tr>\n",
       "  </thead>\n",
       "  <tbody>\n",
       "    <tr>\n",
       "      <th>0</th>\n",
       "      <td>0</td>\n",
       "      <td>from</td>\n",
       "      <td>2013</td>\n",
       "      <td>1</td>\n",
       "      <td>1</td>\n",
       "      <td>13</td>\n",
       "      <td>15</td>\n",
       "      <td>17031080100</td>\n",
       "      <td>1</td>\n",
       "    </tr>\n",
       "    <tr>\n",
       "      <th>1</th>\n",
       "      <td>1</td>\n",
       "      <td>from</td>\n",
       "      <td>2013</td>\n",
       "      <td>1</td>\n",
       "      <td>1</td>\n",
       "      <td>13</td>\n",
       "      <td>15</td>\n",
       "      <td>17031980000</td>\n",
       "      <td>1</td>\n",
       "    </tr>\n",
       "    <tr>\n",
       "      <th>2</th>\n",
       "      <td>2</td>\n",
       "      <td>from</td>\n",
       "      <td>2013</td>\n",
       "      <td>1</td>\n",
       "      <td>1</td>\n",
       "      <td>1</td>\n",
       "      <td>30</td>\n",
       "      <td>17031081100</td>\n",
       "      <td>1</td>\n",
       "    </tr>\n",
       "    <tr>\n",
       "      <th>3</th>\n",
       "      <td>3</td>\n",
       "      <td>from</td>\n",
       "      <td>2013</td>\n",
       "      <td>1</td>\n",
       "      <td>1</td>\n",
       "      <td>13</td>\n",
       "      <td>45</td>\n",
       "      <td>17031833100</td>\n",
       "      <td>1</td>\n",
       "    </tr>\n",
       "    <tr>\n",
       "      <th>4</th>\n",
       "      <td>4</td>\n",
       "      <td>from</td>\n",
       "      <td>2013</td>\n",
       "      <td>1</td>\n",
       "      <td>1</td>\n",
       "      <td>2</td>\n",
       "      <td>0</td>\n",
       "      <td>17031839000</td>\n",
       "      <td>2</td>\n",
       "    </tr>\n",
       "  </tbody>\n",
       "</table>\n",
       "</div>"
      ],
      "text/plain": [
       "   Unnamed: 0 direction  year  month  day  hour  minute  census_tract  count\n",
       "0           0      from  2013      1    1    13      15   17031080100      1\n",
       "1           1      from  2013      1    1    13      15   17031980000      1\n",
       "2           2      from  2013      1    1     1      30   17031081100      1\n",
       "3           3      from  2013      1    1    13      45   17031833100      1\n",
       "4           4      from  2013      1    1     2       0   17031839000      2"
      ]
     },
     "execution_count": 5,
     "metadata": {},
     "output_type": "execute_result"
    }
   ],
   "source": [
    "df.head()"
   ]
  },
  {
   "cell_type": "code",
   "execution_count": 6,
   "metadata": {},
   "outputs": [
    {
     "name": "stdout",
     "output_type": "stream",
     "text": [
      "<class 'pandas.core.frame.DataFrame'>\n",
      "RangeIndex: 6150668 entries, 0 to 6150667\n",
      "Data columns (total 9 columns):\n",
      "Unnamed: 0      int64\n",
      "direction       object\n",
      "year            int64\n",
      "month           int64\n",
      "day             int64\n",
      "hour            int64\n",
      "minute          int64\n",
      "census_tract    int64\n",
      "count           int64\n",
      "dtypes: int64(8), object(1)\n",
      "memory usage: 422.3+ MB\n"
     ]
    }
   ],
   "source": [
    "df.info()"
   ]
  },
  {
   "cell_type": "code",
   "execution_count": 7,
   "metadata": {},
   "outputs": [],
   "source": [
    "def make_time(row):\n",
    "    return datetime(row['year'], row['month'], row['day'],\n",
    "                    row['hour'], row['minute'])"
   ]
  },
  {
   "cell_type": "code",
   "execution_count": 8,
   "metadata": {},
   "outputs": [],
   "source": [
    "df['date'] = df.apply(make_time, axis=1)"
   ]
  },
  {
   "cell_type": "code",
   "execution_count": 9,
   "metadata": {},
   "outputs": [],
   "source": [
    "df_by_date = df[['date', 'direction', 'count']].groupby(['date', 'direction']).sum() \\\n",
    "               .pivot_table(values='count', index=['date'], columns=['direction']).fillna(0)"
   ]
  },
  {
   "cell_type": "code",
   "execution_count": 10,
   "metadata": {},
   "outputs": [
    {
     "data": {
      "text/html": [
       "<div>\n",
       "<style scoped>\n",
       "    .dataframe tbody tr th:only-of-type {\n",
       "        vertical-align: middle;\n",
       "    }\n",
       "\n",
       "    .dataframe tbody tr th {\n",
       "        vertical-align: top;\n",
       "    }\n",
       "\n",
       "    .dataframe thead th {\n",
       "        text-align: right;\n",
       "    }\n",
       "</style>\n",
       "<table border=\"1\" class=\"dataframe\">\n",
       "  <thead>\n",
       "    <tr style=\"text-align: right;\">\n",
       "      <th>direction</th>\n",
       "      <th>from</th>\n",
       "      <th>to</th>\n",
       "    </tr>\n",
       "    <tr>\n",
       "      <th>date</th>\n",
       "      <th></th>\n",
       "      <th></th>\n",
       "    </tr>\n",
       "  </thead>\n",
       "  <tbody>\n",
       "    <tr>\n",
       "      <th>2013-01-01 00:00:00</th>\n",
       "      <td>44.0</td>\n",
       "      <td>45.0</td>\n",
       "    </tr>\n",
       "    <tr>\n",
       "      <th>2013-01-01 00:15:00</th>\n",
       "      <td>84.0</td>\n",
       "      <td>62.0</td>\n",
       "    </tr>\n",
       "    <tr>\n",
       "      <th>2013-01-01 00:30:00</th>\n",
       "      <td>71.0</td>\n",
       "      <td>87.0</td>\n",
       "    </tr>\n",
       "    <tr>\n",
       "      <th>2013-01-01 00:45:00</th>\n",
       "      <td>61.0</td>\n",
       "      <td>75.0</td>\n",
       "    </tr>\n",
       "    <tr>\n",
       "      <th>2013-01-01 01:00:00</th>\n",
       "      <td>62.0</td>\n",
       "      <td>63.0</td>\n",
       "    </tr>\n",
       "  </tbody>\n",
       "</table>\n",
       "</div>"
      ],
      "text/plain": [
       "direction            from    to\n",
       "date                           \n",
       "2013-01-01 00:00:00  44.0  45.0\n",
       "2013-01-01 00:15:00  84.0  62.0\n",
       "2013-01-01 00:30:00  71.0  87.0\n",
       "2013-01-01 00:45:00  61.0  75.0\n",
       "2013-01-01 01:00:00  62.0  63.0"
      ]
     },
     "execution_count": 10,
     "metadata": {},
     "output_type": "execute_result"
    }
   ],
   "source": [
    "df_by_date.head()"
   ]
  },
  {
   "cell_type": "markdown",
   "metadata": {},
   "source": [
    "Fill nonexistent rows, to make the rows consistently 15 minutes apart"
   ]
  },
  {
   "cell_type": "code",
   "execution_count": 11,
   "metadata": {},
   "outputs": [],
   "source": [
    "first_date = datetime(2013, 1, 1)\n",
    "last_date = datetime(2017, 8, 1)"
   ]
  },
  {
   "cell_type": "code",
   "execution_count": 12,
   "metadata": {},
   "outputs": [
    {
     "data": {
      "text/plain": [
       "datetime.timedelta(0, 900)"
      ]
     },
     "execution_count": 12,
     "metadata": {},
     "output_type": "execute_result"
    }
   ],
   "source": [
    "datetime(2013, 1, 1, 0, 15) - first_date"
   ]
  },
  {
   "cell_type": "code",
   "execution_count": 13,
   "metadata": {},
   "outputs": [],
   "source": [
    "dates = pd.date_range(start=first_date, end=last_date, freq='15Min')"
   ]
  },
  {
   "cell_type": "code",
   "execution_count": 14,
   "metadata": {},
   "outputs": [],
   "source": [
    "absent = [date for date in dates\n",
    "               if date not in df_by_date.index]"
   ]
  },
  {
   "cell_type": "code",
   "execution_count": 15,
   "metadata": {
    "scrolled": true
   },
   "outputs": [],
   "source": [
    "df_by_date = pd.concat([df_by_date,\n",
    "                               pd.DataFrame([[date, 0, 0] for date in absent],\n",
    "                                            columns=['date', 'from', 'to']).set_index('date')]).sort_index()"
   ]
  },
  {
   "cell_type": "markdown",
   "metadata": {},
   "source": [
    "Do Fourier transform to see patterns. I expect 24-hour, 7-day, and 365-day frequencies."
   ]
  },
  {
   "cell_type": "code",
   "execution_count": 16,
   "metadata": {},
   "outputs": [],
   "source": [
    "from scipy import fftpack"
   ]
  },
  {
   "cell_type": "code",
   "execution_count": 17,
   "metadata": {},
   "outputs": [],
   "source": [
    "from_fft = fftpack.fft(df_by_date['from'] -\n",
    "                       df_by_date['from'].mean())"
   ]
  },
  {
   "cell_type": "code",
   "execution_count": 18,
   "metadata": {
    "scrolled": true
   },
   "outputs": [
    {
     "data": {
      "image/png": "[encoded data removed]",
      "text/plain": [
       "<matplotlib.figure.Figure at 0x101436d68>"
      ]
     },
     "metadata": {},
     "output_type": "display_data"
    }
   ],
   "source": [
    "plt.plot(np.abs(from_fft))\n",
    "plt.show()"
   ]
  },
  {
   "cell_type": "markdown",
   "metadata": {},
   "source": [
    "There's are big peaks at low frequency. Take a closer look."
   ]
  },
  {
   "cell_type": "code",
   "execution_count": 19,
   "metadata": {},
   "outputs": [],
   "source": [
    "freq_year = len(dates) / (365*24*4)\n",
    "freq_week = len(dates) / (7*24*4)\n",
    "freq_day = len(dates) / (24*4)"
   ]
  },
  {
   "cell_type": "code",
   "execution_count": 20,
   "metadata": {},
   "outputs": [
    {
     "name": "stdout",
     "output_type": "stream",
     "text": [
      "4.583590182648402 239.0014880952381 1673.0104166666667\n"
     ]
    }
   ],
   "source": [
    "print(freq_year, freq_week, freq_day)"
   ]
  },
  {
   "cell_type": "code",
   "execution_count": 21,
   "metadata": {
    "scrolled": false
   },
   "outputs": [
    {
     "data": {
      "image/png": "[encoded data removed]",
      "text/plain": [
       "<matplotlib.figure.Figure at 0x106b40240>"
      ]
     },
     "metadata": {},
     "output_type": "display_data"
    }
   ],
   "source": [
    "plt.plot(np.abs(from_fft[:1700]))\n",
    "plt.show()"
   ]
  },
  {
   "cell_type": "markdown",
   "metadata": {},
   "source": [
    "Similarly for trips to the Loop."
   ]
  },
  {
   "cell_type": "code",
   "execution_count": 22,
   "metadata": {},
   "outputs": [],
   "source": [
    "to_fft = fftpack.fft(df_by_date['to'] -\n",
    "                       df_by_date['to'].mean())"
   ]
  },
  {
   "cell_type": "code",
   "execution_count": 23,
   "metadata": {
    "scrolled": false
   },
   "outputs": [
    {
     "data": {
      "image/png": "[encoded data removed]",
      "text/plain": [
       "<matplotlib.figure.Figure at 0x109211e10>"
      ]
     },
     "metadata": {},
     "output_type": "display_data"
    }
   ],
   "source": [
    "plt.plot(np.abs(to_fft[:1700]))\n",
    "plt.show()"
   ]
  },
  {
   "cell_type": "markdown",
   "metadata": {},
   "source": [
    "1 per day gives the biggest Fourier component. The next biggest is the 1 per week frequency."
   ]
  },
  {
   "cell_type": "code",
   "execution_count": 26,
   "metadata": {},
   "outputs": [],
   "source": [
    "df_by_date = df_by_date.reset_index()"
   ]
  },
  {
   "cell_type": "code",
   "execution_count": 27,
   "metadata": {
    "scrolled": true
   },
   "outputs": [
    {
     "data": {
      "text/html": [
       "<div>\n",
       "<style scoped>\n",
       "    .dataframe tbody tr th:only-of-type {\n",
       "        vertical-align: middle;\n",
       "    }\n",
       "\n",
       "    .dataframe tbody tr th {\n",
       "        vertical-align: top;\n",
       "    }\n",
       "\n",
       "    .dataframe thead th {\n",
       "        text-align: right;\n",
       "    }\n",
       "</style>\n",
       "<table border=\"1\" class=\"dataframe\">\n",
       "  <thead>\n",
       "    <tr style=\"text-align: right;\">\n",
       "      <th>direction</th>\n",
       "      <th>date</th>\n",
       "      <th>from</th>\n",
       "      <th>to</th>\n",
       "    </tr>\n",
       "  </thead>\n",
       "  <tbody>\n",
       "    <tr>\n",
       "      <th>0</th>\n",
       "      <td>2013-01-01 00:00:00</td>\n",
       "      <td>44.0</td>\n",
       "      <td>45.0</td>\n",
       "    </tr>\n",
       "    <tr>\n",
       "      <th>1</th>\n",
       "      <td>2013-01-01 00:15:00</td>\n",
       "      <td>84.0</td>\n",
       "      <td>62.0</td>\n",
       "    </tr>\n",
       "    <tr>\n",
       "      <th>2</th>\n",
       "      <td>2013-01-01 00:30:00</td>\n",
       "      <td>71.0</td>\n",
       "      <td>87.0</td>\n",
       "    </tr>\n",
       "    <tr>\n",
       "      <th>3</th>\n",
       "      <td>2013-01-01 00:45:00</td>\n",
       "      <td>61.0</td>\n",
       "      <td>75.0</td>\n",
       "    </tr>\n",
       "    <tr>\n",
       "      <th>4</th>\n",
       "      <td>2013-01-01 01:00:00</td>\n",
       "      <td>62.0</td>\n",
       "      <td>63.0</td>\n",
       "    </tr>\n",
       "  </tbody>\n",
       "</table>\n",
       "</div>"
      ],
      "text/plain": [
       "direction                date  from    to\n",
       "0         2013-01-01 00:00:00  44.0  45.0\n",
       "1         2013-01-01 00:15:00  84.0  62.0\n",
       "2         2013-01-01 00:30:00  71.0  87.0\n",
       "3         2013-01-01 00:45:00  61.0  75.0\n",
       "4         2013-01-01 01:00:00  62.0  63.0"
      ]
     },
     "execution_count": 27,
     "metadata": {},
     "output_type": "execute_result"
    }
   ],
   "source": [
    "df_by_date.head()"
   ]
  },
  {
   "cell_type": "code",
   "execution_count": 28,
   "metadata": {},
   "outputs": [],
   "source": [
    "#need categories to go from 0 to N-1\n",
    "df_by_date['tod'] = df_by_date['date'].apply(\n",
    "                            lambda x: int(4*x.hour + x.minute/15))\n",
    "df_by_date['dow'] = df_by_date['date'].apply(\n",
    "                            lambda x: datetime.weekday(x))"
   ]
  },
  {
   "cell_type": "code",
   "execution_count": 29,
   "metadata": {
    "scrolled": true
   },
   "outputs": [
    {
     "data": {
      "image/png": "[encoded data removed]",
      "text/plain": [
       "<matplotlib.figure.Figure at 0x10924b240>"
      ]
     },
     "metadata": {},
     "output_type": "display_data"
    }
   ],
   "source": [
    "#plot by day of week\n",
    "df_by_date.groupby('dow').mean()['from'].plot()\n",
    "df_by_date.groupby('dow').mean()['to'].plot()\n",
    "plt.show()"
   ]
  },
  {
   "cell_type": "code",
   "execution_count": 30,
   "metadata": {
    "scrolled": true
   },
   "outputs": [
    {
     "data": {
      "image/png": "[encoded data removed]",
      "text/plain": [
       "<matplotlib.figure.Figure at 0x10924b6a0>"
      ]
     },
     "metadata": {},
     "output_type": "display_data"
    }
   ],
   "source": [
    "#plot by time of day\n",
    "df_by_date.groupby('tod').mean()['from'].plot()\n",
    "df_by_date.groupby('tod').mean()['to'].plot()\n",
    "plt.show()"
   ]
  },
  {
   "cell_type": "markdown",
   "metadata": {},
   "source": [
    "Are the hourly peaks during the day associated with people trying to make an appointment on the hour? Plausible but I can't really say for sure. Whether or not it's meaningful signal, this seems like something specific to taxis. It would be good to average over the hour, for most purposes."
   ]
  },
  {
   "cell_type": "markdown",
   "metadata": {},
   "source": [
    "The first fit is to do OneHotEncoding of day of week and time of day. Look at the residuals to see what else needs to be fit. Try 2 possibilities.\n",
    "\n",
    "1. Separately encode day of week (7 columns) and time of day (96 columns)\n",
    "2. Combine the 2 into one variable that I encode (672 columns)\n",
    "\n",
    "We should expect the time-of-day patterns to be different on weekends, for example. So 2 seems better, but try both. I have enough data that I shouldn't worry  about overfitting (yet)."
   ]
  },
  {
   "cell_type": "code",
   "execution_count": 31,
   "metadata": {},
   "outputs": [],
   "source": [
    "ohe = OneHotEncoder()"
   ]
  },
  {
   "cell_type": "code",
   "execution_count": 32,
   "metadata": {},
   "outputs": [],
   "source": [
    "X1 = ohe.fit_transform(df_by_date[['tod', 'dow']])"
   ]
  },
  {
   "cell_type": "code",
   "execution_count": 33,
   "metadata": {},
   "outputs": [
    {
     "data": {
      "text/plain": [
       "LinearRegression(copy_X=True, fit_intercept=True, n_jobs=1, normalize=False)"
      ]
     },
     "execution_count": 33,
     "metadata": {},
     "output_type": "execute_result"
    }
   ],
   "source": [
    "lr1_from = LinearRegression()\n",
    "lr1_from.fit(X1, df_by_date['from'])\n",
    "lr1_to = LinearRegression()\n",
    "lr1_to.fit(X1, df_by_date['to'])"
   ]
  },
  {
   "cell_type": "code",
   "execution_count": 34,
   "metadata": {},
   "outputs": [],
   "source": [
    "pred1_from = lr1_from.predict(X1)\n",
    "pred1_to = lr1_to.predict(X1)"
   ]
  },
  {
   "cell_type": "code",
   "execution_count": 35,
   "metadata": {},
   "outputs": [
    {
     "name": "stdout",
     "output_type": "stream",
     "text": [
      "0.740790033151\n",
      "0.651970535122\n"
     ]
    }
   ],
   "source": [
    "print(lr1_from.score(X1, df_by_date['from']))\n",
    "print(lr1_to.score(X1, df_by_date['to']))"
   ]
  },
  {
   "cell_type": "code",
   "execution_count": 36,
   "metadata": {},
   "outputs": [],
   "source": [
    "residual1_from = df_by_date['from'] - pred1_from\n",
    "residual1_to = df_by_date['to'] - pred1_to"
   ]
  },
  {
   "cell_type": "code",
   "execution_count": 37,
   "metadata": {},
   "outputs": [
    {
     "data": {
      "text/plain": [
       "count    1.606090e+05\n",
       "mean     6.142992e-14\n",
       "std      4.743271e+01\n",
       "min     -2.306322e+02\n",
       "25%     -2.921845e+01\n",
       "50%     -6.243276e+00\n",
       "75%      3.231919e+01\n",
       "max      3.086612e+02\n",
       "Name: from, dtype: float64"
      ]
     },
     "execution_count": 37,
     "metadata": {},
     "output_type": "execute_result"
    }
   ],
   "source": [
    "residual1_from.describe()"
   ]
  },
  {
   "cell_type": "code",
   "execution_count": 38,
   "metadata": {},
   "outputs": [
    {
     "data": {
      "text/plain": [
       "count    1.606090e+05\n",
       "mean     1.833837e-13\n",
       "std      5.007505e+01\n",
       "min     -2.365989e+02\n",
       "25%     -2.909631e+01\n",
       "50%     -5.826907e+00\n",
       "75%      3.142372e+01\n",
       "max      3.024011e+02\n",
       "Name: to, dtype: float64"
      ]
     },
     "execution_count": 38,
     "metadata": {},
     "output_type": "execute_result"
    }
   ],
   "source": [
    "residual1_to.describe()"
   ]
  },
  {
   "cell_type": "code",
   "execution_count": 39,
   "metadata": {},
   "outputs": [],
   "source": [
    "#combine 'tod' and 'dow'\n",
    "df_by_date['time'] = (24*4*df_by_date['dow'] + df_by_date['tod'])"
   ]
  },
  {
   "cell_type": "code",
   "execution_count": 40,
   "metadata": {},
   "outputs": [],
   "source": [
    "X2 = ohe.fit_transform(df_by_date[['time']])"
   ]
  },
  {
   "cell_type": "code",
   "execution_count": 41,
   "metadata": {},
   "outputs": [
    {
     "data": {
      "text/plain": [
       "LinearRegression(copy_X=True, fit_intercept=True, n_jobs=1, normalize=False)"
      ]
     },
     "execution_count": 41,
     "metadata": {},
     "output_type": "execute_result"
    }
   ],
   "source": [
    "lr2_from = LinearRegression()\n",
    "lr2_from.fit(X2, df_by_date['from'])\n",
    "lr2_to = LinearRegression()\n",
    "lr2_to.fit(X2, df_by_date['to'])"
   ]
  },
  {
   "cell_type": "code",
   "execution_count": 42,
   "metadata": {},
   "outputs": [],
   "source": [
    "pred2_from = lr2_from.predict(X2)\n",
    "pred2_to = lr2_to.predict(X2)"
   ]
  },
  {
   "cell_type": "code",
   "execution_count": 43,
   "metadata": {},
   "outputs": [
    {
     "name": "stdout",
     "output_type": "stream",
     "text": [
      "0.840661200951\n",
      "0.82219906823\n"
     ]
    }
   ],
   "source": [
    "print(lr2_from.score(X2, df_by_date['from']))\n",
    "print(lr2_to.score(X2, df_by_date['to']))"
   ]
  },
  {
   "cell_type": "markdown",
   "metadata": {},
   "source": [
    "This performs considerably better, and it's not surprising. Time-dependence of traffic patterns has to be very different between weekdays and weekends."
   ]
  },
  {
   "cell_type": "code",
   "execution_count": 44,
   "metadata": {},
   "outputs": [],
   "source": [
    "residual2_from = df_by_date['from'] - pred2_from\n",
    "residual2_to = df_by_date['to'] - pred2_to"
   ]
  },
  {
   "cell_type": "code",
   "execution_count": 45,
   "metadata": {},
   "outputs": [
    {
     "data": {
      "text/plain": [
       "count    1.606090e+05\n",
       "mean    -5.073858e-15\n",
       "std      3.718886e+01\n",
       "min     -2.766736e+02\n",
       "25%     -1.359414e+01\n",
       "50%     -5.941423e-01\n",
       "75%      1.550628e+01\n",
       "max      2.919958e+02\n",
       "Name: from, dtype: float64"
      ]
     },
     "execution_count": 45,
     "metadata": {},
     "output_type": "execute_result"
    }
   ],
   "source": [
    "residual2_from.describe()"
   ]
  },
  {
   "cell_type": "code",
   "execution_count": 46,
   "metadata": {},
   "outputs": [
    {
     "data": {
      "text/plain": [
       "count    1.606090e+05\n",
       "mean     1.051013e-14\n",
       "std      3.579154e+01\n",
       "min     -3.007615e+02\n",
       "25%     -1.369456e+01\n",
       "50%     -3.514644e-01\n",
       "75%      1.578243e+01\n",
       "max      2.726276e+02\n",
       "Name: to, dtype: float64"
      ]
     },
     "execution_count": 46,
     "metadata": {},
     "output_type": "execute_result"
    }
   ],
   "source": [
    "residual2_to.describe()"
   ]
  },
  {
   "cell_type": "markdown",
   "metadata": {},
   "source": [
    "Record the model results in the DataFrame."
   ]
  },
  {
   "cell_type": "code",
   "execution_count": 47,
   "metadata": {},
   "outputs": [],
   "source": [
    "df_by_date['pred1_from'] = pred1_from\n",
    "df_by_date['pred1_to'] = pred1_to\n",
    "df_by_date['residual1_from'] = residual1_from\n",
    "df_by_date['residual1_to'] = residual1_to\n",
    "df_by_date['pred2_from'] = pred2_from\n",
    "df_by_date['pred2_to'] = pred2_to\n",
    "df_by_date['residual2_from'] = residual2_from\n",
    "df_by_date['residual2_to'] = residual2_to"
   ]
  },
  {
   "cell_type": "code",
   "execution_count": 48,
   "metadata": {},
   "outputs": [
    {
     "data": {
      "text/html": [
       "<div>\n",
       "<style scoped>\n",
       "    .dataframe tbody tr th:only-of-type {\n",
       "        vertical-align: middle;\n",
       "    }\n",
       "\n",
       "    .dataframe tbody tr th {\n",
       "        vertical-align: top;\n",
       "    }\n",
       "\n",
       "    .dataframe thead th {\n",
       "        text-align: right;\n",
       "    }\n",
       "</style>\n",
       "<table border=\"1\" class=\"dataframe\">\n",
       "  <thead>\n",
       "    <tr style=\"text-align: right;\">\n",
       "      <th>direction</th>\n",
       "      <th>date</th>\n",
       "      <th>from</th>\n",
       "      <th>to</th>\n",
       "      <th>tod</th>\n",
       "      <th>dow</th>\n",
       "      <th>time</th>\n",
       "      <th>pred1_from</th>\n",
       "      <th>pred1_to</th>\n",
       "      <th>residual1_from</th>\n",
       "      <th>residual1_to</th>\n",
       "      <th>pred2_from</th>\n",
       "      <th>pred2_to</th>\n",
       "      <th>residual2_from</th>\n",
       "      <th>residual2_to</th>\n",
       "    </tr>\n",
       "  </thead>\n",
       "  <tbody>\n",
       "    <tr>\n",
       "      <th>0</th>\n",
       "      <td>2013-01-01 00:00:00</td>\n",
       "      <td>44.0</td>\n",
       "      <td>45.0</td>\n",
       "      <td>0</td>\n",
       "      <td>1</td>\n",
       "      <td>96</td>\n",
       "      <td>61.092129</td>\n",
       "      <td>67.824442</td>\n",
       "      <td>-17.092129</td>\n",
       "      <td>-22.824442</td>\n",
       "      <td>27.470833</td>\n",
       "      <td>35.558333</td>\n",
       "      <td>16.529167</td>\n",
       "      <td>9.441667</td>\n",
       "    </tr>\n",
       "    <tr>\n",
       "      <th>1</th>\n",
       "      <td>2013-01-01 00:15:00</td>\n",
       "      <td>84.0</td>\n",
       "      <td>62.0</td>\n",
       "      <td>1</td>\n",
       "      <td>1</td>\n",
       "      <td>97</td>\n",
       "      <td>56.049147</td>\n",
       "      <td>61.553566</td>\n",
       "      <td>27.950853</td>\n",
       "      <td>0.446434</td>\n",
       "      <td>23.280335</td>\n",
       "      <td>29.012552</td>\n",
       "      <td>60.719665</td>\n",
       "      <td>32.987448</td>\n",
       "    </tr>\n",
       "    <tr>\n",
       "      <th>2</th>\n",
       "      <td>2013-01-01 00:30:00</td>\n",
       "      <td>71.0</td>\n",
       "      <td>87.0</td>\n",
       "      <td>2</td>\n",
       "      <td>1</td>\n",
       "      <td>98</td>\n",
       "      <td>50.090988</td>\n",
       "      <td>56.104074</td>\n",
       "      <td>20.909012</td>\n",
       "      <td>30.895926</td>\n",
       "      <td>17.920502</td>\n",
       "      <td>24.476987</td>\n",
       "      <td>53.079498</td>\n",
       "      <td>62.523013</td>\n",
       "    </tr>\n",
       "    <tr>\n",
       "      <th>3</th>\n",
       "      <td>2013-01-01 00:45:00</td>\n",
       "      <td>61.0</td>\n",
       "      <td>75.0</td>\n",
       "      <td>3</td>\n",
       "      <td>1</td>\n",
       "      <td>99</td>\n",
       "      <td>45.461580</td>\n",
       "      <td>51.719734</td>\n",
       "      <td>15.538420</td>\n",
       "      <td>23.280266</td>\n",
       "      <td>14.615063</td>\n",
       "      <td>19.845188</td>\n",
       "      <td>46.384937</td>\n",
       "      <td>55.154812</td>\n",
       "    </tr>\n",
       "    <tr>\n",
       "      <th>4</th>\n",
       "      <td>2013-01-01 01:00:00</td>\n",
       "      <td>62.0</td>\n",
       "      <td>63.0</td>\n",
       "      <td>4</td>\n",
       "      <td>1</td>\n",
       "      <td>100</td>\n",
       "      <td>42.581126</td>\n",
       "      <td>49.587636</td>\n",
       "      <td>19.418874</td>\n",
       "      <td>13.412364</td>\n",
       "      <td>12.928870</td>\n",
       "      <td>17.824268</td>\n",
       "      <td>49.071130</td>\n",
       "      <td>45.175732</td>\n",
       "    </tr>\n",
       "  </tbody>\n",
       "</table>\n",
       "</div>"
      ],
      "text/plain": [
       "direction                date  from    to  tod  dow  time  pred1_from  \\\n",
       "0         2013-01-01 00:00:00  44.0  45.0    0    1    96   61.092129   \n",
       "1         2013-01-01 00:15:00  84.0  62.0    1    1    97   56.049147   \n",
       "2         2013-01-01 00:30:00  71.0  87.0    2    1    98   50.090988   \n",
       "3         2013-01-01 00:45:00  61.0  75.0    3    1    99   45.461580   \n",
       "4         2013-01-01 01:00:00  62.0  63.0    4    1   100   42.581126   \n",
       "\n",
       "direction   pred1_to  residual1_from  residual1_to  pred2_from   pred2_to  \\\n",
       "0          67.824442      -17.092129    -22.824442   27.470833  35.558333   \n",
       "1          61.553566       27.950853      0.446434   23.280335  29.012552   \n",
       "2          56.104074       20.909012     30.895926   17.920502  24.476987   \n",
       "3          51.719734       15.538420     23.280266   14.615063  19.845188   \n",
       "4          49.587636       19.418874     13.412364   12.928870  17.824268   \n",
       "\n",
       "direction  residual2_from  residual2_to  \n",
       "0               16.529167      9.441667  \n",
       "1               60.719665     32.987448  \n",
       "2               53.079498     62.523013  \n",
       "3               46.384937     55.154812  \n",
       "4               49.071130     45.175732  "
      ]
     },
     "execution_count": 48,
     "metadata": {},
     "output_type": "execute_result"
    }
   ],
   "source": [
    "df_by_date.head()"
   ]
  },
  {
   "cell_type": "code",
   "execution_count": 49,
   "metadata": {},
   "outputs": [
    {
     "data": {
      "image/png": "[encoded data removed]",
      "text/plain": [
       "<matplotlib.figure.Figure at 0x109247320>"
      ]
     },
     "metadata": {},
     "output_type": "display_data"
    }
   ],
   "source": [
    "#plot residuals of the 1st model\n",
    "df_by_date.groupby('time').mean()['residual1_from'].plot()\n",
    "df_by_date.groupby('time').mean()['residual1_to'].plot()\n",
    "plt.show()"
   ]
  },
  {
   "cell_type": "markdown",
   "metadata": {},
   "source": [
    "As expected, the separate OneHotEncoding strategy misses the weekend traffic by a lot. The combined strategy is designed to fit this perfectly.\n",
    "\n",
    "2 more things to try to use as features in this total traffic model.\n",
    "1. Holidays\n",
    "2. Weather"
   ]
  },
  {
   "cell_type": "code",
   "execution_count": 50,
   "metadata": {},
   "outputs": [],
   "source": [
    "import holidays"
   ]
  },
  {
   "cell_type": "code",
   "execution_count": 51,
   "metadata": {},
   "outputs": [],
   "source": [
    "USholidays = holidays.UnitedStates()"
   ]
  },
  {
   "cell_type": "code",
   "execution_count": 52,
   "metadata": {},
   "outputs": [],
   "source": [
    "df_by_date['holiday'] = df_by_date['date'].apply(\n",
    "                                lambda x: int(x in USholidays))"
   ]
  },
  {
   "cell_type": "code",
   "execution_count": 53,
   "metadata": {},
   "outputs": [
    {
     "data": {
      "text/html": [
       "<div>\n",
       "<style scoped>\n",
       "    .dataframe tbody tr th:only-of-type {\n",
       "        vertical-align: middle;\n",
       "    }\n",
       "\n",
       "    .dataframe tbody tr th {\n",
       "        vertical-align: top;\n",
       "    }\n",
       "\n",
       "    .dataframe thead th {\n",
       "        text-align: right;\n",
       "    }\n",
       "</style>\n",
       "<table border=\"1\" class=\"dataframe\">\n",
       "  <thead>\n",
       "    <tr style=\"text-align: right;\">\n",
       "      <th>direction</th>\n",
       "      <th>residual2_from</th>\n",
       "      <th>residual2_to</th>\n",
       "    </tr>\n",
       "    <tr>\n",
       "      <th>holiday</th>\n",
       "      <th></th>\n",
       "      <th></th>\n",
       "    </tr>\n",
       "  </thead>\n",
       "  <tbody>\n",
       "    <tr>\n",
       "      <th>0</th>\n",
       "      <td>1.687769</td>\n",
       "      <td>1.604994</td>\n",
       "    </tr>\n",
       "    <tr>\n",
       "      <th>1</th>\n",
       "      <td>-57.138367</td>\n",
       "      <td>-54.336078</td>\n",
       "    </tr>\n",
       "  </tbody>\n",
       "</table>\n",
       "</div>"
      ],
      "text/plain": [
       "direction  residual2_from  residual2_to\n",
       "holiday                                \n",
       "0                1.687769      1.604994\n",
       "1              -57.138367    -54.336078"
      ]
     },
     "execution_count": 53,
     "metadata": {},
     "output_type": "execute_result"
    }
   ],
   "source": [
    "df_by_date.groupby('holiday').mean()[['residual2_from', 'residual2_to']]"
   ]
  },
  {
   "cell_type": "markdown",
   "metadata": {},
   "source": [
    "Again as expected, holidays have much less taxi traffic than the usual weekdays. Add this as a feature."
   ]
  },
  {
   "cell_type": "code",
   "execution_count": 54,
   "metadata": {},
   "outputs": [],
   "source": [
    "X3 = scipy.sparse.hstack((X2, df_by_date[['holiday']]))"
   ]
  },
  {
   "cell_type": "code",
   "execution_count": 55,
   "metadata": {},
   "outputs": [
    {
     "data": {
      "text/plain": [
       "LinearRegression(copy_X=True, fit_intercept=True, n_jobs=1, normalize=False)"
      ]
     },
     "execution_count": 55,
     "metadata": {},
     "output_type": "execute_result"
    }
   ],
   "source": [
    "lr3_from = LinearRegression()\n",
    "lr3_from.fit(X3, df_by_date['from'])\n",
    "lr3_to = LinearRegression()\n",
    "lr3_to.fit(X3, df_by_date['to'])"
   ]
  },
  {
   "cell_type": "code",
   "execution_count": 56,
   "metadata": {},
   "outputs": [
    {
     "name": "stdout",
     "output_type": "stream",
     "text": [
      "0.852290391293\n",
      "0.834868228807\n"
     ]
    }
   ],
   "source": [
    "print(lr3_from.score(X3, df_by_date['from']))\n",
    "print(lr3_to.score(X3, df_by_date['to']))"
   ]
  },
  {
   "cell_type": "code",
   "execution_count": 57,
   "metadata": {},
   "outputs": [],
   "source": [
    "pred3_from = lr3_from.predict(X3)\n",
    "pred3_to = lr3_to.predict(X3)"
   ]
  },
  {
   "cell_type": "code",
   "execution_count": 58,
   "metadata": {},
   "outputs": [],
   "source": [
    "residual3_from = df_by_date['from'] - pred3_from\n",
    "residual3_to = df_by_date['to'] - pred3_to"
   ]
  },
  {
   "cell_type": "code",
   "execution_count": 59,
   "metadata": {},
   "outputs": [],
   "source": [
    "df_by_date['pred3_from'] = pred3_from\n",
    "df_by_date['pred3_to'] = pred3_to\n",
    "df_by_date['residual3_from'] = residual3_from\n",
    "df_by_date['residual3_to'] = residual3_to"
   ]
  },
  {
   "cell_type": "code",
   "execution_count": 60,
   "metadata": {},
   "outputs": [
    {
     "data": {
      "text/html": [
       "<div>\n",
       "<style scoped>\n",
       "    .dataframe tbody tr th:only-of-type {\n",
       "        vertical-align: middle;\n",
       "    }\n",
       "\n",
       "    .dataframe tbody tr th {\n",
       "        vertical-align: top;\n",
       "    }\n",
       "\n",
       "    .dataframe thead th {\n",
       "        text-align: right;\n",
       "    }\n",
       "</style>\n",
       "<table border=\"1\" class=\"dataframe\">\n",
       "  <thead>\n",
       "    <tr style=\"text-align: right;\">\n",
       "      <th>direction</th>\n",
       "      <th>residual1_from</th>\n",
       "      <th>residual1_to</th>\n",
       "      <th>residual2_from</th>\n",
       "      <th>residual2_to</th>\n",
       "      <th>residual3_from</th>\n",
       "      <th>residual3_to</th>\n",
       "    </tr>\n",
       "  </thead>\n",
       "  <tbody>\n",
       "    <tr>\n",
       "      <th>count</th>\n",
       "      <td>1.606090e+05</td>\n",
       "      <td>1.606090e+05</td>\n",
       "      <td>1.606090e+05</td>\n",
       "      <td>1.606090e+05</td>\n",
       "      <td>1.606090e+05</td>\n",
       "      <td>1.606090e+05</td>\n",
       "    </tr>\n",
       "    <tr>\n",
       "      <th>mean</th>\n",
       "      <td>6.142992e-14</td>\n",
       "      <td>1.833837e-13</td>\n",
       "      <td>-5.073858e-15</td>\n",
       "      <td>1.051013e-14</td>\n",
       "      <td>-4.295383e-12</td>\n",
       "      <td>-2.450311e-12</td>\n",
       "    </tr>\n",
       "    <tr>\n",
       "      <th>std</th>\n",
       "      <td>4.743271e+01</td>\n",
       "      <td>5.007505e+01</td>\n",
       "      <td>3.718886e+01</td>\n",
       "      <td>3.579154e+01</td>\n",
       "      <td>3.580605e+01</td>\n",
       "      <td>3.449282e+01</td>\n",
       "    </tr>\n",
       "    <tr>\n",
       "      <th>min</th>\n",
       "      <td>-2.306322e+02</td>\n",
       "      <td>-2.365989e+02</td>\n",
       "      <td>-2.766736e+02</td>\n",
       "      <td>-3.007615e+02</td>\n",
       "      <td>-2.320209e+02</td>\n",
       "      <td>-2.627233e+02</td>\n",
       "    </tr>\n",
       "    <tr>\n",
       "      <th>25%</th>\n",
       "      <td>-2.921845e+01</td>\n",
       "      <td>-2.909631e+01</td>\n",
       "      <td>-1.359414e+01</td>\n",
       "      <td>-1.369456e+01</td>\n",
       "      <td>-1.468978e+01</td>\n",
       "      <td>-1.448348e+01</td>\n",
       "    </tr>\n",
       "    <tr>\n",
       "      <th>50%</th>\n",
       "      <td>-6.243276e+00</td>\n",
       "      <td>-5.826907e+00</td>\n",
       "      <td>-5.941423e-01</td>\n",
       "      <td>-3.514644e-01</td>\n",
       "      <td>-1.650927e+00</td>\n",
       "      <td>-1.375128e+00</td>\n",
       "    </tr>\n",
       "    <tr>\n",
       "      <th>75%</th>\n",
       "      <td>3.231919e+01</td>\n",
       "      <td>3.142372e+01</td>\n",
       "      <td>1.550628e+01</td>\n",
       "      <td>1.578243e+01</td>\n",
       "      <td>1.547460e+01</td>\n",
       "      <td>1.562803e+01</td>\n",
       "    </tr>\n",
       "    <tr>\n",
       "      <th>max</th>\n",
       "      <td>3.086612e+02</td>\n",
       "      <td>3.024011e+02</td>\n",
       "      <td>2.919958e+02</td>\n",
       "      <td>2.726276e+02</td>\n",
       "      <td>2.901925e+02</td>\n",
       "      <td>2.709127e+02</td>\n",
       "    </tr>\n",
       "  </tbody>\n",
       "</table>\n",
       "</div>"
      ],
      "text/plain": [
       "direction  residual1_from  residual1_to  residual2_from  residual2_to  \\\n",
       "count        1.606090e+05  1.606090e+05    1.606090e+05  1.606090e+05   \n",
       "mean         6.142992e-14  1.833837e-13   -5.073858e-15  1.051013e-14   \n",
       "std          4.743271e+01  5.007505e+01    3.718886e+01  3.579154e+01   \n",
       "min         -2.306322e+02 -2.365989e+02   -2.766736e+02 -3.007615e+02   \n",
       "25%         -2.921845e+01 -2.909631e+01   -1.359414e+01 -1.369456e+01   \n",
       "50%         -6.243276e+00 -5.826907e+00   -5.941423e-01 -3.514644e-01   \n",
       "75%          3.231919e+01  3.142372e+01    1.550628e+01  1.578243e+01   \n",
       "max          3.086612e+02  3.024011e+02    2.919958e+02  2.726276e+02   \n",
       "\n",
       "direction  residual3_from  residual3_to  \n",
       "count        1.606090e+05  1.606090e+05  \n",
       "mean        -4.295383e-12 -2.450311e-12  \n",
       "std          3.580605e+01  3.449282e+01  \n",
       "min         -2.320209e+02 -2.627233e+02  \n",
       "25%         -1.468978e+01 -1.448348e+01  \n",
       "50%         -1.650927e+00 -1.375128e+00  \n",
       "75%          1.547460e+01  1.562803e+01  \n",
       "max          2.901925e+02  2.709127e+02  "
      ]
     },
     "execution_count": 60,
     "metadata": {},
     "output_type": "execute_result"
    }
   ],
   "source": [
    "df_by_date[['residual1_from', 'residual1_to',\n",
    "           'residual2_from', 'residual2_to',\n",
    "           'residual3_from', 'residual3_to']].describe()"
   ]
  },
  {
   "cell_type": "markdown",
   "metadata": {},
   "source": [
    "Since the holidays make up only a small portion of the data, the overall improvement is small. I could dig into the details and try to incorporate things like Christmas, Thanksgiving (both much less traffic), and Fourth of July (more traffic at times), but that will be more trouble than it is worth. My goal is to model weekdays that are not holidays."
   ]
  },
  {
   "cell_type": "markdown",
   "metadata": {},
   "source": [
    "### Weather"
   ]
  },
  {
   "cell_type": "code",
   "execution_count": 61,
   "metadata": {},
   "outputs": [],
   "source": [
    "df_weather = pd.read_csv('Data/weather.csv').set_index('DATE')"
   ]
  },
  {
   "cell_type": "code",
   "execution_count": 62,
   "metadata": {},
   "outputs": [
    {
     "data": {
      "text/html": [
       "<div>\n",
       "<style scoped>\n",
       "    .dataframe tbody tr th:only-of-type {\n",
       "        vertical-align: middle;\n",
       "    }\n",
       "\n",
       "    .dataframe tbody tr th {\n",
       "        vertical-align: top;\n",
       "    }\n",
       "\n",
       "    .dataframe thead th {\n",
       "        text-align: right;\n",
       "    }\n",
       "</style>\n",
       "<table border=\"1\" class=\"dataframe\">\n",
       "  <thead>\n",
       "    <tr style=\"text-align: right;\">\n",
       "      <th></th>\n",
       "      <th>TMAX</th>\n",
       "      <th>TMIN</th>\n",
       "      <th>PRCP</th>\n",
       "      <th>SNOW</th>\n",
       "    </tr>\n",
       "    <tr>\n",
       "      <th>DATE</th>\n",
       "      <th></th>\n",
       "      <th></th>\n",
       "      <th></th>\n",
       "      <th></th>\n",
       "    </tr>\n",
       "  </thead>\n",
       "  <tbody>\n",
       "    <tr>\n",
       "      <th>2013-01-01</th>\n",
       "      <td>26.0</td>\n",
       "      <td>15.0</td>\n",
       "      <td>0.0</td>\n",
       "      <td>0.0</td>\n",
       "    </tr>\n",
       "    <tr>\n",
       "      <th>2013-01-02</th>\n",
       "      <td>29.0</td>\n",
       "      <td>14.0</td>\n",
       "      <td>0.0</td>\n",
       "      <td>0.0</td>\n",
       "    </tr>\n",
       "    <tr>\n",
       "      <th>2013-01-03</th>\n",
       "      <td>30.0</td>\n",
       "      <td>21.0</td>\n",
       "      <td>0.0</td>\n",
       "      <td>0.0</td>\n",
       "    </tr>\n",
       "    <tr>\n",
       "      <th>2013-01-04</th>\n",
       "      <td>37.0</td>\n",
       "      <td>16.0</td>\n",
       "      <td>0.0</td>\n",
       "      <td>0.0</td>\n",
       "    </tr>\n",
       "    <tr>\n",
       "      <th>2013-01-05</th>\n",
       "      <td>38.0</td>\n",
       "      <td>25.0</td>\n",
       "      <td>0.0</td>\n",
       "      <td>0.0</td>\n",
       "    </tr>\n",
       "  </tbody>\n",
       "</table>\n",
       "</div>"
      ],
      "text/plain": [
       "            TMAX  TMIN  PRCP  SNOW\n",
       "DATE                              \n",
       "2013-01-01  26.0  15.0   0.0   0.0\n",
       "2013-01-02  29.0  14.0   0.0   0.0\n",
       "2013-01-03  30.0  21.0   0.0   0.0\n",
       "2013-01-04  37.0  16.0   0.0   0.0\n",
       "2013-01-05  38.0  25.0   0.0   0.0"
      ]
     },
     "execution_count": 62,
     "metadata": {},
     "output_type": "execute_result"
    }
   ],
   "source": [
    "df_weather.head()"
   ]
  },
  {
   "cell_type": "markdown",
   "metadata": {},
   "source": [
    "Join the weather data"
   ]
  },
  {
   "cell_type": "code",
   "execution_count": 63,
   "metadata": {},
   "outputs": [],
   "source": [
    "df_by_date['DATE'] = df_by_date['date'].apply(lambda x: x.strftime('%Y-%m-%d'))"
   ]
  },
  {
   "cell_type": "code",
   "execution_count": 64,
   "metadata": {
    "scrolled": true
   },
   "outputs": [],
   "source": [
    "#df_by_date = df_by_date.drop(columns=['TMAX', 'TMIN', 'PRCP', 'SNOW'])"
   ]
  },
  {
   "cell_type": "code",
   "execution_count": 65,
   "metadata": {
    "scrolled": true
   },
   "outputs": [],
   "source": [
    "df_by_date = df_by_date.join(df_weather, on='DATE')"
   ]
  },
  {
   "cell_type": "code",
   "execution_count": 66,
   "metadata": {},
   "outputs": [
    {
     "data": {
      "text/html": [
       "<div>\n",
       "<style scoped>\n",
       "    .dataframe tbody tr th:only-of-type {\n",
       "        vertical-align: middle;\n",
       "    }\n",
       "\n",
       "    .dataframe tbody tr th {\n",
       "        vertical-align: top;\n",
       "    }\n",
       "\n",
       "    .dataframe thead th {\n",
       "        text-align: right;\n",
       "    }\n",
       "</style>\n",
       "<table border=\"1\" class=\"dataframe\">\n",
       "  <thead>\n",
       "    <tr style=\"text-align: right;\">\n",
       "      <th></th>\n",
       "      <th>date</th>\n",
       "      <th>from</th>\n",
       "      <th>to</th>\n",
       "      <th>tod</th>\n",
       "      <th>dow</th>\n",
       "      <th>time</th>\n",
       "      <th>pred1_from</th>\n",
       "      <th>pred1_to</th>\n",
       "      <th>residual1_from</th>\n",
       "      <th>residual1_to</th>\n",
       "      <th>...</th>\n",
       "      <th>holiday</th>\n",
       "      <th>pred3_from</th>\n",
       "      <th>pred3_to</th>\n",
       "      <th>residual3_from</th>\n",
       "      <th>residual3_to</th>\n",
       "      <th>DATE</th>\n",
       "      <th>TMAX</th>\n",
       "      <th>TMIN</th>\n",
       "      <th>PRCP</th>\n",
       "      <th>SNOW</th>\n",
       "    </tr>\n",
       "  </thead>\n",
       "  <tbody>\n",
       "    <tr>\n",
       "      <th>0</th>\n",
       "      <td>2013-01-01 00:00:00</td>\n",
       "      <td>44.0</td>\n",
       "      <td>45.0</td>\n",
       "      <td>0</td>\n",
       "      <td>1</td>\n",
       "      <td>96</td>\n",
       "      <td>61.092129</td>\n",
       "      <td>67.824442</td>\n",
       "      <td>-17.092129</td>\n",
       "      <td>-22.824442</td>\n",
       "      <td>...</td>\n",
       "      <td>1</td>\n",
       "      <td>-33.331128</td>\n",
       "      <td>-22.261662</td>\n",
       "      <td>77.331128</td>\n",
       "      <td>67.261662</td>\n",
       "      <td>2013-01-01</td>\n",
       "      <td>26.0</td>\n",
       "      <td>15.0</td>\n",
       "      <td>0.0</td>\n",
       "      <td>0.0</td>\n",
       "    </tr>\n",
       "    <tr>\n",
       "      <th>1</th>\n",
       "      <td>2013-01-01 00:15:00</td>\n",
       "      <td>84.0</td>\n",
       "      <td>62.0</td>\n",
       "      <td>1</td>\n",
       "      <td>1</td>\n",
       "      <td>97</td>\n",
       "      <td>56.049147</td>\n",
       "      <td>61.553566</td>\n",
       "      <td>27.950853</td>\n",
       "      <td>0.446434</td>\n",
       "      <td>...</td>\n",
       "      <td>1</td>\n",
       "      <td>-37.518407</td>\n",
       "      <td>-28.804380</td>\n",
       "      <td>121.518407</td>\n",
       "      <td>90.804380</td>\n",
       "      <td>2013-01-01</td>\n",
       "      <td>26.0</td>\n",
       "      <td>15.0</td>\n",
       "      <td>0.0</td>\n",
       "      <td>0.0</td>\n",
       "    </tr>\n",
       "    <tr>\n",
       "      <th>2</th>\n",
       "      <td>2013-01-01 00:30:00</td>\n",
       "      <td>71.0</td>\n",
       "      <td>87.0</td>\n",
       "      <td>2</td>\n",
       "      <td>1</td>\n",
       "      <td>98</td>\n",
       "      <td>50.090988</td>\n",
       "      <td>56.104074</td>\n",
       "      <td>20.909012</td>\n",
       "      <td>30.895926</td>\n",
       "      <td>...</td>\n",
       "      <td>1</td>\n",
       "      <td>-42.878239</td>\n",
       "      <td>-33.339945</td>\n",
       "      <td>113.878239</td>\n",
       "      <td>120.339945</td>\n",
       "      <td>2013-01-01</td>\n",
       "      <td>26.0</td>\n",
       "      <td>15.0</td>\n",
       "      <td>0.0</td>\n",
       "      <td>0.0</td>\n",
       "    </tr>\n",
       "    <tr>\n",
       "      <th>3</th>\n",
       "      <td>2013-01-01 00:45:00</td>\n",
       "      <td>61.0</td>\n",
       "      <td>75.0</td>\n",
       "      <td>3</td>\n",
       "      <td>1</td>\n",
       "      <td>99</td>\n",
       "      <td>45.461580</td>\n",
       "      <td>51.719734</td>\n",
       "      <td>15.538420</td>\n",
       "      <td>23.280266</td>\n",
       "      <td>...</td>\n",
       "      <td>1</td>\n",
       "      <td>-46.183679</td>\n",
       "      <td>-37.971744</td>\n",
       "      <td>107.183679</td>\n",
       "      <td>112.971744</td>\n",
       "      <td>2013-01-01</td>\n",
       "      <td>26.0</td>\n",
       "      <td>15.0</td>\n",
       "      <td>0.0</td>\n",
       "      <td>0.0</td>\n",
       "    </tr>\n",
       "    <tr>\n",
       "      <th>4</th>\n",
       "      <td>2013-01-01 01:00:00</td>\n",
       "      <td>62.0</td>\n",
       "      <td>63.0</td>\n",
       "      <td>4</td>\n",
       "      <td>1</td>\n",
       "      <td>100</td>\n",
       "      <td>42.581126</td>\n",
       "      <td>49.587636</td>\n",
       "      <td>19.418874</td>\n",
       "      <td>13.412364</td>\n",
       "      <td>...</td>\n",
       "      <td>1</td>\n",
       "      <td>-47.869871</td>\n",
       "      <td>-39.992665</td>\n",
       "      <td>109.869871</td>\n",
       "      <td>102.992665</td>\n",
       "      <td>2013-01-01</td>\n",
       "      <td>26.0</td>\n",
       "      <td>15.0</td>\n",
       "      <td>0.0</td>\n",
       "      <td>0.0</td>\n",
       "    </tr>\n",
       "  </tbody>\n",
       "</table>\n",
       "<p>5 rows × 24 columns</p>\n",
       "</div>"
      ],
      "text/plain": [
       "                 date  from    to  tod  dow  time  pred1_from   pred1_to  \\\n",
       "0 2013-01-01 00:00:00  44.0  45.0    0    1    96   61.092129  67.824442   \n",
       "1 2013-01-01 00:15:00  84.0  62.0    1    1    97   56.049147  61.553566   \n",
       "2 2013-01-01 00:30:00  71.0  87.0    2    1    98   50.090988  56.104074   \n",
       "3 2013-01-01 00:45:00  61.0  75.0    3    1    99   45.461580  51.719734   \n",
       "4 2013-01-01 01:00:00  62.0  63.0    4    1   100   42.581126  49.587636   \n",
       "\n",
       "   residual1_from  residual1_to ...   holiday  pred3_from   pred3_to  \\\n",
       "0      -17.092129    -22.824442 ...         1  -33.331128 -22.261662   \n",
       "1       27.950853      0.446434 ...         1  -37.518407 -28.804380   \n",
       "2       20.909012     30.895926 ...         1  -42.878239 -33.339945   \n",
       "3       15.538420     23.280266 ...         1  -46.183679 -37.971744   \n",
       "4       19.418874     13.412364 ...         1  -47.869871 -39.992665   \n",
       "\n",
       "   residual3_from  residual3_to        DATE  TMAX  TMIN  PRCP SNOW  \n",
       "0       77.331128     67.261662  2013-01-01  26.0  15.0   0.0  0.0  \n",
       "1      121.518407     90.804380  2013-01-01  26.0  15.0   0.0  0.0  \n",
       "2      113.878239    120.339945  2013-01-01  26.0  15.0   0.0  0.0  \n",
       "3      107.183679    112.971744  2013-01-01  26.0  15.0   0.0  0.0  \n",
       "4      109.869871    102.992665  2013-01-01  26.0  15.0   0.0  0.0  \n",
       "\n",
       "[5 rows x 24 columns]"
      ]
     },
     "execution_count": 66,
     "metadata": {},
     "output_type": "execute_result"
    }
   ],
   "source": [
    "df_by_date.head()"
   ]
  },
  {
   "cell_type": "markdown",
   "metadata": {},
   "source": [
    "See if I can pick out any obvious patterns between residuals of the time-only model and weather, from scatter plots."
   ]
  },
  {
   "cell_type": "code",
   "execution_count": 67,
   "metadata": {},
   "outputs": [
    {
     "data": {
      "text/plain": [
       "<matplotlib.collections.PathCollection at 0x109162da0>"
      ]
     },
     "execution_count": 67,
     "metadata": {},
     "output_type": "execute_result"
    },
    {
     "data": {
      "image/png": "[encoded data removed]",
      "text/plain": [
       "<matplotlib.figure.Figure at 0x1025c93c8>"
      ]
     },
     "metadata": {},
     "output_type": "display_data"
    }
   ],
   "source": [
    "plt.scatter(x=df_by_date['TMAX'], y=df_by_date['residual3_from'])"
   ]
  },
  {
   "cell_type": "code",
   "execution_count": 68,
   "metadata": {
    "scrolled": true
   },
   "outputs": [
    {
     "data": {
      "text/plain": [
       "<matplotlib.collections.PathCollection at 0x1025cecf8>"
      ]
     },
     "execution_count": 68,
     "metadata": {},
     "output_type": "execute_result"
    },
    {
     "data": {
      "image/png": "[encoded data removed]",
      "text/plain": [
       "<matplotlib.figure.Figure at 0x1025dedd8>"
      ]
     },
     "metadata": {},
     "output_type": "display_data"
    }
   ],
   "source": [
    "plt.scatter(x=df_by_date['PRCP'], y=df_by_date['residual3_from'])"
   ]
  },
  {
   "cell_type": "code",
   "execution_count": 69,
   "metadata": {},
   "outputs": [
    {
     "data": {
      "text/plain": [
       "<matplotlib.collections.PathCollection at 0x109240748>"
      ]
     },
     "execution_count": 69,
     "metadata": {},
     "output_type": "execute_result"
    },
    {
     "data": {
      "image/png": "[encoded data removed]",
      "text/plain": [
       "<matplotlib.figure.Figure at 0x102927a58>"
      ]
     },
     "metadata": {},
     "output_type": "display_data"
    }
   ],
   "source": [
    "plt.scatter(x=df_by_date['SNOW'], y=df_by_date['residual3_from'])"
   ]
  },
  {
   "cell_type": "code",
   "execution_count": 70,
   "metadata": {},
   "outputs": [
    {
     "data": {
      "text/html": [
       "<div>\n",
       "<style scoped>\n",
       "    .dataframe tbody tr th:only-of-type {\n",
       "        vertical-align: middle;\n",
       "    }\n",
       "\n",
       "    .dataframe tbody tr th {\n",
       "        vertical-align: top;\n",
       "    }\n",
       "\n",
       "    .dataframe thead th {\n",
       "        text-align: right;\n",
       "    }\n",
       "</style>\n",
       "<table border=\"1\" class=\"dataframe\">\n",
       "  <thead>\n",
       "    <tr style=\"text-align: right;\">\n",
       "      <th></th>\n",
       "      <th>TMAX</th>\n",
       "      <th>TMIN</th>\n",
       "      <th>PRCP</th>\n",
       "      <th>SNOW</th>\n",
       "      <th>residual3_from</th>\n",
       "      <th>residual3_to</th>\n",
       "    </tr>\n",
       "  </thead>\n",
       "  <tbody>\n",
       "    <tr>\n",
       "      <th>TMAX</th>\n",
       "      <td>1.000000</td>\n",
       "      <td>0.950942</td>\n",
       "      <td>0.084631</td>\n",
       "      <td>-0.242964</td>\n",
       "      <td>-0.013033</td>\n",
       "      <td>-0.000078</td>\n",
       "    </tr>\n",
       "    <tr>\n",
       "      <th>TMIN</th>\n",
       "      <td>0.950942</td>\n",
       "      <td>1.000000</td>\n",
       "      <td>0.090309</td>\n",
       "      <td>-0.255279</td>\n",
       "      <td>-0.013573</td>\n",
       "      <td>-0.002240</td>\n",
       "    </tr>\n",
       "    <tr>\n",
       "      <th>PRCP</th>\n",
       "      <td>0.084631</td>\n",
       "      <td>0.090309</td>\n",
       "      <td>1.000000</td>\n",
       "      <td>0.142562</td>\n",
       "      <td>-0.009439</td>\n",
       "      <td>-0.006201</td>\n",
       "    </tr>\n",
       "    <tr>\n",
       "      <th>SNOW</th>\n",
       "      <td>-0.242964</td>\n",
       "      <td>-0.255279</td>\n",
       "      <td>0.142562</td>\n",
       "      <td>1.000000</td>\n",
       "      <td>-0.025794</td>\n",
       "      <td>-0.026129</td>\n",
       "    </tr>\n",
       "    <tr>\n",
       "      <th>residual3_from</th>\n",
       "      <td>-0.013033</td>\n",
       "      <td>-0.013573</td>\n",
       "      <td>-0.009439</td>\n",
       "      <td>-0.025794</td>\n",
       "      <td>1.000000</td>\n",
       "      <td>0.813021</td>\n",
       "    </tr>\n",
       "    <tr>\n",
       "      <th>residual3_to</th>\n",
       "      <td>-0.000078</td>\n",
       "      <td>-0.002240</td>\n",
       "      <td>-0.006201</td>\n",
       "      <td>-0.026129</td>\n",
       "      <td>0.813021</td>\n",
       "      <td>1.000000</td>\n",
       "    </tr>\n",
       "  </tbody>\n",
       "</table>\n",
       "</div>"
      ],
      "text/plain": [
       "                    TMAX      TMIN      PRCP      SNOW  residual3_from  \\\n",
       "TMAX            1.000000  0.950942  0.084631 -0.242964       -0.013033   \n",
       "TMIN            0.950942  1.000000  0.090309 -0.255279       -0.013573   \n",
       "PRCP            0.084631  0.090309  1.000000  0.142562       -0.009439   \n",
       "SNOW           -0.242964 -0.255279  0.142562  1.000000       -0.025794   \n",
       "residual3_from -0.013033 -0.013573 -0.009439 -0.025794        1.000000   \n",
       "residual3_to   -0.000078 -0.002240 -0.006201 -0.026129        0.813021   \n",
       "\n",
       "                residual3_to  \n",
       "TMAX               -0.000078  \n",
       "TMIN               -0.002240  \n",
       "PRCP               -0.006201  \n",
       "SNOW               -0.026129  \n",
       "residual3_from      0.813021  \n",
       "residual3_to        1.000000  "
      ]
     },
     "execution_count": 70,
     "metadata": {},
     "output_type": "execute_result"
    }
   ],
   "source": [
    "df_by_date[['TMAX', 'TMIN', 'PRCP', 'SNOW', 'residual3_from', 'residual3_to']].corr()"
   ]
  },
  {
   "cell_type": "markdown",
   "metadata": {},
   "source": [
    "There's actually very little correlation between weather and taxi traffic, if you look at the whole day.\n",
    "\n",
    "Instead, I need to look at different times of the day separately."
   ]
  },
  {
   "cell_type": "code",
   "execution_count": 80,
   "metadata": {
    "scrolled": true
   },
   "outputs": [],
   "source": [
    "corr_from = np.array([df_by_date[df_by_date['tod'] == tod][['residual3_from', 'TMAX', 'TMIN', 'PRCP', 'SNOW']].corr().iloc[0, 1:5] for tod in range(4*24)])"
   ]
  },
  {
   "cell_type": "code",
   "execution_count": 81,
   "metadata": {},
   "outputs": [
    {
     "data": {
      "text/plain": [
       "array([[  1.57470793e-01,   1.73257884e-01,  -7.64006755e-03,\n",
       "         -2.85720038e-02],\n",
       "       [  1.89990552e-01,   2.03026898e-01,  -2.30195833e-02,\n",
       "         -4.46817372e-02],\n",
       "       [  1.92829401e-01,   2.02923671e-01,  -1.21470068e-02,\n",
       "         -5.03058303e-02],\n",
       "       [  2.02902842e-01,   2.14479211e-01,  -5.83733814e-03,\n",
       "         -4.64380870e-02],\n",
       "       [  2.05080686e-01,   2.15257637e-01,   2.83704347e-03,\n",
       "         -3.31980808e-02],\n",
       "       [  1.66110790e-01,   1.74234213e-01,  -1.33315530e-02,\n",
       "         -2.62206339e-02],\n",
       "       [  1.27350186e-01,   1.36753843e-01,  -2.12513381e-02,\n",
       "         -2.09170304e-02],\n",
       "       [  9.84256555e-02,   1.06927323e-01,  -2.57614697e-02,\n",
       "          5.39627231e-03],\n",
       "       [  8.45889124e-02,   9.52841017e-02,  -3.39946731e-02,\n",
       "         -9.82102304e-03],\n",
       "       [  7.40202500e-02,   8.33154657e-02,  -2.73189039e-02,\n",
       "         -8.69735433e-03],\n",
       "       [  4.06522195e-02,   5.32865391e-02,  -3.54057909e-02,\n",
       "         -5.37984214e-03],\n",
       "       [  4.02060431e-02,   5.17556252e-02,  -2.97443882e-02,\n",
       "         -9.59011325e-03],\n",
       "       [  3.70575491e-02,   4.60236632e-02,  -2.86032225e-02,\n",
       "          3.26454745e-04],\n",
       "       [  1.67844056e-02,   2.71320723e-02,  -3.55934854e-02,\n",
       "          8.29105110e-03],\n",
       "       [  2.87997539e-03,   1.28334389e-02,  -3.77175779e-02,\n",
       "          1.58483690e-03],\n",
       "       [ -3.23955634e-03,   5.95642228e-03,  -4.25168623e-02,\n",
       "          1.20633819e-02],\n",
       "       [  3.96796207e-03,   1.57534794e-02,  -2.97549480e-02,\n",
       "          8.64461303e-03],\n",
       "       [  4.48574226e-03,   1.59628170e-02,  -3.86508523e-02,\n",
       "          3.46641936e-03],\n",
       "       [  1.47740011e-02,   2.37713045e-02,  -4.52202822e-02,\n",
       "         -5.34288452e-03],\n",
       "       [  2.36078885e-02,   3.41847614e-02,  -3.16456201e-02,\n",
       "         -5.85473079e-03],\n",
       "       [  4.63049919e-02,   5.34587398e-02,  -3.07442230e-02,\n",
       "         -1.06032227e-02],\n",
       "       [  4.62958313e-02,   5.60482976e-02,  -3.00283303e-02,\n",
       "         -7.15615041e-03],\n",
       "       [  4.45171143e-02,   5.52839606e-02,  -2.16873631e-02,\n",
       "         -1.43802528e-02],\n",
       "       [  5.19132268e-02,   5.76016837e-02,  -1.16783436e-02,\n",
       "         -2.51761122e-02],\n",
       "       [  9.12638081e-02,   9.96191245e-02,  -2.00380941e-02,\n",
       "         -3.78396584e-02],\n",
       "       [  6.68935231e-02,   7.90239311e-02,  -6.48622137e-05,\n",
       "         -4.28104408e-02],\n",
       "       [  5.89632482e-02,   6.27844499e-02,  -7.46260276e-03,\n",
       "         -5.67135273e-02],\n",
       "       [  4.61934606e-02,   3.96714703e-02,   1.10962821e-02,\n",
       "         -7.13320362e-02],\n",
       "       [  5.73104817e-02,   6.08728282e-02,   3.38396659e-02,\n",
       "         -4.98879418e-02],\n",
       "       [  4.01433274e-02,   3.56316648e-02,   1.47821641e-02,\n",
       "         -5.72011720e-02],\n",
       "       [  1.72179078e-02,   8.32977846e-03,   3.60570655e-02,\n",
       "         -6.49350190e-02],\n",
       "       [ -1.37437995e-02,  -2.85424846e-02,   1.56469768e-02,\n",
       "         -7.72723997e-02],\n",
       "       [ -2.16625985e-02,  -3.44673611e-02,   4.06396041e-02,\n",
       "         -3.92786935e-02],\n",
       "       [ -2.02804768e-03,  -1.60339758e-02,   3.95795069e-02,\n",
       "         -3.59989594e-02],\n",
       "       [ -1.86625237e-02,  -3.16823810e-02,   2.76280616e-02,\n",
       "         -2.31243471e-02],\n",
       "       [ -6.36417188e-03,  -2.38745497e-02,   3.44706403e-02,\n",
       "         -4.38520800e-02],\n",
       "       [ -2.31680006e-02,  -4.03336441e-02,   4.08613454e-02,\n",
       "         -3.26973278e-02],\n",
       "       [ -2.79768124e-02,  -4.09595086e-02,   4.49198416e-02,\n",
       "         -9.36901007e-03],\n",
       "       [ -1.97599242e-02,  -3.53885196e-02,   2.74625248e-02,\n",
       "         -2.34089623e-02],\n",
       "       [ -3.56956806e-02,  -5.01510851e-02,   1.36108074e-02,\n",
       "         -2.43918591e-02],\n",
       "       [ -3.59970778e-02,  -5.03363334e-02,   1.26053480e-03,\n",
       "         -4.12073274e-03],\n",
       "       [ -1.60985044e-02,  -2.47074722e-02,   3.28990459e-02,\n",
       "         -1.36314431e-03],\n",
       "       [  4.20538895e-03,  -4.05506985e-03,   1.91674633e-02,\n",
       "         -3.38149297e-02],\n",
       "       [ -7.61720305e-03,  -1.51175963e-02,   4.97815822e-03,\n",
       "         -3.39095980e-02],\n",
       "       [  1.25816823e-02,   7.29599561e-03,  -8.98211715e-04,\n",
       "         -2.95358802e-02],\n",
       "       [  2.69204236e-02,   2.08595244e-02,   2.45590594e-02,\n",
       "         -3.25113952e-02],\n",
       "       [ -8.59059115e-03,  -9.25869694e-03,   2.37894383e-04,\n",
       "         -4.50474049e-02],\n",
       "       [ -3.98272896e-02,  -4.41251448e-02,  -6.09004295e-03,\n",
       "         -4.60260161e-02],\n",
       "       [ -3.88820134e-02,  -3.90195489e-02,  -1.79705908e-02,\n",
       "         -4.24297037e-02],\n",
       "       [ -1.46107499e-02,  -1.75087044e-02,  -1.37655497e-02,\n",
       "         -4.89099851e-02],\n",
       "       [ -9.68753584e-04,  -3.89617356e-03,  -7.15875944e-03,\n",
       "         -5.17994097e-02],\n",
       "       [ -5.45703752e-02,  -6.15404330e-02,  -1.74974919e-02,\n",
       "         -4.36403985e-02],\n",
       "       [ -5.82746738e-02,  -5.95380016e-02,  -2.42132171e-02,\n",
       "         -3.57653222e-02],\n",
       "       [ -2.30065706e-02,  -2.11019820e-02,  -3.05413154e-02,\n",
       "         -4.06085864e-02],\n",
       "       [ -1.44740176e-02,  -1.61037055e-02,  -3.58938163e-02,\n",
       "         -5.82929437e-02],\n",
       "       [ -5.11692744e-02,  -5.28814718e-02,  -2.12672761e-02,\n",
       "         -4.71234401e-02],\n",
       "       [ -5.72123895e-02,  -5.62951695e-02,  -2.82942812e-02,\n",
       "         -3.98804617e-02],\n",
       "       [ -8.70698079e-02,  -9.25422208e-02,  -1.86299126e-02,\n",
       "         -2.49375329e-02],\n",
       "       [ -7.21058560e-02,  -7.27526477e-02,  -3.57323777e-02,\n",
       "         -2.63439344e-02],\n",
       "       [ -9.06741985e-02,  -9.06899589e-02,  -2.61424484e-02,\n",
       "         -2.16324046e-02],\n",
       "       [ -3.38107431e-02,  -3.75764047e-02,  -1.37786891e-02,\n",
       "         -3.24901273e-02],\n",
       "       [ -3.72382794e-02,  -4.25629607e-02,  -1.95780666e-02,\n",
       "         -3.90161970e-02],\n",
       "       [ -3.14363555e-02,  -3.39213555e-02,  -2.82944216e-03,\n",
       "         -3.66829864e-02],\n",
       "       [ -2.33151841e-02,  -2.60026789e-02,  -1.40416504e-02,\n",
       "         -4.68002338e-02],\n",
       "       [ -3.41995979e-02,  -3.89900059e-02,  -1.98245554e-02,\n",
       "         -3.92090455e-02],\n",
       "       [ -5.58555153e-02,  -5.53272710e-02,  -1.59579070e-02,\n",
       "         -3.91685922e-02],\n",
       "       [ -9.58785497e-02,  -9.78043624e-02,  -2.26867487e-02,\n",
       "         -1.99002233e-02],\n",
       "       [ -1.13806451e-01,  -1.16950376e-01,  -2.12627501e-02,\n",
       "         -1.34128912e-02],\n",
       "       [ -1.26342949e-01,  -1.25290510e-01,  -7.97417345e-03,\n",
       "         -2.27661391e-04],\n",
       "       [ -1.37926979e-01,  -1.40042395e-01,  -1.33627108e-02,\n",
       "          7.64454406e-03],\n",
       "       [ -1.24991735e-01,  -1.25283848e-01,  -1.70331388e-02,\n",
       "         -1.00438554e-02],\n",
       "       [ -1.36851871e-01,  -1.36055664e-01,  -4.64004376e-03,\n",
       "          3.61912944e-03],\n",
       "       [ -1.32182366e-01,  -1.32901970e-01,  -1.67959089e-02,\n",
       "         -8.16932492e-04],\n",
       "       [ -1.45753547e-01,  -1.40102616e-01,  -2.14617213e-02,\n",
       "          6.74177494e-03],\n",
       "       [ -1.21458056e-01,  -1.17486935e-01,  -1.77384509e-02,\n",
       "         -2.29529756e-03],\n",
       "       [ -1.09455616e-01,  -1.02931372e-01,  -2.66157663e-02,\n",
       "         -9.02630866e-03],\n",
       "       [ -8.26885170e-02,  -7.74650215e-02,  -1.63960465e-02,\n",
       "         -1.15307402e-02],\n",
       "       [ -7.89512167e-02,  -7.36131597e-02,  -1.74079542e-02,\n",
       "         -1.72080421e-02],\n",
       "       [ -6.66062097e-02,  -6.49374259e-02,  -1.60130794e-02,\n",
       "         -1.89951600e-02],\n",
       "       [ -4.07940307e-02,  -4.10875338e-02,  -2.19695641e-02,\n",
       "         -1.87483000e-02],\n",
       "       [ -2.56914927e-02,  -2.59565495e-02,  -1.23000115e-02,\n",
       "         -2.29465722e-02],\n",
       "       [ -1.10566739e-02,  -8.89217717e-03,  -1.72126650e-02,\n",
       "         -3.34622199e-02],\n",
       "       [  9.01649890e-03,   1.15925705e-02,  -2.88331719e-02,\n",
       "         -3.82269424e-02],\n",
       "       [  4.90121107e-02,   4.86871104e-02,  -1.77797885e-02,\n",
       "         -4.01873081e-02],\n",
       "       [  5.32954394e-02,   5.26752587e-02,  -9.19748930e-03,\n",
       "         -5.03565992e-02],\n",
       "       [  7.28258737e-02,   7.40712947e-02,  -1.26512358e-02,\n",
       "         -4.38577366e-02],\n",
       "       [  8.00372100e-02,   8.42348237e-02,  -2.54043363e-02,\n",
       "         -4.29868378e-02],\n",
       "       [  1.14685745e-01,   1.22195103e-01,  -9.96292033e-03,\n",
       "         -5.27800594e-02],\n",
       "       [  1.33545439e-01,   1.37093444e-01,  -1.55798596e-02,\n",
       "         -5.61989177e-02],\n",
       "       [  1.07495354e-01,   1.11876580e-01,  -2.47824371e-02,\n",
       "         -5.06361627e-02],\n",
       "       [  1.16663455e-01,   1.22965453e-01,  -1.47901351e-02,\n",
       "         -4.07125938e-02],\n",
       "       [  1.21782334e-01,   1.22236463e-01,  -5.88692560e-03,\n",
       "         -3.77943170e-02],\n",
       "       [  1.60359934e-01,   1.64031451e-01,  -2.92209514e-03,\n",
       "         -4.73530708e-02],\n",
       "       [  1.21199267e-01,   1.24203390e-01,  -1.87462050e-02,\n",
       "         -4.15854936e-02],\n",
       "       [  1.15629629e-01,   1.16350531e-01,  -1.46462439e-02,\n",
       "         -3.46915211e-02],\n",
       "       [  1.38437914e-01,   1.45954788e-01,  -1.50886834e-02,\n",
       "         -3.12585376e-02]])"
      ]
     },
     "execution_count": 81,
     "metadata": {},
     "output_type": "execute_result"
    }
   ],
   "source": [
    "corr_from"
   ]
  },
  {
   "cell_type": "code",
   "execution_count": 82,
   "metadata": {
    "scrolled": true
   },
   "outputs": [
    {
     "data": {
      "image/png": "[encoded data removed]",
      "text/plain": [
       "<matplotlib.figure.Figure at 0x10c7fc5c0>"
      ]
     },
     "metadata": {},
     "output_type": "display_data"
    }
   ],
   "source": [
    "plt.plot(corr_from)\n",
    "plt.show()"
   ]
  },
  {
   "cell_type": "code",
   "execution_count": 83,
   "metadata": {
    "scrolled": true
   },
   "outputs": [],
   "source": [
    "corr_to = np.array([df_by_date[df_by_date['tod'] == tod][['residual3_to', 'TMAX', 'TMIN', 'PRCP', 'SNOW']].corr().iloc[0, 1:5] for tod in range(4*24)])"
   ]
  },
  {
   "cell_type": "code",
   "execution_count": 84,
   "metadata": {
    "scrolled": true
   },
   "outputs": [
    {
     "data": {
      "image/png": "[encoded data removed]",
      "text/plain": [
       "<matplotlib.figure.Figure at 0x10ac47438>"
      ]
     },
     "metadata": {},
     "output_type": "display_data"
    }
   ],
   "source": [
    "plt.plot(corr_to)\n",
    "plt.show()"
   ]
  },
  {
   "cell_type": "markdown",
   "metadata": {},
   "source": [
    "Blue (TMAX) and orange (TMIN) have the same clear pattern. More people take the taxi late at night when it's warm, and during the day and early evening when it's cold. Makes sense. There needs to be some nonlinearity to take this into account. TMAX and TMIN basically convey the same information, so I will only keep TMAX.\n",
    "\n",
    "There also seems to be a pattern from precipitation, but it's small."
   ]
  },
  {
   "cell_type": "code",
   "execution_count": 85,
   "metadata": {},
   "outputs": [],
   "source": [
    "ss = StandardScaler()\n",
    "weather_scaled = ss.fit_transform(df_by_date[['TMAX', 'PRCP', 'SNOW']])"
   ]
  },
  {
   "cell_type": "code",
   "execution_count": 86,
   "metadata": {},
   "outputs": [],
   "source": [
    "X4 = scipy.sparse.hstack((X3, weather_scaled))"
   ]
  },
  {
   "cell_type": "markdown",
   "metadata": {},
   "source": [
    "Try a simple neural network. 2-neuron network was not enough to remove the time-dependent component in the residuals, so I use a 5-neuron hidden layer."
   ]
  },
  {
   "cell_type": "code",
   "execution_count": 164,
   "metadata": {},
   "outputs": [],
   "source": [
    "nn_from = MLPRegressor(activation='logistic', hidden_layer_sizes=5)\n",
    "nn_to = MLPRegressor(activation='logistic', hidden_layer_sizes=5)"
   ]
  },
  {
   "cell_type": "code",
   "execution_count": 165,
   "metadata": {
    "scrolled": true
   },
   "outputs": [
    {
     "name": "stderr",
     "output_type": "stream",
     "text": [
      "/opt/local/Library/Frameworks/Python.framework/Versions/3.6/lib/python3.6/site-packages/sklearn/neural_network/multilayer_perceptron.py:564: ConvergenceWarning: Stochastic Optimizer: Maximum iterations (200) reached and the optimization hasn't converged yet.\n",
      "  % self.max_iter, ConvergenceWarning)\n"
     ]
    },
    {
     "data": {
      "text/plain": [
       "MLPRegressor(activation='logistic', alpha=0.0001, batch_size='auto',\n",
       "       beta_1=0.9, beta_2=0.999, early_stopping=False, epsilon=1e-08,\n",
       "       hidden_layer_sizes=5, learning_rate='constant',\n",
       "       learning_rate_init=0.001, max_iter=200, momentum=0.9,\n",
       "       nesterovs_momentum=True, power_t=0.5, random_state=None,\n",
       "       shuffle=True, solver='adam', tol=0.0001, validation_fraction=0.1,\n",
       "       verbose=False, warm_start=False)"
      ]
     },
     "execution_count": 165,
     "metadata": {},
     "output_type": "execute_result"
    }
   ],
   "source": [
    "nn_from.fit(X4, df_by_date['from'])"
   ]
  },
  {
   "cell_type": "code",
   "execution_count": 166,
   "metadata": {
    "scrolled": true
   },
   "outputs": [
    {
     "data": {
      "text/plain": [
       "0.86682861123123778"
      ]
     },
     "execution_count": 166,
     "metadata": {},
     "output_type": "execute_result"
    }
   ],
   "source": [
    "nn_from.score(X4, df_by_date['from'])"
   ]
  },
  {
   "cell_type": "code",
   "execution_count": 167,
   "metadata": {
    "scrolled": true
   },
   "outputs": [
    {
     "name": "stderr",
     "output_type": "stream",
     "text": [
      "/opt/local/Library/Frameworks/Python.framework/Versions/3.6/lib/python3.6/site-packages/sklearn/neural_network/multilayer_perceptron.py:564: ConvergenceWarning: Stochastic Optimizer: Maximum iterations (200) reached and the optimization hasn't converged yet.\n",
      "  % self.max_iter, ConvergenceWarning)\n"
     ]
    },
    {
     "data": {
      "text/plain": [
       "MLPRegressor(activation='logistic', alpha=0.0001, batch_size='auto',\n",
       "       beta_1=0.9, beta_2=0.999, early_stopping=False, epsilon=1e-08,\n",
       "       hidden_layer_sizes=5, learning_rate='constant',\n",
       "       learning_rate_init=0.001, max_iter=200, momentum=0.9,\n",
       "       nesterovs_momentum=True, power_t=0.5, random_state=None,\n",
       "       shuffle=True, solver='adam', tol=0.0001, validation_fraction=0.1,\n",
       "       verbose=False, warm_start=False)"
      ]
     },
     "execution_count": 167,
     "metadata": {},
     "output_type": "execute_result"
    }
   ],
   "source": [
    "nn_to.fit(X4, df_by_date['to'])"
   ]
  },
  {
   "cell_type": "code",
   "execution_count": 168,
   "metadata": {},
   "outputs": [
    {
     "data": {
      "text/plain": [
       "0.85133328172031841"
      ]
     },
     "execution_count": 168,
     "metadata": {},
     "output_type": "execute_result"
    }
   ],
   "source": [
    "nn_to.score(X4, df_by_date['to'])"
   ]
  },
  {
   "cell_type": "markdown",
   "metadata": {},
   "source": [
    "The models appear to have mostly converged, despite the warning."
   ]
  },
  {
   "cell_type": "code",
   "execution_count": 182,
   "metadata": {},
   "outputs": [
    {
     "data": {
      "image/png": "[encoded data removed]",
      "text/plain": [
       "<matplotlib.figure.Figure at 0x10d212a58>"
      ]
     },
     "metadata": {},
     "output_type": "display_data"
    }
   ],
   "source": [
    "plt.plot(nn_from.loss_curve_)\n",
    "plt.plot(nn_to.loss_curve_)\n",
    "plt.show()"
   ]
  },
  {
   "cell_type": "code",
   "execution_count": 169,
   "metadata": {},
   "outputs": [],
   "source": [
    "pred_nn_from = nn_from.predict(X4)\n",
    "pred_nn_to = nn_to.predict(X4)\n",
    "residual_nn_from = df_by_date['from'] - pred_nn_from\n",
    "residual_nn_to = df_by_date['to'] - pred_nn_to"
   ]
  },
  {
   "cell_type": "code",
   "execution_count": 170,
   "metadata": {},
   "outputs": [],
   "source": [
    "df_by_date['residual_nn_from'] = residual_nn_from\n",
    "df_by_date['residual_nn_to'] = residual_nn_to"
   ]
  },
  {
   "cell_type": "code",
   "execution_count": 171,
   "metadata": {
    "scrolled": true
   },
   "outputs": [],
   "source": [
    "corr_nn_from = np.array([df_by_date[df_by_date['tod'] == tod][['residual_nn_from', 'TMAX', 'TMIN', 'PRCP', 'SNOW']].corr().iloc[0, 1:5] for tod in range(4*24)])"
   ]
  },
  {
   "cell_type": "code",
   "execution_count": 172,
   "metadata": {
    "scrolled": false
   },
   "outputs": [
    {
     "data": {
      "image/png": "[encoded data removed]",
      "text/plain": [
       "<matplotlib.figure.Figure at 0x10b0ce588>"
      ]
     },
     "metadata": {},
     "output_type": "display_data"
    }
   ],
   "source": [
    "plt.plot(corr_nn_from)\n",
    "plt.show()"
   ]
  },
  {
   "cell_type": "code",
   "execution_count": 173,
   "metadata": {
    "scrolled": true
   },
   "outputs": [],
   "source": [
    "corr_to = np.array([df_by_date[df_by_date['tod'] == tod][['residual_nn_to', 'TMAX', 'TMIN', 'PRCP', 'SNOW']].corr().iloc[0, 1:5] for tod in range(4*24)])"
   ]
  },
  {
   "cell_type": "code",
   "execution_count": 174,
   "metadata": {
    "scrolled": true
   },
   "outputs": [
    {
     "data": {
      "image/png": "[encoded data removed]",
      "text/plain": [
       "<matplotlib.figure.Figure at 0x10adda860>"
      ]
     },
     "metadata": {},
     "output_type": "display_data"
    }
   ],
   "source": [
    "plt.plot(corr_to)\n",
    "plt.show()"
   ]
  },
  {
   "cell_type": "code",
   "execution_count": 183,
   "metadata": {},
   "outputs": [
    {
     "data": {
      "text/plain": [
       "count    160609.000000\n",
       "mean         -0.043062\n",
       "std          33.998298\n",
       "min        -244.664126\n",
       "25%         -13.580100\n",
       "50%          -1.354362\n",
       "75%          14.454870\n",
       "max         278.467032\n",
       "Name: from, dtype: float64"
      ]
     },
     "execution_count": 183,
     "metadata": {},
     "output_type": "execute_result"
    }
   ],
   "source": [
    "residual_nn_from.describe()"
   ]
  },
  {
   "cell_type": "code",
   "execution_count": 184,
   "metadata": {
    "scrolled": true
   },
   "outputs": [
    {
     "data": {
      "text/plain": [
       "count    160609.000000\n",
       "mean         -0.052601\n",
       "std          32.728015\n",
       "min        -259.919552\n",
       "25%         -13.600291\n",
       "50%          -1.020326\n",
       "75%          14.654643\n",
       "max         268.427627\n",
       "Name: to, dtype: float64"
      ]
     },
     "execution_count": 184,
     "metadata": {},
     "output_type": "execute_result"
    }
   ],
   "source": [
    "residual_nn_to.describe()"
   ]
  },
  {
   "cell_type": "markdown",
   "metadata": {},
   "source": [
    "### Pipeline model\n",
    "Now that I have the complete models for total taxi traffic to and from the Loop, make a pipeline model that can take me from a row containing date and weather to a prediction, and save the models as files, using pickle."
   ]
  },
  {
   "cell_type": "markdown",
   "metadata": {},
   "source": [
    "Input rows have 'dow', 'tod', 'holiday', 'TMAX', 'PRCP', 'SNOW' columns"
   ]
  },
  {
   "cell_type": "code",
   "execution_count": 212,
   "metadata": {
    "scrolled": true
   },
   "outputs": [],
   "source": [
    "class DateOneHotEncoder(BaseEstimator, TransformerMixin):\n",
    "    def __init__(self):\n",
    "        self.ohe = OneHotEncoder()\n",
    "        \n",
    "    def fit(self, X, y=None):\n",
    "        X['date'] = (24*4*df_by_date['dow'] + df_by_date['tod'])\n",
    "        self.ohe.fit(X[['date']])\n",
    "        return self\n",
    "    \n",
    "    def transform(self, X):\n",
    "        X['date'] = (24*4*df_by_date['dow'] + df_by_date['tod'])\n",
    "        return self.ohe.transform(X[['date']])"
   ]
  },
  {
   "cell_type": "code",
   "execution_count": 218,
   "metadata": {},
   "outputs": [],
   "source": [
    "class HolidayTransformer(BaseEstimator, TransformerMixin):\n",
    "    def fit(self, X, y=None):\n",
    "        return self\n",
    "    \n",
    "    def transform(self, X):\n",
    "        return X[['holiday']]"
   ]
  },
  {
   "cell_type": "code",
   "execution_count": 196,
   "metadata": {},
   "outputs": [],
   "source": [
    "class WeatherScaler(BaseEstimator, TransformerMixin):\n",
    "    def __init__(self):\n",
    "        self.ss = StandardScaler()\n",
    "        \n",
    "    def fit(self, X, y=None):\n",
    "        X_weather = X[['TMAX', 'PRCP', 'SNOW']]\n",
    "        self.ss.fit(X_weather)\n",
    "        return self\n",
    "    \n",
    "    def transform(self, X):\n",
    "        X_weather = X[['TMAX', 'PRCP', 'SNOW']]\n",
    "        return self.ss.transform(X_weather)"
   ]
  },
  {
   "cell_type": "code",
   "execution_count": 219,
   "metadata": {},
   "outputs": [],
   "source": [
    "model_from = Pipeline([('Transformers',\n",
    "                       FeatureUnion([('Date', DateOneHotEncoder()),\n",
    "                                    ('Holiday', HolidayTransformer()),\n",
    "                                    ('Weather', WeatherScaler())])),\n",
    "                     ('NN', MLPRegressor(activation='logistic',\n",
    "                                         hidden_layer_sizes=5))])"
   ]
  },
  {
   "cell_type": "code",
   "execution_count": 220,
   "metadata": {},
   "outputs": [
    {
     "name": "stderr",
     "output_type": "stream",
     "text": [
      "/opt/local/Library/Frameworks/Python.framework/Versions/3.6/lib/python3.6/site-packages/sklearn/neural_network/multilayer_perceptron.py:564: ConvergenceWarning: Stochastic Optimizer: Maximum iterations (200) reached and the optimization hasn't converged yet.\n",
      "  % self.max_iter, ConvergenceWarning)\n"
     ]
    },
    {
     "data": {
      "text/plain": [
       "Pipeline(memory=None,\n",
       "     steps=[('Transformers', FeatureUnion(n_jobs=1,\n",
       "       transformer_list=[('Date', DateOneHotEncoder()), ('Holiday', HolidayTransformer()), ('Weather', WeatherScaler())],\n",
       "       transformer_weights=None)), ('NN', MLPRegressor(activation='logistic', alpha=0.0001, batch_size='auto',\n",
       "       beta_1=0.9, b...=True, solver='adam', tol=0.0001, validation_fraction=0.1,\n",
       "       verbose=False, warm_start=False))])"
      ]
     },
     "execution_count": 220,
     "metadata": {},
     "output_type": "execute_result"
    }
   ],
   "source": [
    "model_from.fit(df_by_date, df_by_date['from'])"
   ]
  },
  {
   "cell_type": "code",
   "execution_count": 221,
   "metadata": {},
   "outputs": [
    {
     "data": {
      "text/plain": [
       "0.86666106979213609"
      ]
     },
     "execution_count": 221,
     "metadata": {},
     "output_type": "execute_result"
    }
   ],
   "source": [
    "model_from.score(df_by_date, df_by_date['from'])"
   ]
  },
  {
   "cell_type": "code",
   "execution_count": 225,
   "metadata": {},
   "outputs": [],
   "source": [
    "pickle.dump(model_from, open('model_from.pkl', 'wb'))"
   ]
  },
  {
   "cell_type": "code",
   "execution_count": 226,
   "metadata": {},
   "outputs": [],
   "source": [
    "model_to = Pipeline([('Transformers',\n",
    "                       FeatureUnion([('Date', DateOneHotEncoder()),\n",
    "                                    ('Holiday', HolidayTransformer()),\n",
    "                                    ('Weather', WeatherScaler())])),\n",
    "                     ('NN', MLPRegressor(activation='logistic',\n",
    "                                         hidden_layer_sizes=5))])"
   ]
  },
  {
   "cell_type": "code",
   "execution_count": 227,
   "metadata": {},
   "outputs": [
    {
     "name": "stderr",
     "output_type": "stream",
     "text": [
      "/opt/local/Library/Frameworks/Python.framework/Versions/3.6/lib/python3.6/site-packages/sklearn/neural_network/multilayer_perceptron.py:564: ConvergenceWarning: Stochastic Optimizer: Maximum iterations (200) reached and the optimization hasn't converged yet.\n",
      "  % self.max_iter, ConvergenceWarning)\n"
     ]
    },
    {
     "data": {
      "text/plain": [
       "Pipeline(memory=None,\n",
       "     steps=[('Transformers', FeatureUnion(n_jobs=1,\n",
       "       transformer_list=[('Date', DateOneHotEncoder()), ('Holiday', HolidayTransformer()), ('Weather', WeatherScaler())],\n",
       "       transformer_weights=None)), ('NN', MLPRegressor(activation='logistic', alpha=0.0001, batch_size='auto',\n",
       "       beta_1=0.9, b...=True, solver='adam', tol=0.0001, validation_fraction=0.1,\n",
       "       verbose=False, warm_start=False))])"
      ]
     },
     "execution_count": 227,
     "metadata": {},
     "output_type": "execute_result"
    }
   ],
   "source": [
    "model_to.fit(df_by_date, df_by_date['to'])"
   ]
  },
  {
   "cell_type": "code",
   "execution_count": 228,
   "metadata": {},
   "outputs": [
    {
     "data": {
      "text/plain": [
       "0.85117269820759733"
      ]
     },
     "execution_count": 228,
     "metadata": {},
     "output_type": "execute_result"
    }
   ],
   "source": [
    "model_to.score(df_by_date, df_by_date['to'])"
   ]
  },
  {
   "cell_type": "code",
   "execution_count": 229,
   "metadata": {},
   "outputs": [],
   "source": [
    "pickle.dump(model_to, open('model_to.pkl', 'wb'))"
   ]
  },
  {
   "cell_type": "markdown",
   "metadata": {},
   "source": [
    "### Old code"
   ]
  },
  {
   "cell_type": "code",
   "execution_count": 94,
   "metadata": {},
   "outputs": [],
   "source": [
    "X1_hol = scipy.sparse.hstack((X1, from_loop_by_date[['holiday']]))"
   ]
  },
  {
   "cell_type": "code",
   "execution_count": 96,
   "metadata": {},
   "outputs": [
    {
     "data": {
      "text/plain": [
       "LinearRegression(copy_X=True, fit_intercept=True, n_jobs=1, normalize=False)"
      ]
     },
     "execution_count": 96,
     "metadata": {},
     "output_type": "execute_result"
    }
   ],
   "source": [
    "lr1_hol = LinearRegression()\n",
    "lr1_hol.fit(X1_hol, from_loop_by_date['count'])"
   ]
  },
  {
   "cell_type": "code",
   "execution_count": 97,
   "metadata": {},
   "outputs": [
    {
     "data": {
      "text/plain": [
       "0.75230122966205815"
      ]
     },
     "execution_count": 97,
     "metadata": {},
     "output_type": "execute_result"
    }
   ],
   "source": [
    "lr1_hol.score(X1_hol, from_loop_by_date['count'])"
   ]
  },
  {
   "cell_type": "code",
   "execution_count": 98,
   "metadata": {},
   "outputs": [],
   "source": [
    "pred1_hol = lr1_hol.predict(X1_hol)"
   ]
  },
  {
   "cell_type": "code",
   "execution_count": 100,
   "metadata": {
    "scrolled": true
   },
   "outputs": [
    {
     "data": {
      "text/plain": [
       "count    1.606090e+05\n",
       "mean    -4.131570e-14\n",
       "std      4.228616e+01\n",
       "min     -1.841298e+02\n",
       "25%     -2.755188e+01\n",
       "50%     -7.632406e+00\n",
       "75%      2.974001e+01\n",
       "max      3.037774e+02\n",
       "Name: count, dtype: float64"
      ]
     },
     "execution_count": 100,
     "metadata": {},
     "output_type": "execute_result"
    }
   ],
   "source": [
    "(from_loop_by_date['count'] - pred1_hol).describe()"
   ]
  },
  {
   "cell_type": "code",
   "execution_count": 88,
   "metadata": {},
   "outputs": [],
   "source": [
    "gs_from = GridSearchCV(nn_from, param_grid={'hidden_layer_sizes': [2, 5, 10, 20]})"
   ]
  },
  {
   "cell_type": "code",
   "execution_count": 89,
   "metadata": {
    "scrolled": true
   },
   "outputs": [
    {
     "name": "stderr",
     "output_type": "stream",
     "text": [
      "/opt/local/Library/Frameworks/Python.framework/Versions/3.6/lib/python3.6/site-packages/sklearn/neural_network/multilayer_perceptron.py:564: ConvergenceWarning: Stochastic Optimizer: Maximum iterations (200) reached and the optimization hasn't converged yet.\n",
      "  % self.max_iter, ConvergenceWarning)\n",
      "/opt/local/Library/Frameworks/Python.framework/Versions/3.6/lib/python3.6/site-packages/sklearn/neural_network/multilayer_perceptron.py:564: ConvergenceWarning: Stochastic Optimizer: Maximum iterations (200) reached and the optimization hasn't converged yet.\n",
      "  % self.max_iter, ConvergenceWarning)\n",
      "/opt/local/Library/Frameworks/Python.framework/Versions/3.6/lib/python3.6/site-packages/sklearn/neural_network/multilayer_perceptron.py:564: ConvergenceWarning: Stochastic Optimizer: Maximum iterations (200) reached and the optimization hasn't converged yet.\n",
      "  % self.max_iter, ConvergenceWarning)\n",
      "/opt/local/Library/Frameworks/Python.framework/Versions/3.6/lib/python3.6/site-packages/sklearn/neural_network/multilayer_perceptron.py:564: ConvergenceWarning: Stochastic Optimizer: Maximum iterations (200) reached and the optimization hasn't converged yet.\n",
      "  % self.max_iter, ConvergenceWarning)\n",
      "/opt/local/Library/Frameworks/Python.framework/Versions/3.6/lib/python3.6/site-packages/sklearn/neural_network/multilayer_perceptron.py:564: ConvergenceWarning: Stochastic Optimizer: Maximum iterations (200) reached and the optimization hasn't converged yet.\n",
      "  % self.max_iter, ConvergenceWarning)\n",
      "/opt/local/Library/Frameworks/Python.framework/Versions/3.6/lib/python3.6/site-packages/sklearn/neural_network/multilayer_perceptron.py:564: ConvergenceWarning: Stochastic Optimizer: Maximum iterations (200) reached and the optimization hasn't converged yet.\n",
      "  % self.max_iter, ConvergenceWarning)\n",
      "/opt/local/Library/Frameworks/Python.framework/Versions/3.6/lib/python3.6/site-packages/sklearn/neural_network/multilayer_perceptron.py:564: ConvergenceWarning: Stochastic Optimizer: Maximum iterations (200) reached and the optimization hasn't converged yet.\n",
      "  % self.max_iter, ConvergenceWarning)\n",
      "/opt/local/Library/Frameworks/Python.framework/Versions/3.6/lib/python3.6/site-packages/sklearn/neural_network/multilayer_perceptron.py:564: ConvergenceWarning: Stochastic Optimizer: Maximum iterations (200) reached and the optimization hasn't converged yet.\n",
      "  % self.max_iter, ConvergenceWarning)\n",
      "/opt/local/Library/Frameworks/Python.framework/Versions/3.6/lib/python3.6/site-packages/sklearn/neural_network/multilayer_perceptron.py:564: ConvergenceWarning: Stochastic Optimizer: Maximum iterations (200) reached and the optimization hasn't converged yet.\n",
      "  % self.max_iter, ConvergenceWarning)\n",
      "/opt/local/Library/Frameworks/Python.framework/Versions/3.6/lib/python3.6/site-packages/sklearn/neural_network/multilayer_perceptron.py:564: ConvergenceWarning: Stochastic Optimizer: Maximum iterations (200) reached and the optimization hasn't converged yet.\n",
      "  % self.max_iter, ConvergenceWarning)\n",
      "/opt/local/Library/Frameworks/Python.framework/Versions/3.6/lib/python3.6/site-packages/sklearn/neural_network/multilayer_perceptron.py:564: ConvergenceWarning: Stochastic Optimizer: Maximum iterations (200) reached and the optimization hasn't converged yet.\n",
      "  % self.max_iter, ConvergenceWarning)\n",
      "/opt/local/Library/Frameworks/Python.framework/Versions/3.6/lib/python3.6/site-packages/sklearn/neural_network/multilayer_perceptron.py:564: ConvergenceWarning: Stochastic Optimizer: Maximum iterations (200) reached and the optimization hasn't converged yet.\n",
      "  % self.max_iter, ConvergenceWarning)\n",
      "/opt/local/Library/Frameworks/Python.framework/Versions/3.6/lib/python3.6/site-packages/sklearn/neural_network/multilayer_perceptron.py:564: ConvergenceWarning: Stochastic Optimizer: Maximum iterations (200) reached and the optimization hasn't converged yet.\n",
      "  % self.max_iter, ConvergenceWarning)\n"
     ]
    },
    {
     "data": {
      "text/plain": [
       "GridSearchCV(cv=None, error_score='raise',\n",
       "       estimator=MLPRegressor(activation='logistic', alpha=0.0001, batch_size='auto',\n",
       "       beta_1=0.9, beta_2=0.999, early_stopping=False, epsilon=1e-08,\n",
       "       hidden_layer_sizes=2, learning_rate='constant',\n",
       "       learning_rate_init=0.001, max_iter=200, momentum=0.9,\n",
       "       nesterovs_momentum=True, power_t=0.5, random_state=None,\n",
       "       shuffle=True, solver='adam', tol=0.0001, validation_fraction=0.1,\n",
       "       verbose=False, warm_start=False),\n",
       "       fit_params=None, iid=True, n_jobs=1,\n",
       "       param_grid={'hidden_layer_sizes': [2, 5, 10, 20]},\n",
       "       pre_dispatch='2*n_jobs', refit=True, return_train_score='warn',\n",
       "       scoring=None, verbose=0)"
      ]
     },
     "execution_count": 89,
     "metadata": {},
     "output_type": "execute_result"
    }
   ],
   "source": [
    "gs_from.fit(X4, df_by_date['from'])"
   ]
  },
  {
   "cell_type": "code",
   "execution_count": 90,
   "metadata": {},
   "outputs": [
    {
     "name": "stdout",
     "output_type": "stream",
     "text": [
      "{'hidden_layer_sizes': 20} 0.820048038805\n"
     ]
    }
   ],
   "source": [
    "print(gs_from.best_params_, gs_from.best_score_)"
   ]
  },
  {
   "cell_type": "code",
   "execution_count": 91,
   "metadata": {},
   "outputs": [
    {
     "data": {
      "text/plain": [
       "0.87142021330720554"
      ]
     },
     "execution_count": 91,
     "metadata": {},
     "output_type": "execute_result"
    }
   ],
   "source": [
    "gs_from.best_estimator_.score(X4, df_by_date['from'])"
   ]
  },
  {
   "cell_type": "code",
   "execution_count": null,
   "metadata": {},
   "outputs": [],
   "source": []
  }
 ],
 "metadata": {
  "kernelspec": {
   "display_name": "Python 3",
   "language": "python",
   "name": "python3"
  },
  "language_info": {
   "codemirror_mode": {
    "name": "ipython",
    "version": 3
   },
   "file_extension": ".py",
   "mimetype": "text/x-python",
   "name": "python",
   "nbconvert_exporter": "python",
   "pygments_lexer": "ipython3",
   "version": "3.6.4"
  }
 },
 "nbformat": 4,
 "nbformat_minor": 2
}
