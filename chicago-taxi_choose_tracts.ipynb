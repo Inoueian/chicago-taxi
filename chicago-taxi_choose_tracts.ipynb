{
 "cells": [
  {
   "cell_type": "markdown",
   "metadata": {},
   "source": [
    "# Summary\n",
    "This notebook looks at the groupbys of AM traffic to the Loop and PM traffic from the loop, to determine which census tracts need to be kept track of."
   ]
  },
  {
   "cell_type": "code",
   "execution_count": 1,
   "metadata": {},
   "outputs": [],
   "source": [
    "import numpy as np\n",
    "import pandas as pd\n",
    "import matplotlib.pyplot as plt"
   ]
  },
  {
   "cell_type": "code",
   "execution_count": 2,
   "metadata": {},
   "outputs": [],
   "source": [
    "#import the morning taxi rides to and from the loop\n",
    "df_am_to_loop = pd.read_json('Data/am_to_loop.json')\n",
    "df_pm_from_loop = pd.read_json('Data/pm_from_loop.json')"
   ]
  },
  {
   "cell_type": "code",
   "execution_count": 8,
   "metadata": {},
   "outputs": [],
   "source": [
    "#list of census tracts in the Loop.\n",
    "loop_tracts = [17031320100, 17031320400, 17031320600, 17031839000, 17031839100]"
   ]
  },
  {
   "cell_type": "markdown",
   "metadata": {},
   "source": [
    "Do some groupby operations and check what I need to do for the full data set."
   ]
  },
  {
   "cell_type": "code",
   "execution_count": 3,
   "metadata": {
    "scrolled": true
   },
   "outputs": [],
   "source": [
    "fare_df = pd.DataFrame(df_am_to_loop.groupby('Pickup Census Tract').mean()['fare'])\n",
    "fare_df2 = pd.DataFrame(df_pm_from_loop.groupby('Dropoff Census Tract').mean()['fare'])"
   ]
  },
  {
   "cell_type": "code",
   "execution_count": 4,
   "metadata": {
    "scrolled": true
   },
   "outputs": [],
   "source": [
    "fare_df.columns = ['mean_fare']\n",
    "fare_df2.columns = ['mean_fare']"
   ]
  },
  {
   "cell_type": "code",
   "execution_count": 5,
   "metadata": {},
   "outputs": [],
   "source": [
    "fare_df['std_fare'] = df_am_to_loop.groupby('Pickup Census Tract').std()['fare']\n",
    "fare_df['count'] = df_am_to_loop.groupby('Pickup Census Tract').count()['fare']\n",
    "fare_df['percentage'] = df_am_to_loop.groupby('Pickup Census Tract').count()['fare'] / sum(fare_df['count'])"
   ]
  },
  {
   "cell_type": "code",
   "execution_count": 6,
   "metadata": {
    "scrolled": true
   },
   "outputs": [
    {
     "data": {
      "text/html": [
       "<div>\n",
       "<style scoped>\n",
       "    .dataframe tbody tr th:only-of-type {\n",
       "        vertical-align: middle;\n",
       "    }\n",
       "\n",
       "    .dataframe tbody tr th {\n",
       "        vertical-align: top;\n",
       "    }\n",
       "\n",
       "    .dataframe thead th {\n",
       "        text-align: right;\n",
       "    }\n",
       "</style>\n",
       "<table border=\"1\" class=\"dataframe\">\n",
       "  <thead>\n",
       "    <tr style=\"text-align: right;\">\n",
       "      <th></th>\n",
       "      <th>mean_fare</th>\n",
       "      <th>std_fare</th>\n",
       "      <th>count</th>\n",
       "      <th>percentage</th>\n",
       "    </tr>\n",
       "    <tr>\n",
       "      <th>Pickup Census Tract</th>\n",
       "      <th></th>\n",
       "      <th></th>\n",
       "      <th></th>\n",
       "      <th></th>\n",
       "    </tr>\n",
       "  </thead>\n",
       "  <tbody>\n",
       "    <tr>\n",
       "      <th>17031010300</th>\n",
       "      <td>25.681707</td>\n",
       "      <td>1.901340</td>\n",
       "      <td>41</td>\n",
       "      <td>0.000011</td>\n",
       "    </tr>\n",
       "    <tr>\n",
       "      <th>17031010400</th>\n",
       "      <td>24.328571</td>\n",
       "      <td>2.375545</td>\n",
       "      <td>7</td>\n",
       "      <td>0.000002</td>\n",
       "    </tr>\n",
       "    <tr>\n",
       "      <th>17031010501</th>\n",
       "      <td>24.187719</td>\n",
       "      <td>2.625880</td>\n",
       "      <td>114</td>\n",
       "      <td>0.000029</td>\n",
       "    </tr>\n",
       "    <tr>\n",
       "      <th>17031010502</th>\n",
       "      <td>23.529286</td>\n",
       "      <td>2.580775</td>\n",
       "      <td>70</td>\n",
       "      <td>0.000018</td>\n",
       "    </tr>\n",
       "    <tr>\n",
       "      <th>17031010503</th>\n",
       "      <td>22.104412</td>\n",
       "      <td>2.937283</td>\n",
       "      <td>34</td>\n",
       "      <td>0.000009</td>\n",
       "    </tr>\n",
       "  </tbody>\n",
       "</table>\n",
       "</div>"
      ],
      "text/plain": [
       "                     mean_fare  std_fare  count  percentage\n",
       "Pickup Census Tract                                        \n",
       "17031010300          25.681707  1.901340     41    0.000011\n",
       "17031010400          24.328571  2.375545      7    0.000002\n",
       "17031010501          24.187719  2.625880    114    0.000029\n",
       "17031010502          23.529286  2.580775     70    0.000018\n",
       "17031010503          22.104412  2.937283     34    0.000009"
      ]
     },
     "execution_count": 6,
     "metadata": {},
     "output_type": "execute_result"
    }
   ],
   "source": [
    "fare_df.head()"
   ]
  },
  {
   "cell_type": "code",
   "execution_count": 7,
   "metadata": {},
   "outputs": [],
   "source": [
    "fare_df2['std_fare'] = df_pm_from_loop.groupby('Dropoff Census Tract').std()['fare']\n",
    "fare_df2['count'] = df_pm_from_loop.groupby('Dropoff Census Tract').count()['fare']\n",
    "fare_df2['percentage'] = df_pm_from_loop.groupby('Dropoff Census Tract').count()['fare'] / sum(fare_df2['count'])"
   ]
  },
  {
   "cell_type": "code",
   "execution_count": 8,
   "metadata": {},
   "outputs": [
    {
     "data": {
      "text/html": [
       "<div>\n",
       "<style scoped>\n",
       "    .dataframe tbody tr th:only-of-type {\n",
       "        vertical-align: middle;\n",
       "    }\n",
       "\n",
       "    .dataframe tbody tr th {\n",
       "        vertical-align: top;\n",
       "    }\n",
       "\n",
       "    .dataframe thead th {\n",
       "        text-align: right;\n",
       "    }\n",
       "</style>\n",
       "<table border=\"1\" class=\"dataframe\">\n",
       "  <thead>\n",
       "    <tr style=\"text-align: right;\">\n",
       "      <th></th>\n",
       "      <th>mean_fare</th>\n",
       "      <th>std_fare</th>\n",
       "      <th>count</th>\n",
       "      <th>percentage</th>\n",
       "    </tr>\n",
       "    <tr>\n",
       "      <th>Dropoff Census Tract</th>\n",
       "      <th></th>\n",
       "      <th></th>\n",
       "      <th></th>\n",
       "      <th></th>\n",
       "    </tr>\n",
       "  </thead>\n",
       "  <tbody>\n",
       "    <tr>\n",
       "      <th>17031010100</th>\n",
       "      <td>28.322727</td>\n",
       "      <td>6.260885</td>\n",
       "      <td>11</td>\n",
       "      <td>0.000002</td>\n",
       "    </tr>\n",
       "    <tr>\n",
       "      <th>17031010201</th>\n",
       "      <td>26.177273</td>\n",
       "      <td>8.854952</td>\n",
       "      <td>11</td>\n",
       "      <td>0.000002</td>\n",
       "    </tr>\n",
       "    <tr>\n",
       "      <th>17031010202</th>\n",
       "      <td>26.463636</td>\n",
       "      <td>7.180184</td>\n",
       "      <td>11</td>\n",
       "      <td>0.000002</td>\n",
       "    </tr>\n",
       "    <tr>\n",
       "      <th>17031010300</th>\n",
       "      <td>25.826770</td>\n",
       "      <td>4.153197</td>\n",
       "      <td>226</td>\n",
       "      <td>0.000032</td>\n",
       "    </tr>\n",
       "    <tr>\n",
       "      <th>17031010400</th>\n",
       "      <td>23.507521</td>\n",
       "      <td>3.429664</td>\n",
       "      <td>359</td>\n",
       "      <td>0.000050</td>\n",
       "    </tr>\n",
       "  </tbody>\n",
       "</table>\n",
       "</div>"
      ],
      "text/plain": [
       "                      mean_fare  std_fare  count  percentage\n",
       "Dropoff Census Tract                                        \n",
       "17031010100           28.322727  6.260885     11    0.000002\n",
       "17031010201           26.177273  8.854952     11    0.000002\n",
       "17031010202           26.463636  7.180184     11    0.000002\n",
       "17031010300           25.826770  4.153197    226    0.000032\n",
       "17031010400           23.507521  3.429664    359    0.000050"
      ]
     },
     "execution_count": 8,
     "metadata": {},
     "output_type": "execute_result"
    }
   ],
   "source": [
    "fare_df2.head()"
   ]
  },
  {
   "cell_type": "markdown",
   "metadata": {},
   "source": [
    "The standard deviations are huge for some rows. This appears to be due to outliers that are most likely mis-entered numbers. What I list below are some taxi rides within the Loop with fares over $1000. I suppose it's possible that some of these huge fares are from super luxurious rides, but those are rare anyway and I shouldn't have to worry too much about disregarding them."
   ]
  },
  {
   "cell_type": "code",
   "execution_count": 9,
   "metadata": {
    "scrolled": true
   },
   "outputs": [
    {
     "name": "stderr",
     "output_type": "stream",
     "text": [
      "/opt/local/Library/Frameworks/Python.framework/Versions/3.6/lib/python3.6/site-packages/ipykernel_launcher.py:1: UserWarning: Boolean Series key will be reindexed to match DataFrame index.\n",
      "  \"\"\"Entry point for launching an IPython kernel.\n"
     ]
    },
    {
     "data": {
      "text/plain": [
       "101738946    7000.56\n",
       "104047929    9000.58\n",
       "109255333    5000.46\n",
       "109775262    7000.50\n",
       "109961631    1690.66\n",
       "23061681     7000.64\n",
       "26688253     2020.20\n",
       "28093267     3963.92\n",
       "29876436     1000.72\n",
       "30969951     1551.94\n",
       "33426775     5000.47\n",
       "33731569     7000.50\n",
       "36736947     1000.70\n",
       "37514052     8000.52\n",
       "41529307     3000.40\n",
       "42477628     9001.84\n",
       "42987227     4000.44\n",
       "47582308     5000.50\n",
       "49333203     6000.74\n",
       "4952192      2271.50\n",
       "57880835     4000.48\n",
       "609207       5000.46\n",
       "66750185     7000.56\n",
       "68556552     1600.08\n",
       "69047545     2000.68\n",
       "69220261     7000.72\n",
       "74568598     6000.46\n",
       "78212470     1000.34\n",
       "80506905     6000.80\n",
       "81033236     6665.64\n",
       "82433378     6000.58\n",
       "83011738     1000.70\n",
       "83724776     4001.44\n",
       "97101110     7000.54\n",
       "99110289     7000.60\n",
       "Name: fare, dtype: float64"
      ]
     },
     "execution_count": 9,
     "metadata": {},
     "output_type": "execute_result"
    }
   ],
   "source": [
    "df_am_to_loop[df_am_to_loop['Pickup Census Tract'] == 17031839100][df_am_to_loop['fare'] > 1000]['fare']"
   ]
  },
  {
   "cell_type": "markdown",
   "metadata": {},
   "source": [
    "So, I need to find a way to omit outliers in a defensible way, and then I can simply use census tracts as proxy for fares."
   ]
  },
  {
   "cell_type": "markdown",
   "metadata": {},
   "source": [
    "Now, see how many census tracts I should keep track of. I should spend memory and computational resources looking at census tracts that only get 0.1% of total traffic."
   ]
  },
  {
   "cell_type": "code",
   "execution_count": 10,
   "metadata": {},
   "outputs": [],
   "source": [
    "ratios = np.array(fare_df.sort_values(by='percentage', ascending=False)['percentage'])\n",
    "ratios_log = np.log(np.array(fare_df.sort_values(by='percentage', ascending=False)['percentage']))"
   ]
  },
  {
   "cell_type": "code",
   "execution_count": 11,
   "metadata": {},
   "outputs": [
    {
     "data": {
      "text/plain": [
       "array([ 0.1160265 ,  0.10203468,  0.10122042,  0.06762828,  0.06282786,\n",
       "        0.04693577,  0.03985889,  0.03868702,  0.03701185,  0.03102382,\n",
       "        0.02712041,  0.02620148,  0.02581601,  0.0247135 ,  0.02470731,\n",
       "        0.01776606,  0.01579231,  0.01318144,  0.01254639,  0.01230892,\n",
       "        0.01192912,  0.01121852,  0.0098329 ,  0.00971713,  0.00969135,\n",
       "        0.00685384,  0.00568455,  0.00552057,  0.00532151,  0.00497266])"
      ]
     },
     "execution_count": 11,
     "metadata": {},
     "output_type": "execute_result"
    }
   ],
   "source": [
    "ratios[:30]"
   ]
  },
  {
   "cell_type": "code",
   "execution_count": 12,
   "metadata": {},
   "outputs": [],
   "source": [
    "ratios2 = np.array(fare_df2.sort_values(by='percentage', ascending=False)['percentage'])\n",
    "ratios2_log = np.log(np.array(fare_df2.sort_values(by='percentage', ascending=False)['percentage']))"
   ]
  },
  {
   "cell_type": "code",
   "execution_count": 13,
   "metadata": {},
   "outputs": [
    {
     "data": {
      "text/plain": [
       "array([ 0.10460638,  0.0690915 ,  0.0673416 ,  0.05943597,  0.05793944,\n",
       "        0.04463791,  0.0424464 ,  0.03928429,  0.03784925,  0.03133721,\n",
       "        0.02979264,  0.02807356,  0.02744693,  0.02534016,  0.02398411,\n",
       "        0.02348999,  0.02051387,  0.0166855 ,  0.01457663,  0.01341737,\n",
       "        0.01121578,  0.01056437,  0.01013733,  0.00986477,  0.00959432,\n",
       "        0.00919361,  0.0090852 ,  0.00713628,  0.00699314,  0.00686527])"
      ]
     },
     "execution_count": 13,
     "metadata": {},
     "output_type": "execute_result"
    }
   ],
   "source": [
    "ratios2[:30]"
   ]
  },
  {
   "cell_type": "code",
   "execution_count": 14,
   "metadata": {
    "scrolled": true
   },
   "outputs": [
    {
     "data": {
      "image/png": "[encoded data removed]",
      "text/plain": [
       "<matplotlib.figure.Figure at 0x1f613c160>"
      ]
     },
     "metadata": {},
     "output_type": "display_data"
    }
   ],
   "source": [
    "plt.hist(ratios_log)\n",
    "plt.show()"
   ]
  },
  {
   "cell_type": "code",
   "execution_count": 15,
   "metadata": {},
   "outputs": [
    {
     "data": {
      "image/png": "[encoded data removed]",
      "text/plain": [
       "<matplotlib.figure.Figure at 0x218212f98>"
      ]
     },
     "metadata": {},
     "output_type": "display_data"
    }
   ],
   "source": [
    "plt.hist(ratios2_log)\n",
    "plt.show()"
   ]
  },
  {
   "cell_type": "markdown",
   "metadata": {},
   "source": [
    "How many census tracts have more than a certain proportion of total rides?"
   ]
  },
  {
   "cell_type": "code",
   "execution_count": 16,
   "metadata": {
    "scrolled": true
   },
   "outputs": [
    {
     "name": "stdout",
     "output_type": "stream",
     "text": [
      "22\n",
      "29\n",
      "48\n"
     ]
    }
   ],
   "source": [
    "print(sum(ratios > 0.01))\n",
    "print(sum(ratios > 0.005))\n",
    "print(sum(ratios > 0.001))"
   ]
  },
  {
   "cell_type": "code",
   "execution_count": 17,
   "metadata": {},
   "outputs": [
    {
     "name": "stdout",
     "output_type": "stream",
     "text": [
      "23\n",
      "33\n",
      "73\n"
     ]
    }
   ],
   "source": [
    "print(sum(ratios2 > 0.01))\n",
    "print(sum(ratios2 > 0.005))\n",
    "print(sum(ratios2 > 0.001))"
   ]
  },
  {
   "cell_type": "markdown",
   "metadata": {},
   "source": [
    "How many census tracts do we need to get X % of the rides?"
   ]
  },
  {
   "cell_type": "code",
   "execution_count": 18,
   "metadata": {
    "scrolled": true
   },
   "outputs": [
    {
     "name": "stdout",
     "output_type": "stream",
     "text": [
      "61\n",
      "35\n",
      "25\n"
     ]
    }
   ],
   "source": [
    "print(sum(ratios.cumsum() < 0.99))\n",
    "print(sum(ratios.cumsum() < 0.95))\n",
    "print(sum(ratios.cumsum() < 0.9))"
   ]
  },
  {
   "cell_type": "code",
   "execution_count": 19,
   "metadata": {},
   "outputs": [
    {
     "name": "stdout",
     "output_type": "stream",
     "text": [
      "118\n",
      "59\n",
      "36\n"
     ]
    }
   ],
   "source": [
    "print(sum(ratios2.cumsum() < 0.99))\n",
    "print(sum(ratios2.cumsum() < 0.95))\n",
    "print(sum(ratios2.cumsum() < 0.9))"
   ]
  },
  {
   "cell_type": "markdown",
   "metadata": {},
   "source": [
    "I will keep 36 census tracts, to cover 90% of the PM traffic from the Loop. See how well the rush hour census tracts overlap."
   ]
  },
  {
   "cell_type": "code",
   "execution_count": 20,
   "metadata": {},
   "outputs": [],
   "source": [
    "top_25_census_tracts = np.array(fare_df.sort_values(by='percentage', ascending=False).index[:25])"
   ]
  },
  {
   "cell_type": "code",
   "execution_count": 21,
   "metadata": {},
   "outputs": [
    {
     "data": {
      "text/plain": [
       "array([17031839100, 17031320100, 17031281900, 17031280100, 17031081500,\n",
       "       17031081403, 17031081800, 17031980000, 17031081700, 17031081401,\n",
       "       17031081300, 17031081201, 17031330100, 17031081600, 17031320400,\n",
       "       17031081000, 17031320600, 17031980100, 17031080100, 17031081402,\n",
       "       17031833100, 17031081100, 17031071500, 17031080202, 17031081202])"
      ]
     },
     "execution_count": 21,
     "metadata": {},
     "output_type": "execute_result"
    }
   ],
   "source": [
    "top_25_census_tracts"
   ]
  },
  {
   "cell_type": "code",
   "execution_count": 22,
   "metadata": {},
   "outputs": [],
   "source": [
    "top_36_census_tracts = np.array(fare_df2.sort_values(by='percentage', ascending=False).index[:36])"
   ]
  },
  {
   "cell_type": "code",
   "execution_count": 23,
   "metadata": {},
   "outputs": [
    {
     "data": {
      "text/plain": [
       "set()"
      ]
     },
     "execution_count": 23,
     "metadata": {},
     "output_type": "execute_result"
    }
   ],
   "source": [
    "set(top_25_census_tracts) - set(top_36_census_tracts)"
   ]
  },
  {
   "cell_type": "markdown",
   "metadata": {},
   "source": [
    "All members of top 36 are in the top 25."
   ]
  },
  {
   "cell_type": "code",
   "execution_count": 24,
   "metadata": {},
   "outputs": [
    {
     "data": {
      "text/plain": [
       "array([17031839100, 17031281900, 17031320100, 17031081500, 17031081700,\n",
       "       17031081403, 17031280100, 17031081800, 17031081201, 17031330100,\n",
       "       17031833000, 17031081600, 17031980000, 17031081300, 17031320400,\n",
       "       17031081401, 17031081402, 17031320600, 17031833100, 17031071500,\n",
       "       17031081000, 17031081202, 17031080300, 17031839000, 17031980100,\n",
       "       17031081100, 17031080100, 17031838100, 17031071400, 17031080202,\n",
       "       17031841900, 17031842300, 17031842200, 17031841000, 17031243500,\n",
       "       17031080201])"
      ]
     },
     "execution_count": 24,
     "metadata": {},
     "output_type": "execute_result"
    }
   ],
   "source": [
    "top_36_census_tracts"
   ]
  },
  {
   "cell_type": "code",
   "execution_count": null,
   "metadata": {},
   "outputs": [],
   "source": []
  }
 ],
 "metadata": {
  "kernelspec": {
   "display_name": "Python 3",
   "language": "python",
   "name": "python3"
  },
  "language_info": {
   "codemirror_mode": {
    "name": "ipython",
    "version": 3
   },
   "file_extension": ".py",
   "mimetype": "text/x-python",
   "name": "python",
   "nbconvert_exporter": "python",
   "pygments_lexer": "ipython3",
   "version": "3.6.4"
  }
 },
 "nbformat": 4,
 "nbformat_minor": 2
}
