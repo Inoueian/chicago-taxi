{
 "cells": [
  {
   "cell_type": "code",
   "execution_count": 85,
   "metadata": {},
   "outputs": [],
   "source": [
    "import numpy as np\n",
    "import scipy\n",
    "import pandas as pd\n",
    "from bokeh.plotting import figure, save, show, ColumnDataSource\n",
    "from bokeh.models import (GMapPlot, GMapOptions, ColumnDataSource,\n",
    "                          Patch, Patches, Range1d, LogColorMapper,\n",
    "                          HoverTool, PanTool, WheelZoomTool,\n",
    "                          BoxSelectTool, SaveTool, CustomJS)\n",
    "from bokeh.models.widgets import Select, Slider\n",
    "from bokeh.embed import components, autoload_static\n",
    "from bokeh.resources import CDN\n",
    "from bokeh.layouts import widgetbox, column, row\n",
    "from bokeh.palettes import Spectral6\n",
    "from bokeh.io import output_notebook"
   ]
  },
  {
   "cell_type": "code",
   "execution_count": 2,
   "metadata": {},
   "outputs": [
    {
     "data": {
      "text/html": [
       "\n",
       "    <div class=\"bk-root\">\n",
       "        <a href=\"https://bokeh.pydata.org\" target=\"_blank\" class=\"bk-logo bk-logo-small bk-logo-notebook\"></a>\n",
       "        <span id=\"f1fe3f31-32d5-4fca-b049-eb1c76fcd2f8\">Loading BokehJS ...</span>\n",
       "    </div>"
      ]
     },
     "metadata": {},
     "output_type": "display_data"
    },
    {
     "data": {
      "application/javascript": [
       "\n",
       "(function(root) {\n",
       "  function now() {\n",
       "    return new Date();\n",
       "  }\n",
       "\n",
       "  var force = true;\n",
       "\n",
       "  if (typeof (root._bokeh_onload_callbacks) === \"undefined\" || force === true) {\n",
       "    root._bokeh_onload_callbacks = [];\n",
       "    root._bokeh_is_loading = undefined;\n",
       "  }\n",
       "\n",
       "  var JS_MIME_TYPE = 'application/javascript';\n",
       "  var HTML_MIME_TYPE = 'text/html';\n",
       "  var EXEC_MIME_TYPE = 'application/vnd.bokehjs_exec.v0+json';\n",
       "  var CLASS_NAME = 'output_bokeh rendered_html';\n",
       "\n",
       "  /**\n",
       "   * Render data to the DOM node\n",
       "   */\n",
       "  function render(props, node) {\n",
       "    var script = document.createElement(\"script\");\n",
       "    node.appendChild(script);\n",
       "  }\n",
       "\n",
       "  /**\n",
       "   * Handle when an output is cleared or removed\n",
       "   */\n",
       "  function handleClearOutput(event, handle) {\n",
       "    var cell = handle.cell;\n",
       "\n",
       "    var id = cell.output_area._bokeh_element_id;\n",
       "    var server_id = cell.output_area._bokeh_server_id;\n",
       "    // Clean up Bokeh references\n",
       "    if (id !== undefined) {\n",
       "      Bokeh.index[id].model.document.clear();\n",
       "      delete Bokeh.index[id];\n",
       "    }\n",
       "\n",
       "    if (server_id !== undefined) {\n",
       "      // Clean up Bokeh references\n",
       "      var cmd = \"from bokeh.io.state import curstate; print(curstate().uuid_to_server['\" + server_id + \"'].get_sessions()[0].document.roots[0]._id)\";\n",
       "      cell.notebook.kernel.execute(cmd, {\n",
       "        iopub: {\n",
       "          output: function(msg) {\n",
       "            var element_id = msg.content.text.trim();\n",
       "            Bokeh.index[element_id].model.document.clear();\n",
       "            delete Bokeh.index[element_id];\n",
       "          }\n",
       "        }\n",
       "      });\n",
       "      // Destroy server and session\n",
       "      var cmd = \"import bokeh.io.notebook as ion; ion.destroy_server('\" + server_id + \"')\";\n",
       "      cell.notebook.kernel.execute(cmd);\n",
       "    }\n",
       "  }\n",
       "\n",
       "  /**\n",
       "   * Handle when a new output is added\n",
       "   */\n",
       "  function handleAddOutput(event, handle) {\n",
       "    var output_area = handle.output_area;\n",
       "    var output = handle.output;\n",
       "\n",
       "    // limit handleAddOutput to display_data with EXEC_MIME_TYPE content only\n",
       "    if ((output.output_type != \"display_data\") || (!output.data.hasOwnProperty(EXEC_MIME_TYPE))) {\n",
       "      return\n",
       "    }\n",
       "\n",
       "    var toinsert = output_area.element.find(\".\" + CLASS_NAME.split(' ')[0]);\n",
       "\n",
       "    if (output.metadata[EXEC_MIME_TYPE][\"id\"] !== undefined) {\n",
       "      toinsert[0].firstChild.textContent = output.data[JS_MIME_TYPE];\n",
       "      // store reference to embed id on output_area\n",
       "      output_area._bokeh_element_id = output.metadata[EXEC_MIME_TYPE][\"id\"];\n",
       "    }\n",
       "    if (output.metadata[EXEC_MIME_TYPE][\"server_id\"] !== undefined) {\n",
       "      var bk_div = document.createElement(\"div\");\n",
       "      bk_div.innerHTML = output.data[HTML_MIME_TYPE];\n",
       "      var script_attrs = bk_div.children[0].attributes;\n",
       "      for (var i = 0; i < script_attrs.length; i++) {\n",
       "        toinsert[0].firstChild.setAttribute(script_attrs[i].name, script_attrs[i].value);\n",
       "      }\n",
       "      // store reference to server id on output_area\n",
       "      output_area._bokeh_server_id = output.metadata[EXEC_MIME_TYPE][\"server_id\"];\n",
       "    }\n",
       "  }\n",
       "\n",
       "  function register_renderer(events, OutputArea) {\n",
       "\n",
       "    function append_mime(data, metadata, element) {\n",
       "      // create a DOM node to render to\n",
       "      var toinsert = this.create_output_subarea(\n",
       "        metadata,\n",
       "        CLASS_NAME,\n",
       "        EXEC_MIME_TYPE\n",
       "      );\n",
       "      this.keyboard_manager.register_events(toinsert);\n",
       "      // Render to node\n",
       "      var props = {data: data, metadata: metadata[EXEC_MIME_TYPE]};\n",
       "      render(props, toinsert[0]);\n",
       "      element.append(toinsert);\n",
       "      return toinsert\n",
       "    }\n",
       "\n",
       "    /* Handle when an output is cleared or removed */\n",
       "    events.on('clear_output.CodeCell', handleClearOutput);\n",
       "    events.on('delete.Cell', handleClearOutput);\n",
       "\n",
       "    /* Handle when a new output is added */\n",
       "    events.on('output_added.OutputArea', handleAddOutput);\n",
       "\n",
       "    /**\n",
       "     * Register the mime type and append_mime function with output_area\n",
       "     */\n",
       "    OutputArea.prototype.register_mime_type(EXEC_MIME_TYPE, append_mime, {\n",
       "      /* Is output safe? */\n",
       "      safe: true,\n",
       "      /* Index of renderer in `output_area.display_order` */\n",
       "      index: 0\n",
       "    });\n",
       "  }\n",
       "\n",
       "  // register the mime type if in Jupyter Notebook environment and previously unregistered\n",
       "  if (root.Jupyter !== undefined) {\n",
       "    var events = require('base/js/events');\n",
       "    var OutputArea = require('notebook/js/outputarea').OutputArea;\n",
       "\n",
       "    if (OutputArea.prototype.mime_types().indexOf(EXEC_MIME_TYPE) == -1) {\n",
       "      register_renderer(events, OutputArea);\n",
       "    }\n",
       "  }\n",
       "\n",
       "  \n",
       "  if (typeof (root._bokeh_timeout) === \"undefined\" || force === true) {\n",
       "    root._bokeh_timeout = Date.now() + 5000;\n",
       "    root._bokeh_failed_load = false;\n",
       "  }\n",
       "\n",
       "  var NB_LOAD_WARNING = {'data': {'text/html':\n",
       "     \"<div style='background-color: #fdd'>\\n\"+\n",
       "     \"<p>\\n\"+\n",
       "     \"BokehJS does not appear to have successfully loaded. If loading BokehJS from CDN, this \\n\"+\n",
       "     \"may be due to a slow or bad network connection. Possible fixes:\\n\"+\n",
       "     \"</p>\\n\"+\n",
       "     \"<ul>\\n\"+\n",
       "     \"<li>re-rerun `output_notebook()` to attempt to load from CDN again, or</li>\\n\"+\n",
       "     \"<li>use INLINE resources instead, as so:</li>\\n\"+\n",
       "     \"</ul>\\n\"+\n",
       "     \"<code>\\n\"+\n",
       "     \"from bokeh.resources import INLINE\\n\"+\n",
       "     \"output_notebook(resources=INLINE)\\n\"+\n",
       "     \"</code>\\n\"+\n",
       "     \"</div>\"}};\n",
       "\n",
       "  function display_loaded() {\n",
       "    var el = document.getElementById(\"f1fe3f31-32d5-4fca-b049-eb1c76fcd2f8\");\n",
       "    if (el != null) {\n",
       "      el.textContent = \"BokehJS is loading...\";\n",
       "    }\n",
       "    if (root.Bokeh !== undefined) {\n",
       "      if (el != null) {\n",
       "        el.textContent = \"BokehJS \" + root.Bokeh.version + \" successfully loaded.\";\n",
       "      }\n",
       "    } else if (Date.now() < root._bokeh_timeout) {\n",
       "      setTimeout(display_loaded, 100)\n",
       "    }\n",
       "  }\n",
       "\n",
       "\n",
       "  function run_callbacks() {\n",
       "    try {\n",
       "      root._bokeh_onload_callbacks.forEach(function(callback) { callback() });\n",
       "    }\n",
       "    finally {\n",
       "      delete root._bokeh_onload_callbacks\n",
       "    }\n",
       "    console.info(\"Bokeh: all callbacks have finished\");\n",
       "  }\n",
       "\n",
       "  function load_libs(js_urls, callback) {\n",
       "    root._bokeh_onload_callbacks.push(callback);\n",
       "    if (root._bokeh_is_loading > 0) {\n",
       "      console.log(\"Bokeh: BokehJS is being loaded, scheduling callback at\", now());\n",
       "      return null;\n",
       "    }\n",
       "    if (js_urls == null || js_urls.length === 0) {\n",
       "      run_callbacks();\n",
       "      return null;\n",
       "    }\n",
       "    console.log(\"Bokeh: BokehJS not loaded, scheduling load and callback at\", now());\n",
       "    root._bokeh_is_loading = js_urls.length;\n",
       "    for (var i = 0; i < js_urls.length; i++) {\n",
       "      var url = js_urls[i];\n",
       "      var s = document.createElement('script');\n",
       "      s.src = url;\n",
       "      s.async = false;\n",
       "      s.onreadystatechange = s.onload = function() {\n",
       "        root._bokeh_is_loading--;\n",
       "        if (root._bokeh_is_loading === 0) {\n",
       "          console.log(\"Bokeh: all BokehJS libraries loaded\");\n",
       "          run_callbacks()\n",
       "        }\n",
       "      };\n",
       "      s.onerror = function() {\n",
       "        console.warn(\"failed to load library \" + url);\n",
       "      };\n",
       "      console.log(\"Bokeh: injecting script tag for BokehJS library: \", url);\n",
       "      document.getElementsByTagName(\"head\")[0].appendChild(s);\n",
       "    }\n",
       "  };var element = document.getElementById(\"f1fe3f31-32d5-4fca-b049-eb1c76fcd2f8\");\n",
       "  if (element == null) {\n",
       "    console.log(\"Bokeh: ERROR: autoload.js configured with elementid 'f1fe3f31-32d5-4fca-b049-eb1c76fcd2f8' but no matching script tag was found. \")\n",
       "    return false;\n",
       "  }\n",
       "\n",
       "  var js_urls = [\"https://cdn.pydata.org/bokeh/release/bokeh-0.12.13.min.js\", \"https://cdn.pydata.org/bokeh/release/bokeh-widgets-0.12.13.min.js\", \"https://cdn.pydata.org/bokeh/release/bokeh-tables-0.12.13.min.js\", \"https://cdn.pydata.org/bokeh/release/bokeh-gl-0.12.13.min.js\"];\n",
       "\n",
       "  var inline_js = [\n",
       "    function(Bokeh) {\n",
       "      Bokeh.set_log_level(\"info\");\n",
       "    },\n",
       "    \n",
       "    function(Bokeh) {\n",
       "      \n",
       "    },\n",
       "    function(Bokeh) {\n",
       "      console.log(\"Bokeh: injecting CSS: https://cdn.pydata.org/bokeh/release/bokeh-0.12.13.min.css\");\n",
       "      Bokeh.embed.inject_css(\"https://cdn.pydata.org/bokeh/release/bokeh-0.12.13.min.css\");\n",
       "      console.log(\"Bokeh: injecting CSS: https://cdn.pydata.org/bokeh/release/bokeh-widgets-0.12.13.min.css\");\n",
       "      Bokeh.embed.inject_css(\"https://cdn.pydata.org/bokeh/release/bokeh-widgets-0.12.13.min.css\");\n",
       "      console.log(\"Bokeh: injecting CSS: https://cdn.pydata.org/bokeh/release/bokeh-tables-0.12.13.min.css\");\n",
       "      Bokeh.embed.inject_css(\"https://cdn.pydata.org/bokeh/release/bokeh-tables-0.12.13.min.css\");\n",
       "    }\n",
       "  ];\n",
       "\n",
       "  function run_inline_js() {\n",
       "    \n",
       "    if ((root.Bokeh !== undefined) || (force === true)) {\n",
       "      for (var i = 0; i < inline_js.length; i++) {\n",
       "        inline_js[i].call(root, root.Bokeh);\n",
       "      }if (force === true) {\n",
       "        display_loaded();\n",
       "      }} else if (Date.now() < root._bokeh_timeout) {\n",
       "      setTimeout(run_inline_js, 100);\n",
       "    } else if (!root._bokeh_failed_load) {\n",
       "      console.log(\"Bokeh: BokehJS failed to load within specified timeout.\");\n",
       "      root._bokeh_failed_load = true;\n",
       "    } else if (force !== true) {\n",
       "      var cell = $(document.getElementById(\"f1fe3f31-32d5-4fca-b049-eb1c76fcd2f8\")).parents('.cell').data().cell;\n",
       "      cell.output_area.append_execute_result(NB_LOAD_WARNING)\n",
       "    }\n",
       "\n",
       "  }\n",
       "\n",
       "  if (root._bokeh_is_loading === 0) {\n",
       "    console.log(\"Bokeh: BokehJS loaded, going straight to plotting\");\n",
       "    run_inline_js();\n",
       "  } else {\n",
       "    load_libs(js_urls, function() {\n",
       "      console.log(\"Bokeh: BokehJS plotting callback run at\", now());\n",
       "      run_inline_js();\n",
       "    });\n",
       "  }\n",
       "}(window));"
      ],
      "application/vnd.bokehjs_load.v0+json": "\n(function(root) {\n  function now() {\n    return new Date();\n  }\n\n  var force = true;\n\n  if (typeof (root._bokeh_onload_callbacks) === \"undefined\" || force === true) {\n    root._bokeh_onload_callbacks = [];\n    root._bokeh_is_loading = undefined;\n  }\n\n  \n\n  \n  if (typeof (root._bokeh_timeout) === \"undefined\" || force === true) {\n    root._bokeh_timeout = Date.now() + 5000;\n    root._bokeh_failed_load = false;\n  }\n\n  var NB_LOAD_WARNING = {'data': {'text/html':\n     \"<div style='background-color: #fdd'>\\n\"+\n     \"<p>\\n\"+\n     \"BokehJS does not appear to have successfully loaded. If loading BokehJS from CDN, this \\n\"+\n     \"may be due to a slow or bad network connection. Possible fixes:\\n\"+\n     \"</p>\\n\"+\n     \"<ul>\\n\"+\n     \"<li>re-rerun `output_notebook()` to attempt to load from CDN again, or</li>\\n\"+\n     \"<li>use INLINE resources instead, as so:</li>\\n\"+\n     \"</ul>\\n\"+\n     \"<code>\\n\"+\n     \"from bokeh.resources import INLINE\\n\"+\n     \"output_notebook(resources=INLINE)\\n\"+\n     \"</code>\\n\"+\n     \"</div>\"}};\n\n  function display_loaded() {\n    var el = document.getElementById(\"f1fe3f31-32d5-4fca-b049-eb1c76fcd2f8\");\n    if (el != null) {\n      el.textContent = \"BokehJS is loading...\";\n    }\n    if (root.Bokeh !== undefined) {\n      if (el != null) {\n        el.textContent = \"BokehJS \" + root.Bokeh.version + \" successfully loaded.\";\n      }\n    } else if (Date.now() < root._bokeh_timeout) {\n      setTimeout(display_loaded, 100)\n    }\n  }\n\n\n  function run_callbacks() {\n    try {\n      root._bokeh_onload_callbacks.forEach(function(callback) { callback() });\n    }\n    finally {\n      delete root._bokeh_onload_callbacks\n    }\n    console.info(\"Bokeh: all callbacks have finished\");\n  }\n\n  function load_libs(js_urls, callback) {\n    root._bokeh_onload_callbacks.push(callback);\n    if (root._bokeh_is_loading > 0) {\n      console.log(\"Bokeh: BokehJS is being loaded, scheduling callback at\", now());\n      return null;\n    }\n    if (js_urls == null || js_urls.length === 0) {\n      run_callbacks();\n      return null;\n    }\n    console.log(\"Bokeh: BokehJS not loaded, scheduling load and callback at\", now());\n    root._bokeh_is_loading = js_urls.length;\n    for (var i = 0; i < js_urls.length; i++) {\n      var url = js_urls[i];\n      var s = document.createElement('script');\n      s.src = url;\n      s.async = false;\n      s.onreadystatechange = s.onload = function() {\n        root._bokeh_is_loading--;\n        if (root._bokeh_is_loading === 0) {\n          console.log(\"Bokeh: all BokehJS libraries loaded\");\n          run_callbacks()\n        }\n      };\n      s.onerror = function() {\n        console.warn(\"failed to load library \" + url);\n      };\n      console.log(\"Bokeh: injecting script tag for BokehJS library: \", url);\n      document.getElementsByTagName(\"head\")[0].appendChild(s);\n    }\n  };var element = document.getElementById(\"f1fe3f31-32d5-4fca-b049-eb1c76fcd2f8\");\n  if (element == null) {\n    console.log(\"Bokeh: ERROR: autoload.js configured with elementid 'f1fe3f31-32d5-4fca-b049-eb1c76fcd2f8' but no matching script tag was found. \")\n    return false;\n  }\n\n  var js_urls = [\"https://cdn.pydata.org/bokeh/release/bokeh-0.12.13.min.js\", \"https://cdn.pydata.org/bokeh/release/bokeh-widgets-0.12.13.min.js\", \"https://cdn.pydata.org/bokeh/release/bokeh-tables-0.12.13.min.js\", \"https://cdn.pydata.org/bokeh/release/bokeh-gl-0.12.13.min.js\"];\n\n  var inline_js = [\n    function(Bokeh) {\n      Bokeh.set_log_level(\"info\");\n    },\n    \n    function(Bokeh) {\n      \n    },\n    function(Bokeh) {\n      console.log(\"Bokeh: injecting CSS: https://cdn.pydata.org/bokeh/release/bokeh-0.12.13.min.css\");\n      Bokeh.embed.inject_css(\"https://cdn.pydata.org/bokeh/release/bokeh-0.12.13.min.css\");\n      console.log(\"Bokeh: injecting CSS: https://cdn.pydata.org/bokeh/release/bokeh-widgets-0.12.13.min.css\");\n      Bokeh.embed.inject_css(\"https://cdn.pydata.org/bokeh/release/bokeh-widgets-0.12.13.min.css\");\n      console.log(\"Bokeh: injecting CSS: https://cdn.pydata.org/bokeh/release/bokeh-tables-0.12.13.min.css\");\n      Bokeh.embed.inject_css(\"https://cdn.pydata.org/bokeh/release/bokeh-tables-0.12.13.min.css\");\n    }\n  ];\n\n  function run_inline_js() {\n    \n    if ((root.Bokeh !== undefined) || (force === true)) {\n      for (var i = 0; i < inline_js.length; i++) {\n        inline_js[i].call(root, root.Bokeh);\n      }if (force === true) {\n        display_loaded();\n      }} else if (Date.now() < root._bokeh_timeout) {\n      setTimeout(run_inline_js, 100);\n    } else if (!root._bokeh_failed_load) {\n      console.log(\"Bokeh: BokehJS failed to load within specified timeout.\");\n      root._bokeh_failed_load = true;\n    } else if (force !== true) {\n      var cell = $(document.getElementById(\"f1fe3f31-32d5-4fca-b049-eb1c76fcd2f8\")).parents('.cell').data().cell;\n      cell.output_area.append_execute_result(NB_LOAD_WARNING)\n    }\n\n  }\n\n  if (root._bokeh_is_loading === 0) {\n    console.log(\"Bokeh: BokehJS loaded, going straight to plotting\");\n    run_inline_js();\n  } else {\n    load_libs(js_urls, function() {\n      console.log(\"Bokeh: BokehJS plotting callback run at\", now());\n      run_inline_js();\n    });\n  }\n}(window));"
     },
     "metadata": {},
     "output_type": "display_data"
    }
   ],
   "source": [
    "output_notebook()"
   ]
  },
  {
   "cell_type": "markdown",
   "metadata": {},
   "source": [
    "### Summary\n",
    "1. Plot interactive line graph that shows the effect of the congestion fee."
   ]
  },
  {
   "cell_type": "code",
   "execution_count": 3,
   "metadata": {},
   "outputs": [],
   "source": [
    "df_ratios = pd.read_csv('Data/Ratios.csv')"
   ]
  },
  {
   "cell_type": "code",
   "execution_count": 4,
   "metadata": {},
   "outputs": [],
   "source": [
    "df_ratios['census_tract'] = df_ratios['census_tract'].apply(str)"
   ]
  },
  {
   "cell_type": "code",
   "execution_count": 5,
   "metadata": {},
   "outputs": [],
   "source": [
    "df_ratios = df_ratios.set_index('census_tract')"
   ]
  },
  {
   "cell_type": "markdown",
   "metadata": {},
   "source": [
    "We need average fares for the 36 major census tracts. Ignore the rest for the purpose of this plot. The other tracts make up less than 10% of all rides."
   ]
  },
  {
   "cell_type": "code",
   "execution_count": 6,
   "metadata": {},
   "outputs": [],
   "source": [
    "df_avg = pd.read_csv('GetAvg/stats_3.csv')"
   ]
  },
  {
   "cell_type": "code",
   "execution_count": 7,
   "metadata": {},
   "outputs": [
    {
     "data": {
      "text/html": [
       "<div>\n",
       "<style scoped>\n",
       "    .dataframe tbody tr th:only-of-type {\n",
       "        vertical-align: middle;\n",
       "    }\n",
       "\n",
       "    .dataframe tbody tr th {\n",
       "        vertical-align: top;\n",
       "    }\n",
       "\n",
       "    .dataframe thead th {\n",
       "        text-align: right;\n",
       "    }\n",
       "</style>\n",
       "<table border=\"1\" class=\"dataframe\">\n",
       "  <thead>\n",
       "    <tr style=\"text-align: right;\">\n",
       "      <th></th>\n",
       "      <th>census_tract</th>\n",
       "      <th>avg</th>\n",
       "      <th>std</th>\n",
       "    </tr>\n",
       "  </thead>\n",
       "  <tbody>\n",
       "    <tr>\n",
       "      <th>0</th>\n",
       "      <td>17031071400</td>\n",
       "      <td>11.324124</td>\n",
       "      <td>1.805734</td>\n",
       "    </tr>\n",
       "    <tr>\n",
       "      <th>1</th>\n",
       "      <td>17031071500</td>\n",
       "      <td>9.846077</td>\n",
       "      <td>1.586051</td>\n",
       "    </tr>\n",
       "    <tr>\n",
       "      <th>2</th>\n",
       "      <td>17031080100</td>\n",
       "      <td>8.630585</td>\n",
       "      <td>1.425377</td>\n",
       "    </tr>\n",
       "    <tr>\n",
       "      <th>3</th>\n",
       "      <td>17031080201</td>\n",
       "      <td>8.797396</td>\n",
       "      <td>1.306599</td>\n",
       "    </tr>\n",
       "    <tr>\n",
       "      <th>4</th>\n",
       "      <td>17031080202</td>\n",
       "      <td>8.287167</td>\n",
       "      <td>1.309778</td>\n",
       "    </tr>\n",
       "  </tbody>\n",
       "</table>\n",
       "</div>"
      ],
      "text/plain": [
       "   census_tract        avg       std\n",
       "0   17031071400  11.324124  1.805734\n",
       "1   17031071500   9.846077  1.586051\n",
       "2   17031080100   8.630585  1.425377\n",
       "3   17031080201   8.797396  1.306599\n",
       "4   17031080202   8.287167  1.309778"
      ]
     },
     "execution_count": 7,
     "metadata": {},
     "output_type": "execute_result"
    }
   ],
   "source": [
    "df_avg.head()"
   ]
  },
  {
   "cell_type": "markdown",
   "metadata": {},
   "source": [
    "Put the major census tracts in 4 distinct groups."
   ]
  },
  {
   "cell_type": "code",
   "execution_count": 8,
   "metadata": {},
   "outputs": [],
   "source": [
    "NORTH = ['17031071400', '17031071500', '17031080100', '17031080201',\n",
    "         '17031080202', '17031080300', '17031081000', '17031081100',\n",
    "         '17031081201', '17031081202', '17031081300', '17031081401',\n",
    "         '17031081402', '17031081403', '17031081500', '17031081600',\n",
    "         '17031081700', '17031081800', '17031842200']\n",
    "         \n",
    "WEST = ['17031243500', '17031280100', '17031281900', '17031833000',\n",
    "        '17031833100', '17031838100', '17031841900', '17031842300',\n",
    "        '17031980000']\n",
    "        \n",
    "LOOP = ['17031320100', '17031320400', '17031320600', '17031839000',\n",
    "        '17031839100']\n",
    "        \n",
    "SOUTH =['17031330100', '17031841000', '17031980100']"
   ]
  },
  {
   "cell_type": "code",
   "execution_count": 9,
   "metadata": {},
   "outputs": [],
   "source": [
    "def findDirection(row):\n",
    "    \"\"\"Assign group to each census tract.\"\"\"\n",
    "    tract = str(int(row['census_tract']))\n",
    "    if tract in NORTH:\n",
    "        return 'N'\n",
    "    elif tract in WEST:\n",
    "        return 'W'\n",
    "    elif tract in LOOP:\n",
    "        return 'L'\n",
    "    else:\n",
    "        return 'S'"
   ]
  },
  {
   "cell_type": "code",
   "execution_count": 10,
   "metadata": {},
   "outputs": [],
   "source": [
    "df_avg['region'] = df_avg.apply(findDirection, axis=1)"
   ]
  },
  {
   "cell_type": "code",
   "execution_count": 11,
   "metadata": {},
   "outputs": [],
   "source": [
    "df_avg['census_tract'] = df_avg['census_tract'].apply(str)"
   ]
  },
  {
   "cell_type": "code",
   "execution_count": 12,
   "metadata": {},
   "outputs": [],
   "source": [
    "df_avg = df_avg.join(df_ratios[['ratio_from', 'ratio_to']], on='census_tract')"
   ]
  },
  {
   "cell_type": "code",
   "execution_count": 13,
   "metadata": {},
   "outputs": [
    {
     "name": "stdout",
     "output_type": "stream",
     "text": [
      "[  1.13241236e+01   4.99445630e-03   3.52539976e-03]\n",
      "[  9.84607685e+00   9.62619745e-03   7.98933494e-03]\n",
      "[  8.63058475e+00   7.05208308e-03   7.47243225e-03]\n",
      "[  8.79739644e+00   2.67906593e-03   2.61466365e-03]\n",
      "[  8.28716708e+00   5.16914435e-03   6.02757316e-03]\n",
      "[  8.81705338e+00   6.84228667e-03   6.10838512e-03]\n",
      "[ 7.49889426  0.00867315  0.00963972]\n",
      "[  7.68806003e+00   7.01798849e-03   8.89583944e-03]\n",
      "[ 7.61109364  0.03401044  0.0356376 ]\n",
      "[ 8.03909664  0.00821333  0.00890366]\n",
      "[ 7.67738973  0.0243486   0.02874784]\n",
      "[ 7.15810992  0.03301161  0.0313799 ]\n",
      "[ 7.40656487  0.01775213  0.01909883]\n",
      "[ 6.52983036  0.04409529  0.0453716 ]\n",
      "[ 6.49566784  0.05346543  0.07418738]\n",
      "[ 6.19493159  0.02325757  0.0271815 ]\n",
      "[ 6.12761999  0.05246585  0.05687428]\n",
      "[ 6.62521538  0.03980929  0.03580569]\n",
      "[  9.39590597e+00   5.96297723e-03   4.80998669e-03]\n"
     ]
    }
   ],
   "source": [
    "for item in df_avg[df_avg['region']=='N'][['avg', 'ratio_from', 'ratio_to']].values:\n",
    "    print(item)"
   ]
  },
  {
   "cell_type": "code",
   "execution_count": 14,
   "metadata": {},
   "outputs": [],
   "source": [
    "def traffic(region, fee=0, elasticity=0.5):\n",
    "    if region == 'L': #no decrease for this\n",
    "        return tuple(df_avg[df_avg['region']=='L'][['ratio_from', 'ratio_to']].sum())\n",
    "    array = df_avg[df_avg['region']==region][['avg', 'ratio_from', 'ratio_to']].values\n",
    "    total_from = 0\n",
    "    total_to = 0\n",
    "    for avg, ratio_from, ratio_to in array:\n",
    "        #calculate the ratio of traffic decrease\n",
    "        ratio = elasticity * (fee / avg)\n",
    "        total_from += ratio_from * (1 - ratio)\n",
    "        total_to += ratio_to * (1 - ratio)\n",
    "    return total_from, total_to"
   ]
  },
  {
   "cell_type": "code",
   "execution_count": 15,
   "metadata": {},
   "outputs": [],
   "source": [
    "total_from = sum([traffic(region)[0] for region in ['N', 'W', 'L', 'S']])"
   ]
  },
  {
   "cell_type": "code",
   "execution_count": 16,
   "metadata": {},
   "outputs": [],
   "source": [
    "total_to = sum([traffic(region)[1] for region in ['N', 'W', 'L', 'S']])"
   ]
  },
  {
   "cell_type": "code",
   "execution_count": 17,
   "metadata": {},
   "outputs": [],
   "source": [
    "def total_traffic(fee=0, elasticity=0.5):\n",
    "    value_from = sum([traffic(region, fee, elasticity)[0]\n",
    "                      for region in ['N', 'W', 'L', 'S']])\n",
    "    value_to = sum([traffic(region, fee, elasticity)[1]\n",
    "                      for region in ['N', 'W', 'L', 'S']])\n",
    "    return value_from / total_from, value_to / total_to"
   ]
  },
  {
   "cell_type": "code",
   "execution_count": 18,
   "metadata": {},
   "outputs": [],
   "source": [
    "TOOLS = \"pan, box_zoom, wheel_zoom, reset, save\""
   ]
  },
  {
   "cell_type": "code",
   "execution_count": 125,
   "metadata": {},
   "outputs": [],
   "source": [
    "#set up initial data\n",
    "regions = ['N', 'W', 'L', 'S']\n",
    "direction_dict = {'from the Loop': 0,\n",
    "                  'to the Loop': 1}\n",
    "direction0 = 'from the Loop'\n",
    "elasticity0 = 0.5\n",
    "x = np.linspace(0, 5, 51)\n",
    "df_line = pd.DataFrame(x, columns=['x'])\n",
    "df_line['total'] = df_line['x'].apply(lambda x: total_traffic(x, elasticity0)[direction_dict[direction0]])\n",
    "for region in regions:\n",
    "    df_line[region] = df_line['x'].apply(lambda x: traffic(region, x, elasticity0)[direction_dict[direction0]])\n",
    "source = ColumnDataSource(df_line)"
   ]
  },
  {
   "cell_type": "code",
   "execution_count": 126,
   "metadata": {},
   "outputs": [],
   "source": [
    "#set up plot\n",
    "colorwheel = Spectral6\n",
    "p_line = figure(tools=TOOLS, title=\"Taxi traffic reduction by region\",\n",
    "                x_r\n",
    "                 x_axis_label=\"fee (dollars)\", y_axis_label=\"proportion of taxi rides\")\n",
    "p_line.line('x', 'total', source=source, line_width=2,\n",
    "            line_color=colorwheel[0], legend=\"Total\")\n",
    "p_line.line('x', 'N', source=source, line_width=2,\n",
    "            line_color=colorwheel[1], legend=\"North\")\n",
    "p_line.line('x', 'W', source=source, line_width=2,\n",
    "            line_color=colorwheel[2], legend=\"West\")\n",
    "p_line.line('x', 'S', source=source, line_width=2,\n",
    "            line_color=colorwheel[3], legend=\"South\")\n",
    "p_line.line('x', 'L', source=source, line_width=2,\n",
    "            line_color=colorwheel[4], legend=\"Loop\")\n",
    "hover_line = HoverTool(tooltips=[(\"(x,y)\", \"($x, $y)\")])    \n",
    "p_line.add_tools(hover_line)"
   ]
  },
  {
   "cell_type": "markdown",
   "metadata": {},
   "source": [
    "Write separate callback functions for direction and elasticity. I need a ColumnDataSource for both 'from' and 'to'."
   ]
  },
  {
   "cell_type": "code",
   "execution_count": 65,
   "metadata": {},
   "outputs": [
    {
     "data": {
      "text/html": [
       "<div>\n",
       "<style scoped>\n",
       "    .dataframe tbody tr th:only-of-type {\n",
       "        vertical-align: middle;\n",
       "    }\n",
       "\n",
       "    .dataframe tbody tr th {\n",
       "        vertical-align: top;\n",
       "    }\n",
       "\n",
       "    .dataframe thead th {\n",
       "        text-align: right;\n",
       "    }\n",
       "</style>\n",
       "<table border=\"1\" class=\"dataframe\">\n",
       "  <thead>\n",
       "    <tr style=\"text-align: right;\">\n",
       "      <th></th>\n",
       "      <th>census_tract</th>\n",
       "      <th>avg</th>\n",
       "      <th>std</th>\n",
       "      <th>region</th>\n",
       "      <th>ratio_from</th>\n",
       "      <th>ratio_to</th>\n",
       "    </tr>\n",
       "  </thead>\n",
       "  <tbody>\n",
       "    <tr>\n",
       "      <th>0</th>\n",
       "      <td>17031071400</td>\n",
       "      <td>11.324124</td>\n",
       "      <td>1.805734</td>\n",
       "      <td>N</td>\n",
       "      <td>0.004994</td>\n",
       "      <td>0.003525</td>\n",
       "    </tr>\n",
       "    <tr>\n",
       "      <th>1</th>\n",
       "      <td>17031071500</td>\n",
       "      <td>9.846077</td>\n",
       "      <td>1.586051</td>\n",
       "      <td>N</td>\n",
       "      <td>0.009626</td>\n",
       "      <td>0.007989</td>\n",
       "    </tr>\n",
       "    <tr>\n",
       "      <th>2</th>\n",
       "      <td>17031080100</td>\n",
       "      <td>8.630585</td>\n",
       "      <td>1.425377</td>\n",
       "      <td>N</td>\n",
       "      <td>0.007052</td>\n",
       "      <td>0.007472</td>\n",
       "    </tr>\n",
       "    <tr>\n",
       "      <th>3</th>\n",
       "      <td>17031080201</td>\n",
       "      <td>8.797396</td>\n",
       "      <td>1.306599</td>\n",
       "      <td>N</td>\n",
       "      <td>0.002679</td>\n",
       "      <td>0.002615</td>\n",
       "    </tr>\n",
       "    <tr>\n",
       "      <th>4</th>\n",
       "      <td>17031080202</td>\n",
       "      <td>8.287167</td>\n",
       "      <td>1.309778</td>\n",
       "      <td>N</td>\n",
       "      <td>0.005169</td>\n",
       "      <td>0.006028</td>\n",
       "    </tr>\n",
       "  </tbody>\n",
       "</table>\n",
       "</div>"
      ],
      "text/plain": [
       "  census_tract        avg       std region  ratio_from  ratio_to\n",
       "0  17031071400  11.324124  1.805734      N    0.004994  0.003525\n",
       "1  17031071500   9.846077  1.586051      N    0.009626  0.007989\n",
       "2  17031080100   8.630585  1.425377      N    0.007052  0.007472\n",
       "3  17031080201   8.797396  1.306599      N    0.002679  0.002615\n",
       "4  17031080202   8.287167  1.309778      N    0.005169  0.006028"
      ]
     },
     "execution_count": 65,
     "metadata": {},
     "output_type": "execute_result"
    }
   ],
   "source": [
    "df_avg.head()"
   ]
  },
  {
   "cell_type": "code",
   "execution_count": 62,
   "metadata": {},
   "outputs": [],
   "source": [
    "avg_source = ColumnDataSource(df_avg)"
   ]
  },
  {
   "cell_type": "code",
   "execution_count": 171,
   "metadata": {
    "scrolled": true
   },
   "outputs": [
    {
     "data": {
      "text/html": [
       "<div>\n",
       "<style scoped>\n",
       "    .dataframe tbody tr th:only-of-type {\n",
       "        vertical-align: middle;\n",
       "    }\n",
       "\n",
       "    .dataframe tbody tr th {\n",
       "        vertical-align: top;\n",
       "    }\n",
       "\n",
       "    .dataframe thead th {\n",
       "        text-align: right;\n",
       "    }\n",
       "</style>\n",
       "<table border=\"1\" class=\"dataframe\">\n",
       "  <thead>\n",
       "    <tr style=\"text-align: right;\">\n",
       "      <th></th>\n",
       "      <th>census_tract</th>\n",
       "      <th>avg</th>\n",
       "      <th>std</th>\n",
       "      <th>region</th>\n",
       "      <th>ratio_from</th>\n",
       "      <th>ratio_to</th>\n",
       "    </tr>\n",
       "  </thead>\n",
       "  <tbody>\n",
       "    <tr>\n",
       "      <th>0</th>\n",
       "      <td>17031071400</td>\n",
       "      <td>11.324124</td>\n",
       "      <td>1.805734</td>\n",
       "      <td>N</td>\n",
       "      <td>0.004994</td>\n",
       "      <td>0.003525</td>\n",
       "    </tr>\n",
       "    <tr>\n",
       "      <th>1</th>\n",
       "      <td>17031071500</td>\n",
       "      <td>9.846077</td>\n",
       "      <td>1.586051</td>\n",
       "      <td>N</td>\n",
       "      <td>0.009626</td>\n",
       "      <td>0.007989</td>\n",
       "    </tr>\n",
       "    <tr>\n",
       "      <th>2</th>\n",
       "      <td>17031080100</td>\n",
       "      <td>8.630585</td>\n",
       "      <td>1.425377</td>\n",
       "      <td>N</td>\n",
       "      <td>0.007052</td>\n",
       "      <td>0.007472</td>\n",
       "    </tr>\n",
       "    <tr>\n",
       "      <th>3</th>\n",
       "      <td>17031080201</td>\n",
       "      <td>8.797396</td>\n",
       "      <td>1.306599</td>\n",
       "      <td>N</td>\n",
       "      <td>0.002679</td>\n",
       "      <td>0.002615</td>\n",
       "    </tr>\n",
       "    <tr>\n",
       "      <th>4</th>\n",
       "      <td>17031080202</td>\n",
       "      <td>8.287167</td>\n",
       "      <td>1.309778</td>\n",
       "      <td>N</td>\n",
       "      <td>0.005169</td>\n",
       "      <td>0.006028</td>\n",
       "    </tr>\n",
       "  </tbody>\n",
       "</table>\n",
       "</div>"
      ],
      "text/plain": [
       "  census_tract        avg       std region  ratio_from  ratio_to\n",
       "0  17031071400  11.324124  1.805734      N    0.004994  0.003525\n",
       "1  17031071500   9.846077  1.586051      N    0.009626  0.007989\n",
       "2  17031080100   8.630585  1.425377      N    0.007052  0.007472\n",
       "3  17031080201   8.797396  1.306599      N    0.002679  0.002615\n",
       "4  17031080202   8.287167  1.309778      N    0.005169  0.006028"
      ]
     },
     "execution_count": 171,
     "metadata": {},
     "output_type": "execute_result"
    }
   ],
   "source": [
    "df_avg.head()"
   ]
  },
  {
   "cell_type": "code",
   "execution_count": 170,
   "metadata": {},
   "outputs": [],
   "source": [
    "def traffic(region, fee=0, elasticity=0.5):\n",
    "    if region == 'L': #no decrease for this\n",
    "        return tuple(df_avg[df_avg['region']=='L'][['ratio_from', 'ratio_to']].sum())\n",
    "    array = df_avg[df_avg['region']==region][['avg', 'ratio_from', 'ratio_to']].values\n",
    "    total_from = 0\n",
    "    total_to = 0\n",
    "    for avg, ratio_from, ratio_to in array:\n",
    "        #calculate the ratio of traffic decrease\n",
    "        ratio = elasticity * (fee / avg)\n",
    "        total_from += ratio_from * (1 - ratio)\n",
    "        total_to += ratio_to * (1 - ratio)\n",
    "    return total_from, total_to"
   ]
  },
  {
   "cell_type": "code",
   "execution_count": null,
   "metadata": {},
   "outputs": [],
   "source": [
    "def total_traffic(fee=0, elasticity=0.5):\n",
    "    value_from = sum([traffic(region, fee, elasticity)[0]\n",
    "                      for region in ['N', 'W', 'L', 'S']])\n",
    "    value_to = sum([traffic(region, fee, elasticity)[1]\n",
    "                      for region in ['N', 'W', 'L', 'S']])\n",
    "    return value_from / total_from, value_to / total_to"
   ]
  },
  {
   "cell_type": "code",
   "execution_count": 311,
   "metadata": {},
   "outputs": [],
   "source": [
    "dir_callback = CustomJS(args=dict(source=source, avg_source=avg_source,\n",
    "                                 elas_select=elas_select), code=\"\"\"\n",
    "    var data = source.data\n",
    "    var dir = cb_obj.value\n",
    "    var elas = elas_select.value\n",
    "    var avg_data = avg_source.data\n",
    "    \n",
    "    regions = avg_data['region']\n",
    "    avgs = avg_data['avg']\n",
    "    if (dir == 'from the Loop') {\n",
    "        var ratios = avg_data['ratio_from']\n",
    "    } else {\n",
    "        var ratios = avg_data['ratio_to']\n",
    "    }\n",
    "    sum = ratios.reduce((a, b) => a + b, 0)\n",
    "    \n",
    "    x = data['x']\n",
    "    total = data['total']\n",
    "    N = data['N']\n",
    "    W = data['W']\n",
    "    S = data['S']\n",
    "    L = data['L']\n",
    "    \n",
    "    for (i = 0; i < x.length; i++) {\n",
    "        N[i] = 0\n",
    "        W[i] = 0\n",
    "        S[i] = 0\n",
    "        L[i] = 0\n",
    "        for (j = 0; j < regions.length; j++) {\n",
    "            if (regions[j] == 'N') {\n",
    "                N[i] += ratios[j] * (1 - elas * x[i] / avgs[j])\n",
    "            } else if (regions[j] == 'W') {\n",
    "                W[i] += ratios[j] * (1 - elas * x[i] / avgs[j])\n",
    "            } else if (regions[j] == 'S') {\n",
    "                S[i] += ratios[j] * (1 - elas * x[i] / avgs[j])\n",
    "            } else {\n",
    "                L[i] += ratios[j]\n",
    "            }\n",
    "        }\n",
    "        N[i] = N[i] / sum\n",
    "        W[i] = W[i] / sum\n",
    "        S[i] = S[i] / sum\n",
    "        L[i] = L[i] / sum\n",
    "        total[i] = N[i] + W[i] + S[i] + L[i]\n",
    "    }\n",
    "    source.change.emit()\n",
    "\"\"\")"
   ]
  },
  {
   "cell_type": "code",
   "execution_count": 318,
   "metadata": {},
   "outputs": [],
   "source": [
    "elas_callback = CustomJS(args=dict(source=source, avg_source=avg_source,\n",
    "                              dir_select=dir_select), code=\"\"\"\n",
    "    var data = source.data\n",
    "    var avg_data = avg_source.data\n",
    "    var dir = dir_select.value\n",
    "    var elas = cb_obj.value\n",
    "    \n",
    "    regions = avg_data['region']\n",
    "    avgs = avg_data['avg']\n",
    "    if (dir == 'from the Loop') {\n",
    "        var ratios = avg_data['ratio_from']\n",
    "    } else {\n",
    "        var ratios = avg_data['ratio_to']\n",
    "    }\n",
    "    sum = ratios.reduce((a, b) => a + b, 0)\n",
    "    \n",
    "    x = data['x']\n",
    "    total = data['total']\n",
    "    N = data['N']\n",
    "    W = data['W']\n",
    "    S = data['S']\n",
    "    L = data['L']\n",
    "    \n",
    "    for (i = 0; i < x.length; i++) {\n",
    "        N[i] = 0\n",
    "        W[i] = 0\n",
    "        S[i] = 0\n",
    "        L[i] = 0\n",
    "        for (j = 0; j < regions.length; j++) {\n",
    "            if (regions[j] == 'N') {\n",
    "                N[i] += ratios[j] * (1 - elas * x[i] / avgs[j])\n",
    "            } else if (regions[j] == 'W') {\n",
    "                W[i] += ratios[j] * (1 - elas * x[i] / avgs[j])\n",
    "            } else if (regions[j] == 'S') {\n",
    "                S[i] += ratios[j] * (1 - elas * x[i] / avgs[j])\n",
    "            } else {\n",
    "                L[i] += ratios[j]\n",
    "            }\n",
    "        }\n",
    "        N[i] = N[i] / sum\n",
    "        W[i] = W[i] / sum\n",
    "        S[i] = S[i] / sum\n",
    "        L[i] = L[i] / sum\n",
    "        total[i] = N[i] + W[i] + S[i] + L[i]\n",
    "    }\n",
    "    source.change.emit()\n",
    "\"\"\")"
   ]
  },
  {
   "cell_type": "code",
   "execution_count": 319,
   "metadata": {},
   "outputs": [],
   "source": [
    "dir_select = Select(value='from the Loop', title='direction',\n",
    "                   options=['from the Loop', 'to the Loop'])\n",
    "elas_select = Slider(value=0.5, start=0., end=1., step=0.1,\n",
    "                    title='price elasticity')"
   ]
  },
  {
   "cell_type": "code",
   "execution_count": 320,
   "metadata": {},
   "outputs": [],
   "source": [
    "dir_select.js_on_change('value', dir_callback)\n",
    "elas_select.js_on_change('value', elas_callback)"
   ]
  },
  {
   "cell_type": "code",
   "execution_count": 321,
   "metadata": {},
   "outputs": [],
   "source": [
    "inputs = widgetbox(dir_select, elas_select)"
   ]
  },
  {
   "cell_type": "code",
   "execution_count": 322,
   "metadata": {},
   "outputs": [],
   "source": [
    "layout = row(inputs, p_line)"
   ]
  },
  {
   "cell_type": "code",
   "execution_count": 323,
   "metadata": {
    "scrolled": false
   },
   "outputs": [
    {
     "data": {
      "text/html": [
       "\n",
       "<div class=\"bk-root\">\n",
       "    <div class=\"bk-plotdiv\" id=\"ac8db629-a6a8-425f-bb66-559416532a0a\"></div>\n",
       "</div>"
      ]
     },
     "metadata": {},
     "output_type": "display_data"
    },
    {
     "data": {
      "application/javascript": [
       "(function(root) {\n",
       "  function embed_document(root) {\n",
       "    \n",
       "  var docs_json = {\"1538ddcb-d206-497d-ae69-86a58ba3d0da\":{\"roots\":{\"references\":[{\"attributes\":{},\"id\":\"871cbb0d-0ab8-4883-9103-bfe9aaca30fa\",\"type\":\"BasicTicker\"},{\"attributes\":{},\"id\":\"9b181eed-49b3-4712-b87a-653516ea9799\",\"type\":\"PanTool\"},{\"attributes\":{\"args\":{\"avg_source\":{\"id\":\"0c3f0d86-dbf6-4a0b-95bc-40c60d45a5eb\",\"type\":\"ColumnDataSource\"},\"dir_select\":{\"id\":\"a7781590-eb31-457f-82b2-efccad5bbd26\",\"type\":\"Select\"},\"source\":{\"id\":\"5971d10f-ed48-4f97-b9d8-af009a81e41c\",\"type\":\"ColumnDataSource\"}},\"code\":\"\\n    var data = source.data\\n    var avg_data = avg_source.data\\n    var dir = dir_select.value\\n    var elas = cb_obj.value\\n    x = data['x']\\n    total = data['total']\\n    N = data['N']\\n    W = data['W']\\n    S = data['S']\\n    L = data['L']\\n    for (i = 0; i < x.length; i++) {\\n        total[i] = elas\\n    }\\n    source.change.emit()\\n\"},\"id\":\"dd85d552-b45b-44ee-9339-50be905e4acf\",\"type\":\"CustomJS\"},{\"attributes\":{\"args\":{\"avg_source\":{\"id\":\"0c3f0d86-dbf6-4a0b-95bc-40c60d45a5eb\",\"type\":\"ColumnDataSource\"},\"elas_select\":{\"id\":\"9a446d13-f86c-449a-8f58-d13449f565d2\",\"type\":\"Slider\"},\"source\":{\"id\":\"5971d10f-ed48-4f97-b9d8-af009a81e41c\",\"type\":\"ColumnDataSource\"}},\"code\":\"\\n    var data = source.data\\n    var dir = cb_obj.value\\n    var elas = elas_select.value\\n    var avg_data = avg_source.data\\n    \\n    regions = avg_data['region']\\n    avgs = avg_data['avg']\\n    if (dir == 'from the Loop') {\\n        var ratios = avg_data['ratio_from']\\n    } else {\\n        var ratios = avg_data['ratio_to']\\n    }\\n    \\n    x = data['x']\\n    total = data['total']\\n    N = data['N']\\n    W = data['W']\\n    S = data['S']\\n    L = data['L']\\n    \\n    for (i = 0; i < x.length; i++) {\\n        N[i] = 0\\n        W[i] = 0\\n        S[i] = 0\\n        L[i] = 0\\n        for (j = 0; j < regions.length; j++) {\\n            if (regions[j] == 'N') {\\n                N[i] += ratios[j] * (1 - elas * x[i] / avgs[j])\\n            } else if (regions[j] == 'W') {\\n                W[i] += ratios[j] * (1 - elas * x[i] / avgs[j])\\n            } else if (regions[j] == 'S') {\\n                S[i] += ratios[j] * (1 - elas * x[i] / avgs[j])\\n            } else {\\n                L[i] += ratios[j]\\n            }\\n        }\\n        total[i] = ratios.reduce((a, b) => a + b, 0)\\n    }\\n    source.change.emit()\\n\"},\"id\":\"f19bf330-2ece-4e77-9ce5-83bec1bee5dd\",\"type\":\"CustomJS\"},{\"attributes\":{\"args\":{\"avg_source\":{\"id\":\"0c3f0d86-dbf6-4a0b-95bc-40c60d45a5eb\",\"type\":\"ColumnDataSource\"},\"elas_select\":{\"id\":\"9d88e0a9-bf00-4699-af94-e43a6414ff3a\",\"type\":\"Slider\"},\"source\":{\"id\":\"5971d10f-ed48-4f97-b9d8-af009a81e41c\",\"type\":\"ColumnDataSource\"}},\"code\":\"\\n    var data = source.data\\n    var dir = cb_obj.value\\n    var elas = elas_select.value\\n    var avg_data = avg_source.data\\n    \\n    regions = avg_data['region']\\n    avgs = avg_data['avg']\\n    if (dir == 'from the Loop') {\\n        var ratios = avg_data['ratio_from']\\n    } else {\\n        var ratios = avg_data['ratio_to']\\n    }\\n    \\n    x = data['x']\\n    total = data['total']\\n    N = data['N']\\n    W = data['W']\\n    S = data['S']\\n    L = data['L']\\n    \\n    for (i = 0; i < x.length; i++) {\\n        N[i] = 0\\n        for (j = 0; j < regions.length; j++) {\\n            if (regions[j] == 'N') {\\n                N[i] += ratios[j] * (1 - elas * x[i] / avgs[j])\\n            }\\n        }\\n        total[i] = ratios.reduce((a, b) => a + b, 0)\\n    }\\n    source.change.emit()\\n\"},\"id\":\"6be36b59-2ae1-4cb4-b15c-f0c3f4f88de6\",\"type\":\"CustomJS\"},{\"attributes\":{\"callback\":null,\"options\":[\"from the Loop\",\"to the Loop\"],\"title\":\"direction\",\"value\":\"from the Loop\"},\"id\":\"44e87981-edac-4b1f-a268-e647339290b9\",\"type\":\"Select\"},{\"attributes\":{\"dimension\":1,\"plot\":{\"id\":\"5f604c8c-c57b-41e0-a1af-8e5ac4d99ec8\",\"subtype\":\"Figure\",\"type\":\"Plot\"},\"ticker\":{\"id\":\"871cbb0d-0ab8-4883-9103-bfe9aaca30fa\",\"type\":\"BasicTicker\"}},\"id\":\"0caf4864-21f0-40e1-aa64-2e7025f4055c\",\"type\":\"Grid\"},{\"attributes\":{\"source\":{\"id\":\"5971d10f-ed48-4f97-b9d8-af009a81e41c\",\"type\":\"ColumnDataSource\"}},\"id\":\"bb4dbeb7-90ba-435b-8f2a-dc27c03364c6\",\"type\":\"CDSView\"},{\"attributes\":{\"source\":{\"id\":\"5971d10f-ed48-4f97-b9d8-af009a81e41c\",\"type\":\"ColumnDataSource\"}},\"id\":\"ebc9fe86-5424-4fc5-aae0-0b3903dcddbc\",\"type\":\"CDSView\"},{\"attributes\":{\"bottom_units\":\"screen\",\"fill_alpha\":{\"value\":0.5},\"fill_color\":{\"value\":\"lightgrey\"},\"left_units\":\"screen\",\"level\":\"overlay\",\"line_alpha\":{\"value\":1.0},\"line_color\":{\"value\":\"black\"},\"line_dash\":[4,4],\"line_width\":{\"value\":2},\"plot\":null,\"render_mode\":\"css\",\"right_units\":\"screen\",\"top_units\":\"screen\"},\"id\":\"892ca41c-9b1d-445f-84d6-bffed8088911\",\"type\":\"BoxAnnotation\"},{\"attributes\":{\"args\":{\"avg_source\":{\"id\":\"0c3f0d86-dbf6-4a0b-95bc-40c60d45a5eb\",\"type\":\"ColumnDataSource\"},\"elas_select\":{\"id\":\"2929e9ab-bc61-43ea-a8d6-2412b5668811\",\"type\":\"Slider\"},\"source\":{\"id\":\"5971d10f-ed48-4f97-b9d8-af009a81e41c\",\"type\":\"ColumnDataSource\"}},\"code\":\"\\n    var data = source.data\\n    var dir = cb_obj.value\\n    var elas = elas_select.value\\n    var avg_data = avg_source.data\\n    \\n    regions = avg_data['region']\\n    avgs = avg_data['avg']\\n    if (dir == 'from the Loop') {\\n        var ratios = avg_data['ratio_from']\\n    } else {\\n        var ratios = avg_data['ratio_to']\\n    }\\n    \\n    x = data['x']\\n    total = data['total']\\n    N = data['N']\\n    W = data['W']\\n    S = data['S']\\n    L = data['L']\\n    \\n    for (i = 0; i < x.length; i++) {\\n        N[i] = 0\\n        for (j = 0; j < regions.length; j++) {\\n            if (regions[j] == 'N') {\\n                N[i] += ratios[j] * (1 - x[i])\\n            }\\n        }\\n        total[i] = ratios.reduce((a, b) => a + b, 0)\\n    }\\n    source.change.emit()\\n\"},\"id\":\"a5548d66-f113-4d1b-a7dd-237185415a1b\",\"type\":\"CustomJS\"},{\"attributes\":{\"line_alpha\":0.1,\"line_color\":\"#1f77b4\",\"line_width\":2,\"x\":{\"field\":\"x\"},\"y\":{\"field\":\"total\"}},\"id\":\"42164adf-4a64-413e-9b1b-f3cb93f2fa59\",\"type\":\"Line\"},{\"attributes\":{\"callback\":null,\"js_property_callbacks\":{\"change:value\":[{\"id\":\"dd114383-1de8-439f-b763-75e5dcefbb34\",\"type\":\"CustomJS\"}]},\"options\":[\"from the Loop\",\"to the Loop\"],\"title\":\"direction\",\"value\":\"from the Loop\"},\"id\":\"7a53fdc1-148c-4d21-81fc-66c4a08cc038\",\"type\":\"Select\"},{\"attributes\":{\"args\":{\"avg_source\":{\"id\":\"0c3f0d86-dbf6-4a0b-95bc-40c60d45a5eb\",\"type\":\"ColumnDataSource\"},\"dir_select\":{\"id\":\"9184999d-ef4e-48ba-b90c-caa896b243e5\",\"type\":\"Select\"},\"source\":{\"id\":\"5971d10f-ed48-4f97-b9d8-af009a81e41c\",\"type\":\"ColumnDataSource\"}},\"code\":\"\\n    var data = source.data\\n    var avg_data = avg_source.data\\n    var dir = dir_select.value\\n    var elas = cb_obj.value\\n    \\n    if (dir == 'from the Loop') {\\n        sum = avg_source.data['ratio_from'].reduce((a, b) => a + b, 0)\\n    } else {\\n        sum = avg_source.data['ratio_to'].reduce((a, b) => a + b, 0)\\n    }\\n    \\n    x = data['x']\\n    total = data['total']\\n    N = data['N']\\n    W = data['W']\\n    S = data['S']\\n    L = data['L'] // this doesn't change\\n    for (i = 0; i < x.length; i++) {\\n        total[i] = elas\\n    }\\n    source.change.emit()\\n\"},\"id\":\"450030ef-5b8e-4c30-9e33-f8beffe49e6c\",\"type\":\"CustomJS\"},{\"attributes\":{\"callback\":null,\"js_property_callbacks\":{\"change:value\":[{\"id\":\"76a910d1-eb3e-4e0d-994c-f2a5b4994a1d\",\"type\":\"CustomJS\"}]},\"options\":[\"from the Loop\",\"to the Loop\"],\"title\":\"direction\",\"value\":\"from the Loop\"},\"id\":\"3f4fa4f6-3473-4553-82bc-3a981ceef88a\",\"type\":\"Select\"},{\"attributes\":{\"args\":{\"avg_source\":{\"id\":\"0c3f0d86-dbf6-4a0b-95bc-40c60d45a5eb\",\"type\":\"ColumnDataSource\"},\"elas_select\":{\"id\":\"a5fa7426-9d22-4d92-bf1b-d3bd0ae77dba\",\"type\":\"Slider\"},\"source\":{\"id\":\"5971d10f-ed48-4f97-b9d8-af009a81e41c\",\"type\":\"ColumnDataSource\"}},\"code\":\"\\n    var data = source.data\\n    var dir = cb_obj.value\\n    var elas = elas_select.value\\n    var avg_data = avg_source.data\\n    \\n    regions = avg_data['region']\\n    avgs = avg_data['avg']\\n    if (dir == 'from the Loop') {\\n        var ratios = avg_data['ratio_from']\\n    } else {\\n        var ratios = avg_data['ratio_to']\\n    }\\n    \\n    x = data['x']\\n    total = data['total']\\n    N = data['N']\\n    W = data['W']\\n    S = data['S']\\n    L = data['L']\\n    \\n    for (i = 0; i < x.length; i++) {\\n        N[i] = 0\\n        for (j = 0; j < regions.length; j++) {\\n            if (regions[j] == 'N') {\\n                N[i] += ratios[j] * (1 - x[i] / avg[j])\\n            }\\n        }\\n        total[i] = ratios.reduce((a, b) => a + b, 0)\\n    }\\n    source.change.emit()\\n\"},\"id\":\"90726395-67f6-4fec-9c0f-8887046d697e\",\"type\":\"CustomJS\"},{\"attributes\":{\"data_source\":{\"id\":\"5971d10f-ed48-4f97-b9d8-af009a81e41c\",\"type\":\"ColumnDataSource\"},\"glyph\":{\"id\":\"87ba7fec-c392-47a7-8aca-40ba0c455824\",\"type\":\"Line\"},\"hover_glyph\":null,\"muted_glyph\":null,\"nonselection_glyph\":{\"id\":\"42164adf-4a64-413e-9b1b-f3cb93f2fa59\",\"type\":\"Line\"},\"selection_glyph\":null,\"view\":{\"id\":\"ebc9fe86-5424-4fc5-aae0-0b3903dcddbc\",\"type\":\"CDSView\"}},\"id\":\"7a42fc00-d42a-4e65-ac4f-5be2744c3944\",\"type\":\"GlyphRenderer\"},{\"attributes\":{\"line_alpha\":0.1,\"line_color\":\"#1f77b4\",\"line_width\":2,\"x\":{\"field\":\"x\"},\"y\":{\"field\":\"S\"}},\"id\":\"e81ce3ca-7d2a-4292-9adb-c15fb7a9e538\",\"type\":\"Line\"},{\"attributes\":{\"label\":{\"value\":\"North\"},\"renderers\":[{\"id\":\"fc5acbb6-f362-4ed6-9c6c-b19a4432d9cf\",\"type\":\"GlyphRenderer\"}]},\"id\":\"ba5c34ed-f5de-4af0-92bd-63c988537174\",\"type\":\"LegendItem\"},{\"attributes\":{\"callback\":null,\"end\":1.0,\"js_property_callbacks\":{\"change:value\":[{\"id\":\"dfd2d325-a45a-45f1-9b8c-3190d2a79f3a\",\"type\":\"CustomJS\"}]},\"start\":0.0,\"step\":0.1,\"title\":\"price elasticity\",\"value\":0.5},\"id\":\"2929e9ab-bc61-43ea-a8d6-2412b5668811\",\"type\":\"Slider\"},{\"attributes\":{\"source\":{\"id\":\"5971d10f-ed48-4f97-b9d8-af009a81e41c\",\"type\":\"ColumnDataSource\"}},\"id\":\"d6bb0828-8d6e-4125-b413-5db0008951fe\",\"type\":\"CDSView\"},{\"attributes\":{\"callback\":null,\"column_names\":[\"census_tract\",\"avg\",\"std\",\"region\",\"ratio_from\",\"ratio_to\",\"index\"],\"data\":{\"avg\":{\"__ndarray__\":\"u4ZrhvOlJkBTpQX8MLEjQCZmMQHcQiFAcMJ7WESYIUBTXlmQB5MgQCzaHtJUoiFAltD7It7+HUC5lefOksAeQEPLRYjCcR5AvcefeQQUIEDE2RKnpbUeQCm1CpHnoRxA7RNUilKgHUAEY7XZix4aQO6XVlmQ+xlAdsqYJZzHGEBs4KDQroIYQJ40qnU4gBpAeZU+4CK1IEDygah8VY8YQERCaOIapBhAtwH4NjoaF0Cwrzng1+cVQGjwSHQsqBhAVQFr8r7mIEDlVlsQYWcdQMrzzmod4BxAusXzRmOZJEAh9h2hhBAYQFkYa8aFYBZAXeU8LCPZIkD2FMel1DccQIRz5C+0yiJA1+plsryHIEDkJVcngtpDQCQheT72ZjxA\",\"dtype\":\"float64\",\"shape\":[36]},\"census_tract\":[\"17031071400\",\"17031071500\",\"17031080100\",\"17031080201\",\"17031080202\",\"17031080300\",\"17031081000\",\"17031081100\",\"17031081201\",\"17031081202\",\"17031081300\",\"17031081401\",\"17031081402\",\"17031081403\",\"17031081500\",\"17031081600\",\"17031081700\",\"17031081800\",\"17031243500\",\"17031280100\",\"17031281900\",\"17031320100\",\"17031320400\",\"17031320600\",\"17031330100\",\"17031833000\",\"17031833100\",\"17031838100\",\"17031839000\",\"17031839100\",\"17031841000\",\"17031841900\",\"17031842200\",\"17031842300\",\"17031980000\",\"17031980100\"],\"index\":[0,1,2,3,4,5,6,7,8,9,10,11,12,13,14,15,16,17,18,19,20,21,22,23,24,25,26,27,28,29,30,31,32,33,34,35],\"ratio_from\":{\"__ndarray__\":\"RhM0JxF1dD/r8LRZ5raDP0cF/yKl4nw/sM8fkWjyZT/gWdCePSx1PxvD61eoBnw/tcLKdTrDgT+e6xDx5L58PytgVgXRaaE/2RjYAybSgD94/2/61u6YPwSWv/Dl5qA/giEsC50tkj/N4hRVqJOmP6yglBnSX6s/JjL/atXQlz+p3G30zdyqP+AzTEPiYaQ/hSFnmLqZaD9rVGs6NzqiP+NFF68nlK8/3KoeCd1wsz8hRCpJcOebP3l/JBPRbJE/cg3hICmqoj91gOuiTbWWPw5XcMAhdIg/FO5SdPQrbj8NUp+up/5+P6Y8VGTWYsI/qTBCMlz7hT+05WcShTGDP3K/FoOibHg/bCg0z8+0cj8pynwmYaumP21Xpu2kLI8/\",\"dtype\":\"float64\",\"shape\":[36]},\"ratio_to\":{\"__ndarray__\":\"drxDlUzhbD/FCititlyAP8igDsJpm34/Ns/S21hrZT8Z53JZXrB4P4nkHiUbBXk/qRt8b/29gz9BdZRb+zeCP9sXm5QXP6I/reENgBQ8gj98m7j4EnCdP6gm2sUGEaA/2z03FKWOkz8qP7Qk8jqnP+VeIazx/bI/fpeJknfVmz9ULjhAoB6tP0+cFLUfVaI/7GDUjDaPWD9imbpszRujPwxTSEi8jLA/qameTCZbuD8e3HGhidGdP40wFySVTZE/2i4vQTBUmz+h89PViUWGPyG+NUsRQX4/SQvnoUDTUD9q556wsypwP+xst8HDscM/Fwf5wahtgj9ypNQH9aluPx5NZPiis3M/qakHxm+IYT+aG8nODferPxXfxqpAc5A/\",\"dtype\":\"float64\",\"shape\":[36]},\"region\":[\"N\",\"N\",\"N\",\"N\",\"N\",\"N\",\"N\",\"N\",\"N\",\"N\",\"N\",\"N\",\"N\",\"N\",\"N\",\"N\",\"N\",\"N\",\"W\",\"W\",\"W\",\"L\",\"L\",\"L\",\"S\",\"W\",\"W\",\"W\",\"L\",\"L\",\"S\",\"W\",\"N\",\"W\",\"W\",\"S\"],\"std\":{\"__ndarray__\":\"SkK5ZEnk/D/jJvngdmD5P3DtPJZYzvY/1VTc2dPn9D9OA5s/2vT0P6S/gkQ+vvc/qvPJBqmC9D/KzQ3vD7z0PzCnq4AWnPY/HUz2T3go9z82aLjUixX4P1bn8GhDbfY/VC2DTTWj9z9CkUMMyPj1P1k1Vcd50fU/W0/srcQC9D/I9l4FZIbzPynatVt5KvU/5YVuUQqg+T/ilPRUvNXyP49xQRh0HPQ/IGhHzpjt+T/aFaBBBYf4P3iks7CE9/w/V4FuZT6K/z8+r6EgpP72P1p8taRdbPc/UWZwGDfY/j/v5duDiEr4P1C6eMeZePc/WFx/YKor/j/7CvM7gvD7P0SmCslOWf8/CZu6LCInAkDEcd9uJqkVQIsxLv815g5A\",\"dtype\":\"float64\",\"shape\":[36]}}},\"id\":\"0c3f0d86-dbf6-4a0b-95bc-40c60d45a5eb\",\"type\":\"ColumnDataSource\"},{\"attributes\":{\"items\":[{\"id\":\"8a97fe40-adc8-41f8-b707-7fec83ea106b\",\"type\":\"LegendItem\"},{\"id\":\"ba5c34ed-f5de-4af0-92bd-63c988537174\",\"type\":\"LegendItem\"},{\"id\":\"885c9195-d0b5-44f8-98ec-0cfbcb2dc72e\",\"type\":\"LegendItem\"},{\"id\":\"e74f81dc-222a-4e24-9a1c-6ebe2c696842\",\"type\":\"LegendItem\"},{\"id\":\"7d878068-79ba-4a40-8075-4e1b2cbfbecc\",\"type\":\"LegendItem\"}],\"plot\":{\"id\":\"5f604c8c-c57b-41e0-a1af-8e5ac4d99ec8\",\"subtype\":\"Figure\",\"type\":\"Plot\"}},\"id\":\"c428add8-25f9-4b0f-8f04-8735a17557c4\",\"type\":\"Legend\"},{\"attributes\":{\"args\":{\"avg_source\":{\"id\":\"0c3f0d86-dbf6-4a0b-95bc-40c60d45a5eb\",\"type\":\"ColumnDataSource\"},\"dir_select\":{\"id\":\"19377cd3-2725-422e-999e-42182bb54c1e\",\"type\":\"Select\"},\"source\":{\"id\":\"5971d10f-ed48-4f97-b9d8-af009a81e41c\",\"type\":\"ColumnDataSource\"}},\"code\":\"\\n    var data = source.data\\n    var avg_data = avg_source.data\\n    var dir = dir_select.value\\n    var elas = cb_obj.value\\n    \\n    if (dir == 'from the Loop') {\\n        sum = avg_source.data['ratio_from'].reduce((a, b) => a + b, 0)\\n    } else {\\n        sum = avg_source.data['ratio_to'].reduce((a, b) => a + b, 0)\\n    }\\n    \\n    x = data['x']\\n    total = data['total']\\n    N = data['N']\\n    W = data['W']\\n    S = data['S']\\n    L = data['L'] // this doesn't change\\n    for (i = 0; i < x.length; i++) {\\n        total[i] = elas\\n    }\\n    source.change.emit()\\n\"},\"id\":\"0ebe3f1b-9167-4430-a59d-293c3bbcec2f\",\"type\":\"CustomJS\"},{\"attributes\":{\"label\":{\"value\":\"West\"},\"renderers\":[{\"id\":\"e0e8b58e-e4b5-4e73-9bef-4a43ff4f0098\",\"type\":\"GlyphRenderer\"}]},\"id\":\"885c9195-d0b5-44f8-98ec-0cfbcb2dc72e\",\"type\":\"LegendItem\"},{\"attributes\":{\"callback\":null,\"end\":1.0,\"js_property_callbacks\":{\"change:value\":[{\"id\":\"450030ef-5b8e-4c30-9e33-f8beffe49e6c\",\"type\":\"CustomJS\"}]},\"start\":0.0,\"step\":0.1,\"title\":\"price elasticity\",\"value\":0.5},\"id\":\"9a446d13-f86c-449a-8f58-d13449f565d2\",\"type\":\"Slider\"},{\"attributes\":{\"callback\":null,\"js_property_callbacks\":{\"change:value\":[{\"id\":\"c36975a2-2892-4b45-be4c-9d3f4d87159d\",\"type\":\"CustomJS\"}]},\"options\":[\"from the Loop\",\"to the Loop\"],\"title\":\"direction\",\"value\":\"from the Loop\"},\"id\":\"19377cd3-2725-422e-999e-42182bb54c1e\",\"type\":\"Select\"},{\"attributes\":{},\"id\":\"84ade490-ab74-405b-a9e7-9ee9382071c0\",\"type\":\"BasicTickFormatter\"},{\"attributes\":{},\"id\":\"361f386d-a1f6-45ce-a29f-d94fbf9467f8\",\"type\":\"SaveTool\"},{\"attributes\":{\"callback\":null,\"js_property_callbacks\":{\"change:value\":[{\"id\":\"f19bf330-2ece-4e77-9ce5-83bec1bee5dd\",\"type\":\"CustomJS\"}]},\"options\":[\"from the Loop\",\"to the Loop\"],\"title\":\"direction\",\"value\":\"from the Loop\"},\"id\":\"e4bcaeb5-22ae-44fe-9164-de923c0057fb\",\"type\":\"Select\"},{\"attributes\":{\"line_alpha\":0.1,\"line_color\":\"#1f77b4\",\"line_width\":2,\"x\":{\"field\":\"x\"},\"y\":{\"field\":\"W\"}},\"id\":\"06061e02-c2bd-4d0f-9bb3-a5ff8f40f2f9\",\"type\":\"Line\"},{\"attributes\":{\"callback\":null,\"end\":1.0,\"js_property_callbacks\":{\"change:value\":[{\"id\":\"1e386fe7-4b24-44ab-a3ad-616c68cc5dc9\",\"type\":\"CustomJS\"}]},\"start\":0.0,\"step\":0.1,\"title\":\"price elasticity\",\"value\":0.5},\"id\":\"34883c3c-a300-4a3c-800d-dbbf7bd97f50\",\"type\":\"Slider\"},{\"attributes\":{\"args\":{\"avg_source\":{\"id\":\"0c3f0d86-dbf6-4a0b-95bc-40c60d45a5eb\",\"type\":\"ColumnDataSource\"},\"dir_select\":{\"id\":\"47bd621d-cd76-40fb-9919-a93284e52196\",\"type\":\"Select\"},\"source\":{\"id\":\"5971d10f-ed48-4f97-b9d8-af009a81e41c\",\"type\":\"ColumnDataSource\"}},\"code\":\"\\n    var data = source.data\\n    var avg_data = avg_source.data\\n    var dir = dir_select.value\\n    var elas = cb_obj.value\\n    x = data['x']\\n    total = data['total']\\n    N = data['N']\\n    W = data['W']\\n    S = data['S']\\n    L = data['L']\\n    for (i = 0; i < x.length; i++) {\\n        total[i] = elas\\n    }\\n    source.change.emit()\\n\"},\"id\":\"12acde5d-5d76-439d-98a3-d2e7fdffa8dd\",\"type\":\"CustomJS\"},{\"attributes\":{\"line_alpha\":0.1,\"line_color\":\"#1f77b4\",\"line_width\":2,\"x\":{\"field\":\"x\"},\"y\":{\"field\":\"N\"}},\"id\":\"da122632-2c47-43a7-bda3-8691a4f65c27\",\"type\":\"Line\"},{\"attributes\":{\"callback\":null,\"js_property_callbacks\":{\"change:value\":[{\"id\":\"a5548d66-f113-4d1b-a7dd-237185415a1b\",\"type\":\"CustomJS\"}]},\"options\":[\"from the Loop\",\"to the Loop\"],\"title\":\"direction\",\"value\":\"from the Loop\"},\"id\":\"8ebc0ad1-791d-4c45-a911-61ee324e7049\",\"type\":\"Select\"},{\"attributes\":{\"callback\":null,\"end\":1.0,\"js_property_callbacks\":{\"change:value\":[{\"id\":\"dd85d552-b45b-44ee-9339-50be905e4acf\",\"type\":\"CustomJS\"}]},\"start\":0.0,\"step\":0.1,\"title\":\"price elasticity\",\"value\":0.5},\"id\":\"611659fe-de81-443e-a94d-18dc12fe4547\",\"type\":\"Slider\"},{\"attributes\":{\"line_color\":\"#3288bd\",\"line_width\":2,\"x\":{\"field\":\"x\"},\"y\":{\"field\":\"total\"}},\"id\":\"87ba7fec-c392-47a7-8aca-40ba0c455824\",\"type\":\"Line\"},{\"attributes\":{\"args\":{\"avg_source\":{\"id\":\"0c3f0d86-dbf6-4a0b-95bc-40c60d45a5eb\",\"type\":\"ColumnDataSource\"},\"dir_select\":{\"id\":\"02ecefb0-c3c3-4eab-a1eb-eeb46c73e46f\",\"type\":\"Select\"},\"source\":{\"id\":\"5971d10f-ed48-4f97-b9d8-af009a81e41c\",\"type\":\"ColumnDataSource\"}},\"code\":\"\\n    var data = source.data\\n    var avg_data = avg_source.data\\n    var dir = dir_select.value\\n    var elas = cb_obj.value\\n    \\n    regions = avg_data['region']\\n    avgs = avg_data['avg']\\n    if (dir == 'from the Loop') {\\n        var ratios = avg_data['ratio_from']\\n    } else {\\n        var ratios = avg_data['ratio_to']\\n    }\\n    sum = ratios.reduce((a, b) => a + b, 0)\\n    \\n    x = data['x']\\n    total = data['total']\\n    N = data['N']\\n    W = data['W']\\n    S = data['S']\\n    L = data['L']\\n    \\n    for (i = 0; i < x.length; i++) {\\n        N[i] = 0\\n        W[i] = 0\\n        S[i] = 0\\n        L[i] = 0\\n        for (j = 0; j < regions.length; j++) {\\n            if (regions[j] == 'N') {\\n                N[i] += ratios[j] * (1 - elas * x[i] / avgs[j])\\n            } else if (regions[j] == 'W') {\\n                W[i] += ratios[j] * (1 - elas * x[i] / avgs[j])\\n            } else if (regions[j] == 'S') {\\n                S[i] += ratios[j] * (1 - elas * x[i] / avgs[j])\\n            } else {\\n                L[i] += ratios[j]\\n            }\\n        }\\n        N[i] = N[i] / sum\\n        W[i] = W[i] / sum\\n        S[i] = S[i] / sum\\n        L[i] = L[i] / sum\\n        total[i] = N[i] + W[i] + S[i] + L[i]\\n    }\\n    source.change.emit()\\n\"},\"id\":\"90ebf0a0-daf9-47b9-85a8-72d0ba3c49c8\",\"type\":\"CustomJS\"},{\"attributes\":{\"data_source\":{\"id\":\"5971d10f-ed48-4f97-b9d8-af009a81e41c\",\"type\":\"ColumnDataSource\"},\"glyph\":{\"id\":\"dfbcbdc1-e3e1-4bc0-bdf6-253e867dbc54\",\"type\":\"Line\"},\"hover_glyph\":null,\"muted_glyph\":null,\"nonselection_glyph\":{\"id\":\"da122632-2c47-43a7-bda3-8691a4f65c27\",\"type\":\"Line\"},\"selection_glyph\":null,\"view\":{\"id\":\"d6bb0828-8d6e-4125-b413-5db0008951fe\",\"type\":\"CDSView\"}},\"id\":\"fc5acbb6-f362-4ed6-9c6c-b19a4432d9cf\",\"type\":\"GlyphRenderer\"},{\"attributes\":{\"args\":{\"avg_source\":{\"id\":\"0c3f0d86-dbf6-4a0b-95bc-40c60d45a5eb\",\"type\":\"ColumnDataSource\"},\"dir_select\":{\"id\":\"fb0c5707-61aa-4ca7-bee4-ff75da5e1b49\",\"type\":\"Select\"},\"source\":{\"id\":\"5971d10f-ed48-4f97-b9d8-af009a81e41c\",\"type\":\"ColumnDataSource\"}},\"code\":\"\\n    var data = source.data\\n    var avg_data = avg_source.data\\n    var dir = dir_select.value\\n    var elas = cb_obj.value\\n    x = data['x']\\n    total = data['total']\\n    N = data['N']\\n    W = data['W']\\n    S = data['S']\\n    L = data['L'] // this doesn't change\\n    for (i = 0; i < x.length; i++) {\\n        total[i] = elas\\n    }\\n    source.change.emit()\\n\"},\"id\":\"9c748910-b9ca-4348-bf04-02567998f163\",\"type\":\"CustomJS\"},{\"attributes\":{\"callback\":null,\"js_property_callbacks\":{\"change:value\":[{\"id\":\"fc140aae-53fb-4ca6-ad55-11064f6da33e\",\"type\":\"CustomJS\"}]},\"options\":[\"from the Loop\",\"to the Loop\"],\"title\":\"direction\",\"value\":\"from the Loop\"},\"id\":\"58f2fbc1-a8d1-482f-9c51-3785dafc3c51\",\"type\":\"Select\"},{\"attributes\":{\"below\":[{\"id\":\"9ebfdd29-cba4-4793-a94b-694d389c41ec\",\"type\":\"LinearAxis\"}],\"left\":[{\"id\":\"de357428-26f9-48b3-bcfc-97b4dc23b3db\",\"type\":\"LinearAxis\"}],\"renderers\":[{\"id\":\"9ebfdd29-cba4-4793-a94b-694d389c41ec\",\"type\":\"LinearAxis\"},{\"id\":\"95b47f45-09b9-4faf-971b-29221b7d4961\",\"type\":\"Grid\"},{\"id\":\"de357428-26f9-48b3-bcfc-97b4dc23b3db\",\"type\":\"LinearAxis\"},{\"id\":\"0caf4864-21f0-40e1-aa64-2e7025f4055c\",\"type\":\"Grid\"},{\"id\":\"892ca41c-9b1d-445f-84d6-bffed8088911\",\"type\":\"BoxAnnotation\"},{\"id\":\"c428add8-25f9-4b0f-8f04-8735a17557c4\",\"type\":\"Legend\"},{\"id\":\"7a42fc00-d42a-4e65-ac4f-5be2744c3944\",\"type\":\"GlyphRenderer\"},{\"id\":\"fc5acbb6-f362-4ed6-9c6c-b19a4432d9cf\",\"type\":\"GlyphRenderer\"},{\"id\":\"e0e8b58e-e4b5-4e73-9bef-4a43ff4f0098\",\"type\":\"GlyphRenderer\"},{\"id\":\"849d5651-7711-4756-b1cb-a21d2b8d69a2\",\"type\":\"GlyphRenderer\"},{\"id\":\"cc8e3847-3a40-4eec-8f56-a6a3a2f77690\",\"type\":\"GlyphRenderer\"}],\"title\":{\"id\":\"8be7019a-1885-4eb0-af32-17bb80a6ce7f\",\"type\":\"Title\"},\"toolbar\":{\"id\":\"b568adad-34d5-451a-b385-bc5de4b8493f\",\"type\":\"Toolbar\"},\"x_range\":{\"id\":\"6e2b6fe3-9431-4603-b78b-1fd5ea37958f\",\"type\":\"DataRange1d\"},\"x_scale\":{\"id\":\"cf990161-937b-46b5-a337-8d0259740e10\",\"type\":\"LinearScale\"},\"y_range\":{\"id\":\"5c5b7792-09eb-4900-b92e-b6b4f86c2292\",\"type\":\"DataRange1d\"},\"y_scale\":{\"id\":\"48fa3114-782e-45e1-8659-e8eab5d28015\",\"type\":\"LinearScale\"}},\"id\":\"5f604c8c-c57b-41e0-a1af-8e5ac4d99ec8\",\"subtype\":\"Figure\",\"type\":\"Plot\"},{\"attributes\":{},\"id\":\"f3a873a1-78f2-4579-b339-492a13bd2779\",\"type\":\"BasicTickFormatter\"},{\"attributes\":{\"args\":{\"avg_source\":{\"id\":\"0c3f0d86-dbf6-4a0b-95bc-40c60d45a5eb\",\"type\":\"ColumnDataSource\"},\"elas_select\":{\"id\":\"5c2b5b06-5e7c-4e23-a1d4-b6652ce66a8a\",\"type\":\"Slider\"},\"source\":{\"id\":\"5971d10f-ed48-4f97-b9d8-af009a81e41c\",\"type\":\"ColumnDataSource\"}},\"code\":\"\\n    var data = source.data\\n    var avg_data = avg_source.data\\n    var dir = cb_obj.value\\n    var elas = elas_select.value\\n    \\n    if (dir == 'from the Loop') {\\n        sum = avg_source.data['ratio_from'].reduce((a, b) => a + b, 0)\\n    } else {\\n        sum = avg_source.data['ratio_to'].reduce((a, b) => a + b, 0)\\n    }\\n    \\n    x = data['x']\\n    total = data['total']\\n    N = data['N']\\n    W = data['W']\\n    S = data['S']\\n    L = data['L']\\n    for (i = 0; i < x.length; i++) {\\n        if (dir == 'from the Loop') {\\n            total[i] = avg_source.data['ratio_from'].reduce((a, b) => a + b, 0)\\n        } else {\\n            total[i] = avg_source.data['ratio_to'].reduce((a, b) => a + b, 0)\\n        }\\n    }\\n    source.change.emit()\\n\"},\"id\":\"c36975a2-2892-4b45-be4c-9d3f4d87159d\",\"type\":\"CustomJS\"},{\"attributes\":{\"callback\":null,\"js_property_callbacks\":{\"change:value\":[{\"id\":\"9bb48f08-7dd0-4457-af82-329d63ad19dc\",\"type\":\"CustomJS\"}]},\"options\":[\"from the Loop\",\"to the Loop\"],\"title\":\"direction\",\"value\":\"from the Loop\"},\"id\":\"fb0c5707-61aa-4ca7-bee4-ff75da5e1b49\",\"type\":\"Select\"},{\"attributes\":{\"overlay\":{\"id\":\"892ca41c-9b1d-445f-84d6-bffed8088911\",\"type\":\"BoxAnnotation\"}},\"id\":\"812bf097-c904-409f-8853-cd7ec1ab5087\",\"type\":\"BoxZoomTool\"},{\"attributes\":{\"args\":{\"avg_source\":{\"id\":\"0c3f0d86-dbf6-4a0b-95bc-40c60d45a5eb\",\"type\":\"ColumnDataSource\"},\"dir_select\":{\"id\":\"3f4fa4f6-3473-4553-82bc-3a981ceef88a\",\"type\":\"Select\"},\"source\":{\"id\":\"5971d10f-ed48-4f97-b9d8-af009a81e41c\",\"type\":\"ColumnDataSource\"}},\"code\":\"\\n    var data = source.data\\n    var avg_data = avg_source.data\\n    var dir = dir_select.value\\n    var elas = cb_obj.value\\n    \\n    if (dir == 'from the Loop') {\\n        sum = avg_source.data['ratio_from'].reduce((a, b) => a + b, 0)\\n    } else {\\n        sum = avg_source.data['ratio_to'].reduce((a, b) => a + b, 0)\\n    }\\n    \\n    x = data['x']\\n    total = data['total']\\n    N = data['N']\\n    W = data['W']\\n    S = data['S']\\n    L = data['L'] // this doesn't change\\n    for (i = 0; i < x.length; i++) {\\n        total[i] = elas\\n    }\\n    source.change.emit()\\n\"},\"id\":\"474db905-52cc-46c7-95de-073254bd0dd8\",\"type\":\"CustomJS\"},{\"attributes\":{\"line_color\":\"#fee08b\",\"line_width\":2,\"x\":{\"field\":\"x\"},\"y\":{\"field\":\"S\"}},\"id\":\"f6ef102d-629d-409b-aa9b-c113773d5a41\",\"type\":\"Line\"},{\"attributes\":{\"args\":{\"avg_source\":{\"id\":\"0c3f0d86-dbf6-4a0b-95bc-40c60d45a5eb\",\"type\":\"ColumnDataSource\"},\"elas_select\":{\"id\":\"e936a9ed-148e-4b77-baaf-9f53b07d0402\",\"type\":\"Slider\"},\"source\":{\"id\":\"5971d10f-ed48-4f97-b9d8-af009a81e41c\",\"type\":\"ColumnDataSource\"}},\"code\":\"\\n    var data = source.data\\n    var dir = cb_obj.value\\n    var elas = elas_select.value\\n    var avg_data = avg_source.data\\n    \\n    regions = avg_data['region']\\n    avgs = avg_data['avg']\\n    if (dir == 'from the Loop') {\\n        var ratios = avg_data['ratio_from']\\n    } else {\\n        var ratios = avg_data['ratio_to']\\n    }\\n    sum = ratios.reduce((a, b) => a + b, 0)\\n    \\n    x = data['x']\\n    total = data['total']\\n    N = data['N']\\n    W = data['W']\\n    S = data['S']\\n    L = data['L']\\n    \\n    for (i = 0; i < x.length; i++) {\\n        N[i] = 0\\n        W[i] = 0\\n        S[i] = 0\\n        L[i] = 0\\n        for (j = 0; j < regions.length; j++) {\\n            if (regions[j] == 'N') {\\n                N[i] += ratios[j] * (1 - elas * x[i] / avgs[j])\\n            } else if (regions[j] == 'W') {\\n                W[i] += ratios[j] * (1 - elas * x[i] / avgs[j])\\n            } else if (regions[j] == 'S') {\\n                S[i] += ratios[j] * (1 - elas * x[i] / avgs[j])\\n            } else {\\n                L[i] += ratios[j]\\n            }\\n        }\\n        N[i] = N[i] / sum\\n        W[i] = W[i] / sum\\n        S[i] = S[i] / sum\\n        L[i] = L[i] / sum\\n        total[i] = N[i] + W[i] + S[i] + L[i]\\n    }\\n    source.change.emit()\\n\"},\"id\":\"fc140aae-53fb-4ca6-ad55-11064f6da33e\",\"type\":\"CustomJS\"},{\"attributes\":{\"callback\":null,\"end\":1.0,\"js_property_callbacks\":{\"change:value\":[{\"id\":\"90ebf0a0-daf9-47b9-85a8-72d0ba3c49c8\",\"type\":\"CustomJS\"}]},\"start\":0.0,\"step\":0.1,\"title\":\"price elasticity\",\"value\":0.5},\"id\":\"3f39f234-ef4b-44c6-aec4-ed38b995cccb\",\"type\":\"Slider\"},{\"attributes\":{\"plot\":null,\"text\":\"Taxi traffic reduction by region\"},\"id\":\"8be7019a-1885-4eb0-af32-17bb80a6ce7f\",\"type\":\"Title\"},{\"attributes\":{\"callback\":null},\"id\":\"6e2b6fe3-9431-4603-b78b-1fd5ea37958f\",\"type\":\"DataRange1d\"},{\"attributes\":{\"callback\":null,\"end\":1.0,\"js_property_callbacks\":{\"change:value\":[{\"id\":\"36bb98f0-a3d5-4782-8a63-94d8db9ce44b\",\"type\":\"CustomJS\"}]},\"start\":0.0,\"step\":0.1,\"title\":\"price elasticity\",\"value\":0.5},\"id\":\"e936a9ed-148e-4b77-baaf-9f53b07d0402\",\"type\":\"Slider\"},{\"attributes\":{\"data_source\":{\"id\":\"5971d10f-ed48-4f97-b9d8-af009a81e41c\",\"type\":\"ColumnDataSource\"},\"glyph\":{\"id\":\"0480838b-b56b-44fa-9a28-d43253523236\",\"type\":\"Line\"},\"hover_glyph\":null,\"muted_glyph\":null,\"nonselection_glyph\":{\"id\":\"06061e02-c2bd-4d0f-9bb3-a5ff8f40f2f9\",\"type\":\"Line\"},\"selection_glyph\":null,\"view\":{\"id\":\"31ca531a-d209-4ab0-a3eb-43321dc55f26\",\"type\":\"CDSView\"}},\"id\":\"e0e8b58e-e4b5-4e73-9bef-4a43ff4f0098\",\"type\":\"GlyphRenderer\"},{\"attributes\":{\"callback\":null,\"column_names\":[\"x\",\"total\",\"N\",\"W\",\"L\",\"S\",\"index\"],\"data\":{\"L\":{\"__ndarray__\":\"jDLxKOFe0T+MMvEo4V7RP4wy8SjhXtE/jDLxKOFe0T+MMvEo4V7RP4wy8SjhXtE/jDLxKOFe0T+MMvEo4V7RP4wy8SjhXtE/jDLxKOFe0T+MMvEo4V7RP4wy8SjhXtE/jDLxKOFe0T+MMvEo4V7RP4wy8SjhXtE/jDLxKOFe0T+MMvEo4V7RP4wy8SjhXtE/jDLxKOFe0T+MMvEo4V7RP4wy8SjhXtE/jDLxKOFe0T+MMvEo4V7RP4wy8SjhXtE/jDLxKOFe0T+MMvEo4V7RP4wy8SjhXtE/jDLxKOFe0T+MMvEo4V7RP4wy8SjhXtE/jDLxKOFe0T+MMvEo4V7RP4wy8SjhXtE/jDLxKOFe0T+MMvEo4V7RP4wy8SjhXtE/jDLxKOFe0T+MMvEo4V7RP4wy8SjhXtE/jDLxKOFe0T+MMvEo4V7RP4wy8SjhXtE/jDLxKOFe0T+MMvEo4V7RP4wy8SjhXtE/jDLxKOFe0T+MMvEo4V7RP4wy8SjhXtE/jDLxKOFe0T+MMvEo4V7RP4wy8SjhXtE/\",\"dtype\":\"float64\",\"shape\":[51]},\"N\":{\"__ndarray__\":\"/T8qYVDc2D+7bGFHv67YP3qZmC0ugdg/OMbPE51T2D/18gb6CybYP7QfPuB6+Nc/ckx1xunK1z8xeaysWJ3XP++l45LHb9c/rdIaeTZC1z9q/1FfpRTXPyksiUUU59Y/5ljAK4O51j+lhfcR8ovWP2SyLvhgXtY/Id9l3s8w1j/fC53EPgPWP5041Kqt1dU/XGULkRyo1T8ZkkJ3i3rVP9i+eV36TNU/leuwQ2kf1T9UGOgp2PHUPxNFHxBHxNQ/0HFW9rWW1D+Ono3cJGnUP0zLxMKTO9Q/Cvj7qAIO1D/JJDOPceDTP4dRanXgstM/RH6hW0+F0z8Dq9hBvlfTP8HXDygtKtM/fwRHDpz80j89MX70Cs/SP/tdtdp5odI/uYrswOhz0j94tyOnV0bSPzbkWo3GGNI/8xCSczXr0T+xPclZpL3RP29qAEATkNE/LZc3JoJi0T/sw24M8TTRP6rwpfJfB9E/aB3d2M7Z0D8mShS/PazQP+R2S6WsftA/oqOCixtR0D9g0LlxiiPQPz764a/y688/\",\"dtype\":\"float64\",\"shape\":[51]},\"S\":{\"__ndarray__\":\"dy/baCn0rz9gDIYb6syvP0jpMM6qpa8/NMbbgGt+rz8do4YzLFevPwaAMebsL68/7lzcmK0Irz/XOYdLbuGuP8EWMv4uuq4/qvPcsO+Srj+T0IdjsGuuP3ytMhZxRK4/ZordyDEdrj9OZ4h78vWtPzhEMy6zzq0/ICHe4HOnrT8K/oiTNICtP/PaM0b1WK0/3Lfe+LUxrT/FlImrdgqtP65xNF4346w/l07fEPi7rD+AK4rDuJSsP2kINXZ5baw/UuXfKDpGrD88worb+h6sPyWfNY6796s/DnzgQHzQqz/4WIvzPKmrP+E1Nqb9gas/yhLhWL5aqz+y74sLfzOrP5zMNr4/DKs/hanhcADlqj9vhowjwb2qP1djN9aBlqo/QUDiiEJvqj8qHY07A0iqPxP6N+7DIKo//NbioIT5qT/ms41TRdKpP86QOAYGq6k/uG3juMaDqT+hSo5rh1ypP4onOR5INak/cwTk0AgOqT9d4Y6DyeaoP0W+OTaKv6g/Lpvk6EqYqD8YeI+bC3GoPwBVOk7MSag/\",\"dtype\":\"float64\",\"shape\":[51]},\"W\":{\"__ndarray__\":\"eVY3YDEgyT/mcheWjfjIP1KP98vp0Mg/vKvXAUapyD8nyLc3ooHIP5Tkl23+Wcg//gB4o1oyyD9qHVjZtgrIP9Y5OA8T48c/QFYYRW+7xz+scvh6y5PHPxmP2LAnbMc/g6u45oNExz/ux5gc4BzHP1rkeFI89cY/xgBZiJjNxj8wHTm+9KXGP5s5GfRQfsY/B1b5Ka1Wxj9yctlfCS/GP96OuZVlB8Y/SquZy8HfxT+0x3kBHrjFPyDkWTd6kMU/jAA6bdZoxT/3HBqjMkHFP2M5+tiOGcU/zlXaDuvxxD85crpER8rEP6WOmnqjosQ/EKt6sP96xD97x1rmW1PEP+bjOhy4K8Q/UgAbUhQExD++HPuHcNzDPyg5273MtMM/lFW78yiNwz8AcpsphWXDP2uOe1/hPcM/1qpblT0Wwz9CxzvLme7CP6zjGwH2xsI/GAD8NlKfwj+EHNxsrnfCP+84vKIKUMI/WlWc2GYowj/GcXwOwwDCPzKOXEQf2cE/nKo8enuxwT8Ixxyw14nBP3Tj/OUzYsE/\",\"dtype\":\"float64\",\"shape\":[51]},\"index\":[0,1,2,3,4,5,6,7,8,9,10,11,12,13,14,15,16,17,18,19,20,21,22,23,24,25,26,27,28,29,30,31,32,33,34,35,36,37,38,39,40,41,42,43,44,45,46,47,48,49,50],\"total\":{\"__ndarray__\":\"AAAAAAAA8D96GDnovNnvP/QwctB5s+8/bEmruDaN7z/lYeSg82bvP196HYmwQO8/2JJWcW0a7z9Sq49ZKvTuP8zDyEHnze4/RNwBKqSn7j+99DoSYYHuPzgNdPodW+4/sCWt4to07j8qPubKlw7uP6NWH7NU6O0/HG9YmxHC7T+Wh5GDzpvtPw6gymuLde0/ibgDVEhP7T8A0Tw8BSntP3vpdSTCAu0/8wGvDH/c7D9tGuj0O7bsP+gyId34j+w/X0taxbVp7D/ZY5OtckPsP1J8zJUvHew/y5QFfuz26z9FrT5mqdDrP77Fd05mqus/N96wNiOE6z+w9uke4F3rPyoPIwedN+s/oydc71kR6z8cQJXXFuvqP5VYzr/TxOo/D3EHqJCe6j+JiUCQTXjqPwKieXgKUuo/erqyYMcr6j/z0utIhAXqP2zrJDFB3+k/5gNeGf646T9gHJcBu5LpP9o00Ol3bOk/UU0J0jRG6T/LZUK68R/pP0R+e6Ku+eg/vpa0imvT6D84r+1yKK3oP7DHJlvlhug/\",\"dtype\":\"float64\",\"shape\":[51]},\"x\":{\"__ndarray__\":\"AAAAAAAAAACamZmZmZm5P5qZmZmZmck/NDMzMzMz0z+amZmZmZnZPwAAAAAAAOA/NDMzMzMz4z9nZmZmZmbmP5qZmZmZmek/zczMzMzM7D8AAAAAAADwP5qZmZmZmfE/NDMzMzMz8z/NzMzMzMz0P2dmZmZmZvY/AAAAAAAA+D+amZmZmZn5PzQzMzMzM/s/zczMzMzM/D9nZmZmZmb+PwAAAAAAAABAzczMzMzMAECamZmZmZkBQGdmZmZmZgJANDMzMzMzA0AAAAAAAAAEQM3MzMzMzARAmpmZmZmZBUBnZmZmZmYGQDQzMzMzMwdAAAAAAAAACEDNzMzMzMwIQJqZmZmZmQlAZ2ZmZmZmCkA0MzMzMzMLQAAAAAAAAAxAzczMzMzMDECamZmZmZkNQGdmZmZmZg5ANDMzMzMzD0AAAAAAAAAQQGdmZmZmZhBAzczMzMzMEEAzMzMzMzMRQJqZmZmZmRFAAAAAAAAAEkBnZmZmZmYSQM3MzMzMzBJANDMzMzMzE0CamZmZmZkTQAAAAAAAABRA\",\"dtype\":\"float64\",\"shape\":[51]}}},\"id\":\"5971d10f-ed48-4f97-b9d8-af009a81e41c\",\"type\":\"ColumnDataSource\"},{\"attributes\":{\"children\":[{\"id\":\"58f2fbc1-a8d1-482f-9c51-3785dafc3c51\",\"type\":\"Select\"},{\"id\":\"3f39f234-ef4b-44c6-aec4-ed38b995cccb\",\"type\":\"Slider\"}]},\"id\":\"3fb12102-459f-40be-9e31-fd1304ef28ea\",\"type\":\"WidgetBox\"},{\"attributes\":{},\"id\":\"422d8908-975b-4eb4-af02-a1d5478093c2\",\"type\":\"BasicTicker\"},{\"attributes\":{\"source\":{\"id\":\"5971d10f-ed48-4f97-b9d8-af009a81e41c\",\"type\":\"ColumnDataSource\"}},\"id\":\"85f941b3-14ec-4d88-9414-c51467cdc22d\",\"type\":\"CDSView\"},{\"attributes\":{\"children\":[{\"id\":\"3fb12102-459f-40be-9e31-fd1304ef28ea\",\"type\":\"WidgetBox\"},{\"id\":\"5f604c8c-c57b-41e0-a1af-8e5ac4d99ec8\",\"subtype\":\"Figure\",\"type\":\"Plot\"}]},\"id\":\"16c804fb-1ccd-4709-b853-0411d30c737f\",\"type\":\"Row\"},{\"attributes\":{},\"id\":\"3323715f-6398-40d7-8f5c-3b8591a51e9b\",\"type\":\"WheelZoomTool\"},{\"attributes\":{\"args\":{\"avg_source\":{\"id\":\"0c3f0d86-dbf6-4a0b-95bc-40c60d45a5eb\",\"type\":\"ColumnDataSource\"},\"dir_select\":{\"id\":\"44e87981-edac-4b1f-a268-e647339290b9\",\"type\":\"Select\"},\"elas_select\":{\"id\":\"36720472-1f7e-4fe2-acab-f4813254a53c\",\"type\":\"Slider\"},\"source\":{\"id\":\"5971d10f-ed48-4f97-b9d8-af009a81e41c\",\"type\":\"ColumnDataSource\"}},\"code\":\"\\n    var data = source.data\\n    var avg_data = avg_source.data\\n    var dir = dir_select.value\\n    var elas = elas_select.value\\n    x = data['x']\\n    total = data['total']\\n    N = data['N']\\n    W = data['W']\\n    S = data['S']\\n    L = data['L']\\n    for (i = 0; i < x.length; i++) {\\n        total[i] = elas\\n    }\\n    source.change.emit()\\n\"},\"id\":\"d70a09a0-39c8-4b65-92f5-849367da6d4e\",\"type\":\"CustomJS\"},{\"attributes\":{\"active_drag\":\"auto\",\"active_inspect\":\"auto\",\"active_scroll\":\"auto\",\"active_tap\":\"auto\",\"tools\":[{\"id\":\"9b181eed-49b3-4712-b87a-653516ea9799\",\"type\":\"PanTool\"},{\"id\":\"812bf097-c904-409f-8853-cd7ec1ab5087\",\"type\":\"BoxZoomTool\"},{\"id\":\"3323715f-6398-40d7-8f5c-3b8591a51e9b\",\"type\":\"WheelZoomTool\"},{\"id\":\"a8a75034-3ff1-41d6-a16f-cc96590c8e6d\",\"type\":\"ResetTool\"},{\"id\":\"361f386d-a1f6-45ce-a29f-d94fbf9467f8\",\"type\":\"SaveTool\"},{\"id\":\"b5971991-772a-4ee0-9818-774ce5176794\",\"type\":\"HoverTool\"}]},\"id\":\"b568adad-34d5-451a-b385-bc5de4b8493f\",\"type\":\"Toolbar\"},{\"attributes\":{},\"id\":\"a8a75034-3ff1-41d6-a16f-cc96590c8e6d\",\"type\":\"ResetTool\"},{\"attributes\":{\"label\":{\"value\":\"Total\"},\"renderers\":[{\"id\":\"7a42fc00-d42a-4e65-ac4f-5be2744c3944\",\"type\":\"GlyphRenderer\"}]},\"id\":\"8a97fe40-adc8-41f8-b707-7fec83ea106b\",\"type\":\"LegendItem\"},{\"attributes\":{},\"id\":\"cf990161-937b-46b5-a337-8d0259740e10\",\"type\":\"LinearScale\"},{\"attributes\":{\"callback\":null},\"id\":\"5c5b7792-09eb-4900-b92e-b6b4f86c2292\",\"type\":\"DataRange1d\"},{\"attributes\":{\"line_alpha\":0.1,\"line_color\":\"#1f77b4\",\"line_width\":2,\"x\":{\"field\":\"x\"},\"y\":{\"field\":\"L\"}},\"id\":\"2195ccb1-114e-4a5f-865a-5bec8666dda7\",\"type\":\"Line\"},{\"attributes\":{\"callback\":null,\"end\":1.0,\"js_property_callbacks\":{\"change:value\":[{\"id\":\"5ad6bcd0-1c63-4205-9550-e9c857db4c22\",\"type\":\"CustomJS\"}]},\"start\":0.0,\"step\":0.1,\"title\":\"price elasticity\",\"value\":0.5},\"id\":\"9d88e0a9-bf00-4699-af94-e43a6414ff3a\",\"type\":\"Slider\"},{\"attributes\":{\"callback\":null,\"js_property_callbacks\":{\"change:value\":[{\"id\":\"90726395-67f6-4fec-9c0f-8887046d697e\",\"type\":\"CustomJS\"}]},\"options\":[\"from the Loop\",\"to the Loop\"],\"title\":\"direction\",\"value\":\"from the Loop\"},\"id\":\"0b0109bb-7b9f-4b55-bbd0-66170b0d8b6e\",\"type\":\"Select\"},{\"attributes\":{},\"id\":\"48fa3114-782e-45e1-8659-e8eab5d28015\",\"type\":\"LinearScale\"},{\"attributes\":{\"line_color\":\"#99d594\",\"line_width\":2,\"x\":{\"field\":\"x\"},\"y\":{\"field\":\"N\"}},\"id\":\"dfbcbdc1-e3e1-4bc0-bdf6-253e867dbc54\",\"type\":\"Line\"},{\"attributes\":{\"line_color\":\"#fc8d59\",\"line_width\":2,\"x\":{\"field\":\"x\"},\"y\":{\"field\":\"L\"}},\"id\":\"b207aadf-dfec-48ec-a2bd-529e3244413b\",\"type\":\"Line\"},{\"attributes\":{\"axis_label\":\"fee (dollars)\",\"formatter\":{\"id\":\"84ade490-ab74-405b-a9e7-9ee9382071c0\",\"type\":\"BasicTickFormatter\"},\"plot\":{\"id\":\"5f604c8c-c57b-41e0-a1af-8e5ac4d99ec8\",\"subtype\":\"Figure\",\"type\":\"Plot\"},\"ticker\":{\"id\":\"422d8908-975b-4eb4-af02-a1d5478093c2\",\"type\":\"BasicTicker\"}},\"id\":\"9ebfdd29-cba4-4793-a94b-694d389c41ec\",\"type\":\"LinearAxis\"},{\"attributes\":{\"args\":{\"avg_source\":{\"id\":\"0c3f0d86-dbf6-4a0b-95bc-40c60d45a5eb\",\"type\":\"ColumnDataSource\"},\"dir_select\":{\"id\":\"0b0109bb-7b9f-4b55-bbd0-66170b0d8b6e\",\"type\":\"Select\"},\"source\":{\"id\":\"5971d10f-ed48-4f97-b9d8-af009a81e41c\",\"type\":\"ColumnDataSource\"}},\"code\":\"\\n    var data = source.data\\n    var avg_data = avg_source.data\\n    var dir = dir_select.value\\n    var elas = cb_obj.value\\n    \\n    if (dir == 'from the Loop') {\\n        sum = avg_source.data['ratio_from'].reduce((a, b) => a + b, 0)\\n    } else {\\n        sum = avg_source.data['ratio_to'].reduce((a, b) => a + b, 0)\\n    }\\n    \\n    x = data['x']\\n    total = data['total']\\n    N = data['N']\\n    W = data['W']\\n    S = data['S']\\n    L = data['L'] // this doesn't change\\n    for (i = 0; i < x.length; i++) {\\n        total[i] = elas\\n    }\\n    source.change.emit()\\n\"},\"id\":\"2bc97a75-f690-46fb-98b7-c41a9359564c\",\"type\":\"CustomJS\"},{\"attributes\":{\"label\":{\"value\":\"South\"},\"renderers\":[{\"id\":\"849d5651-7711-4756-b1cb-a21d2b8d69a2\",\"type\":\"GlyphRenderer\"}]},\"id\":\"e74f81dc-222a-4e24-9a1c-6ebe2c696842\",\"type\":\"LegendItem\"},{\"attributes\":{\"callback\":null,\"js_property_callbacks\":{\"change:value\":[{\"id\":\"7f4a04d9-3ce0-4414-a3cd-d91fa1ec24f3\",\"type\":\"CustomJS\"}]},\"options\":[\"from the Loop\",\"to the Loop\"],\"title\":\"direction\",\"value\":\"from the Loop\"},\"id\":\"a7781590-eb31-457f-82b2-efccad5bbd26\",\"type\":\"Select\"},{\"attributes\":{\"source\":{\"id\":\"5971d10f-ed48-4f97-b9d8-af009a81e41c\",\"type\":\"ColumnDataSource\"}},\"id\":\"31ca531a-d209-4ab0-a3eb-43321dc55f26\",\"type\":\"CDSView\"},{\"attributes\":{\"callback\":null,\"end\":1.0,\"js_property_callbacks\":{\"change:value\":[{\"id\":\"0ebe3f1b-9167-4430-a59d-293c3bbcec2f\",\"type\":\"CustomJS\"}]},\"start\":0.0,\"step\":0.1,\"title\":\"price elasticity\",\"value\":0.5},\"id\":\"0e394aa0-1268-400d-ac0d-7a06100f719f\",\"type\":\"Slider\"},{\"attributes\":{\"data_source\":{\"id\":\"5971d10f-ed48-4f97-b9d8-af009a81e41c\",\"type\":\"ColumnDataSource\"},\"glyph\":{\"id\":\"f6ef102d-629d-409b-aa9b-c113773d5a41\",\"type\":\"Line\"},\"hover_glyph\":null,\"muted_glyph\":null,\"nonselection_glyph\":{\"id\":\"e81ce3ca-7d2a-4292-9adb-c15fb7a9e538\",\"type\":\"Line\"},\"selection_glyph\":null,\"view\":{\"id\":\"85f941b3-14ec-4d88-9414-c51467cdc22d\",\"type\":\"CDSView\"}},\"id\":\"849d5651-7711-4756-b1cb-a21d2b8d69a2\",\"type\":\"GlyphRenderer\"},{\"attributes\":{\"args\":{\"avg_source\":{\"id\":\"0c3f0d86-dbf6-4a0b-95bc-40c60d45a5eb\",\"type\":\"ColumnDataSource\"},\"dir_select\":{\"id\":\"73a0f147-1df4-48b4-97c8-9a340cc36b20\",\"type\":\"Select\"},\"source\":{\"id\":\"5971d10f-ed48-4f97-b9d8-af009a81e41c\",\"type\":\"ColumnDataSource\"}},\"code\":\"\\n    var data = source.data\\n    var avg_data = avg_source.data\\n    var dir = dir_select.value\\n    var elas = cb_obj.value\\n    \\n    if (dir == 'from the Loop') {\\n        sum = avg_source.data['ratio_from'].reduce((a, b) => a + b, 0)\\n    } else {\\n        sum = avg_source.data['ratio_to'].reduce((a, b) => a + b, 0)\\n    }\\n    \\n    x = data['x']\\n    total = data['total']\\n    N = data['N']\\n    W = data['W']\\n    S = data['S']\\n    L = data['L'] // this doesn't change\\n    for (i = 0; i < x.length; i++) {\\n        total[i] = elas\\n    }\\n    source.change.emit()\\n\"},\"id\":\"dfd2d325-a45a-45f1-9b8c-3190d2a79f3a\",\"type\":\"CustomJS\"},{\"attributes\":{\"args\":{\"avg_source\":{\"id\":\"0c3f0d86-dbf6-4a0b-95bc-40c60d45a5eb\",\"type\":\"ColumnDataSource\"},\"dir_select\":{\"id\":\"7a53fdc1-148c-4d21-81fc-66c4a08cc038\",\"type\":\"Select\"},\"source\":{\"id\":\"5971d10f-ed48-4f97-b9d8-af009a81e41c\",\"type\":\"ColumnDataSource\"}},\"code\":\"\\n    var data = source.data\\n    var avg_data = avg_source.data\\n    var dir = dir_select.value\\n    var elas = cb_obj.value\\n    x = data['x']\\n    total = data['total']\\n    N = data['N']\\n    W = data['W']\\n    S = data['S']\\n    L = data['L'] // this doesn't change\\n    for (i = 0; i < x.length; i++) {\\n        total[i] = elas\\n    }\\n    source.change.emit()\\n\"},\"id\":\"1e386fe7-4b24-44ab-a3ad-616c68cc5dc9\",\"type\":\"CustomJS\"},{\"attributes\":{\"callback\":null,\"js_property_callbacks\":{\"change:value\":[{\"id\":\"f3309666-fe25-47b6-a2df-76b73c660a02\",\"type\":\"CustomJS\"}]},\"options\":[\"from the Loop\",\"to the Loop\"],\"title\":\"direction\",\"value\":\"from the Loop\"},\"id\":\"73a0f147-1df4-48b4-97c8-9a340cc36b20\",\"type\":\"Select\"},{\"attributes\":{\"args\":{\"avg_source\":{\"id\":\"0c3f0d86-dbf6-4a0b-95bc-40c60d45a5eb\",\"type\":\"ColumnDataSource\"},\"elas_select\":{\"id\":\"34883c3c-a300-4a3c-800d-dbbf7bd97f50\",\"type\":\"Slider\"},\"source\":{\"id\":\"5971d10f-ed48-4f97-b9d8-af009a81e41c\",\"type\":\"ColumnDataSource\"}},\"code\":\"\\n    var data = source.data\\n    var avg_data = avg_source.data\\n    var dir = cb_obj.value\\n    var elas = elas_select.value\\n    \\n    x = data['x']\\n    total = data['total']\\n    N = data['N']\\n    W = data['W']\\n    S = data['S']\\n    L = data['L']\\n    for (i = 0; i < x.length; i++) {\\n        if (dir == 'from the Loop') {\\n            total[i] = avg_source.data['ratio_from'].reduce(add, 0)\\n        } else {\\n            total[i] = 0.\\n        }\\n    }\\n    source.change.emit()\\n\"},\"id\":\"9bb48f08-7dd0-4457-af82-329d63ad19dc\",\"type\":\"CustomJS\"},{\"attributes\":{\"axis_label\":\"proportion of taxi rides\",\"formatter\":{\"id\":\"f3a873a1-78f2-4579-b339-492a13bd2779\",\"type\":\"BasicTickFormatter\"},\"plot\":{\"id\":\"5f604c8c-c57b-41e0-a1af-8e5ac4d99ec8\",\"subtype\":\"Figure\",\"type\":\"Plot\"},\"ticker\":{\"id\":\"871cbb0d-0ab8-4883-9103-bfe9aaca30fa\",\"type\":\"BasicTicker\"}},\"id\":\"de357428-26f9-48b3-bcfc-97b4dc23b3db\",\"type\":\"LinearAxis\"},{\"attributes\":{\"args\":{\"avg_source\":{\"id\":\"0c3f0d86-dbf6-4a0b-95bc-40c60d45a5eb\",\"type\":\"ColumnDataSource\"},\"dir_select\":{\"id\":\"e4bcaeb5-22ae-44fe-9164-de923c0057fb\",\"type\":\"Select\"},\"source\":{\"id\":\"5971d10f-ed48-4f97-b9d8-af009a81e41c\",\"type\":\"ColumnDataSource\"}},\"code\":\"\\n    var data = source.data\\n    var avg_data = avg_source.data\\n    var dir = dir_select.value\\n    var elas = cb_obj.value\\n    \\n    if (dir == 'from the Loop') {\\n        sum = avg_source.data['ratio_from'].reduce((a, b) => a + b, 0)\\n    } else {\\n        sum = avg_source.data['ratio_to'].reduce((a, b) => a + b, 0)\\n    }\\n    \\n    x = data['x']\\n    total = data['total']\\n    N = data['N']\\n    W = data['W']\\n    S = data['S']\\n    L = data['L'] // this doesn't change\\n    for (i = 0; i < x.length; i++) {\\n        total[i] = elas\\n    }\\n    source.change.emit()\\n\"},\"id\":\"36bb98f0-a3d5-4782-8a63-94d8db9ce44b\",\"type\":\"CustomJS\"},{\"attributes\":{\"line_color\":\"#e6f598\",\"line_width\":2,\"x\":{\"field\":\"x\"},\"y\":{\"field\":\"W\"}},\"id\":\"0480838b-b56b-44fa-9a28-d43253523236\",\"type\":\"Line\"},{\"attributes\":{\"callback\":null,\"end\":1.0,\"js_property_callbacks\":{\"change:value\":[{\"id\":\"9c748910-b9ca-4348-bf04-02567998f163\",\"type\":\"CustomJS\"}]},\"start\":0.0,\"step\":0.1,\"title\":\"price elasticity\",\"value\":0.5},\"id\":\"5c2b5b06-5e7c-4e23-a1d4-b6652ce66a8a\",\"type\":\"Slider\"},{\"attributes\":{\"args\":{\"avg_source\":{\"id\":\"0c3f0d86-dbf6-4a0b-95bc-40c60d45a5eb\",\"type\":\"ColumnDataSource\"},\"elas_select\":{\"id\":\"b19d6afb-3813-444c-a6f1-07cd04cdeb37\",\"type\":\"Slider\"},\"source\":{\"id\":\"5971d10f-ed48-4f97-b9d8-af009a81e41c\",\"type\":\"ColumnDataSource\"}},\"code\":\"\\n    var data = source.data\\n    var dir = cb_obj.value\\n    var elas = elas_select.value\\n    var avg_data = avg_source.data\\n    \\n    regions = avg_data['region']\\n    avgs = avg_data['avg']\\n    if (dir == 'from the Loop') {\\n        var ratios = avg_data['ratio_from']\\n    } else {\\n        var ratios = avg_data['ratio_to']\\n    }\\n    \\n    x = data['x']\\n    total = data['total']\\n    N = data['N']\\n    W = data['W']\\n    S = data['S']\\n    L = data['L']\\n    \\n    for (i = 0; i < x.length; i++) {\\n        N[i] = 0\\n        for (j = 0; j < regions.length; j++) {\\n            if (regions[j] == 'N') {\\n                N[i] += ratios[j] * (1. - elas * x[i] / avg[j])\\n            }\\n        }\\n        total[i] = ratios.reduce((a, b) => a + b, 0)\\n    }\\n    source.change.emit()\\n\"},\"id\":\"f3309666-fe25-47b6-a2df-76b73c660a02\",\"type\":\"CustomJS\"},{\"attributes\":{\"callback\":null,\"options\":[\"from the Loop\",\"to the Loop\"],\"title\":\"direction\",\"value\":\"from the Loop\"},\"id\":\"47bd621d-cd76-40fb-9919-a93284e52196\",\"type\":\"Select\"},{\"attributes\":{\"args\":{\"avg_source\":{\"id\":\"0c3f0d86-dbf6-4a0b-95bc-40c60d45a5eb\",\"type\":\"ColumnDataSource\"},\"elas_select\":{\"id\":\"0e394aa0-1268-400d-ac0d-7a06100f719f\",\"type\":\"Slider\"},\"source\":{\"id\":\"5971d10f-ed48-4f97-b9d8-af009a81e41c\",\"type\":\"ColumnDataSource\"}},\"code\":\"\\n    var data = source.data\\n    var dir = cb_obj.value\\n    var elas = elas_select.value\\n    var avg_data = avg_source.data\\n    \\n    regions = avg_data['region']\\n    if (dir == 'from the Loop') {\\n        var ratios = avg_data['ratio_from']\\n    } else {\\n        var ratios = avg_data['ratio_to']\\n    }\\n    \\n    x = data['x']\\n    total = data['total']\\n    N = data['N']\\n    W = data['W']\\n    S = data['S']\\n    L = data['L']\\n    for (i = 0; i < x.length; i++) {\\n        total[i] = ratios.reduce((a, b) => a + b, 0)\\n    }\\n    source.change.emit()\\n\"},\"id\":\"76a910d1-eb3e-4e0d-994c-f2a5b4994a1d\",\"type\":\"CustomJS\"},{\"attributes\":{\"plot\":{\"id\":\"5f604c8c-c57b-41e0-a1af-8e5ac4d99ec8\",\"subtype\":\"Figure\",\"type\":\"Plot\"},\"ticker\":{\"id\":\"422d8908-975b-4eb4-af02-a1d5478093c2\",\"type\":\"BasicTicker\"}},\"id\":\"95b47f45-09b9-4faf-971b-29221b7d4961\",\"type\":\"Grid\"},{\"attributes\":{\"callback\":null,\"end\":1.0,\"js_property_callbacks\":{\"change:value\":[{\"id\":\"2bc97a75-f690-46fb-98b7-c41a9359564c\",\"type\":\"CustomJS\"}]},\"start\":0.0,\"step\":0.1,\"title\":\"price elasticity\",\"value\":0.5},\"id\":\"b19d6afb-3813-444c-a6f1-07cd04cdeb37\",\"type\":\"Slider\"},{\"attributes\":{\"callback\":null,\"end\":1.0,\"js_property_callbacks\":{\"change:value\":[{\"id\":\"474db905-52cc-46c7-95de-073254bd0dd8\",\"type\":\"CustomJS\"}]},\"start\":0.0,\"step\":0.1,\"title\":\"price elasticity\",\"value\":0.5},\"id\":\"a5fa7426-9d22-4d92-bf1b-d3bd0ae77dba\",\"type\":\"Slider\"},{\"attributes\":{\"args\":{\"avg_source\":{\"id\":\"0c3f0d86-dbf6-4a0b-95bc-40c60d45a5eb\",\"type\":\"ColumnDataSource\"},\"elas_select\":{\"id\":\"611659fe-de81-443e-a94d-18dc12fe4547\",\"type\":\"Slider\"},\"source\":{\"id\":\"5971d10f-ed48-4f97-b9d8-af009a81e41c\",\"type\":\"ColumnDataSource\"}},\"code\":\"\\n    var data = source.data\\n    var avg_data = avg_source.data\\n    var dir = cb_obj.value\\n    var elas = elas_select.value\\n    \\n    x = data['x']\\n    total = data['total']\\n    N = data['N']\\n    W = data['W']\\n    S = data['S']\\n    L = data['L']\\n    for (i = 0; i < x.length; i++) {\\n        if (dir == 'from the Loop') {\\n            total[i] = 1.\\n        } else {\\n            total[i] = 0.\\n        }\\n    }\\n    source.change.emit()\\n\"},\"id\":\"dd114383-1de8-439f-b763-75e5dcefbb34\",\"type\":\"CustomJS\"},{\"attributes\":{\"label\":{\"value\":\"Loop\"},\"renderers\":[{\"id\":\"cc8e3847-3a40-4eec-8f56-a6a3a2f77690\",\"type\":\"GlyphRenderer\"}]},\"id\":\"7d878068-79ba-4a40-8075-4e1b2cbfbecc\",\"type\":\"LegendItem\"},{\"attributes\":{\"args\":{\"avg_source\":{\"id\":\"0c3f0d86-dbf6-4a0b-95bc-40c60d45a5eb\",\"type\":\"ColumnDataSource\"},\"elas_select\":{\"id\":\"eea4b04e-265f-4312-863e-46752d4b28f9\",\"type\":\"Slider\"},\"source\":{\"id\":\"5971d10f-ed48-4f97-b9d8-af009a81e41c\",\"type\":\"ColumnDataSource\"}},\"code\":\"\\n    var data = source.data\\n    var avg_data = avg_source.data\\n    var dir = cb_obj.value\\n    var elas = elas_select.value\\n    x = data['x']\\n    total = data['total']\\n    N = data['N']\\n    W = data['W']\\n    S = data['S']\\n    L = data['L']\\n    for (i = 0; i < x.length; i++) {\\n        total[i] = elas\\n    }\\n    source.change.emit()\\n\"},\"id\":\"7f4a04d9-3ce0-4414-a3cd-d91fa1ec24f3\",\"type\":\"CustomJS\"},{\"attributes\":{\"callback\":null,\"js_property_callbacks\":{\"change:value\":[{\"id\":\"fc140aae-53fb-4ca6-ad55-11064f6da33e\",\"type\":\"CustomJS\"}]},\"options\":[\"from the Loop\",\"to the Loop\"],\"title\":\"direction\",\"value\":\"from the Loop\"},\"id\":\"02ecefb0-c3c3-4eab-a1eb-eeb46c73e46f\",\"type\":\"Select\"},{\"attributes\":{\"callback\":null,\"end\":1.0,\"js_property_callbacks\":{\"change:value\":[{\"id\":\"d70a09a0-39c8-4b65-92f5-849367da6d4e\",\"type\":\"CustomJS\"}]},\"start\":0.0,\"step\":0.1,\"title\":\"price elasticity\",\"value\":0.5},\"id\":\"eea4b04e-265f-4312-863e-46752d4b28f9\",\"type\":\"Slider\"},{\"attributes\":{\"data_source\":{\"id\":\"5971d10f-ed48-4f97-b9d8-af009a81e41c\",\"type\":\"ColumnDataSource\"},\"glyph\":{\"id\":\"b207aadf-dfec-48ec-a2bd-529e3244413b\",\"type\":\"Line\"},\"hover_glyph\":null,\"muted_glyph\":null,\"nonselection_glyph\":{\"id\":\"2195ccb1-114e-4a5f-865a-5bec8666dda7\",\"type\":\"Line\"},\"selection_glyph\":null,\"view\":{\"id\":\"bb4dbeb7-90ba-435b-8f2a-dc27c03364c6\",\"type\":\"CDSView\"}},\"id\":\"cc8e3847-3a40-4eec-8f56-a6a3a2f77690\",\"type\":\"GlyphRenderer\"},{\"attributes\":{\"args\":{\"avg_source\":{\"id\":\"0c3f0d86-dbf6-4a0b-95bc-40c60d45a5eb\",\"type\":\"ColumnDataSource\"},\"dir_select\":{\"id\":\"8ebc0ad1-791d-4c45-a911-61ee324e7049\",\"type\":\"Select\"},\"source\":{\"id\":\"5971d10f-ed48-4f97-b9d8-af009a81e41c\",\"type\":\"ColumnDataSource\"}},\"code\":\"\\n    var data = source.data\\n    var avg_data = avg_source.data\\n    var dir = dir_select.value\\n    var elas = cb_obj.value\\n    \\n    if (dir == 'from the Loop') {\\n        sum = avg_source.data['ratio_from'].reduce((a, b) => a + b, 0)\\n    } else {\\n        sum = avg_source.data['ratio_to'].reduce((a, b) => a + b, 0)\\n    }\\n    \\n    x = data['x']\\n    total = data['total']\\n    N = data['N']\\n    W = data['W']\\n    S = data['S']\\n    L = data['L'] // this doesn't change\\n    for (i = 0; i < x.length; i++) {\\n        total[i] = elas\\n    }\\n    source.change.emit()\\n\"},\"id\":\"5ad6bcd0-1c63-4205-9550-e9c857db4c22\",\"type\":\"CustomJS\"},{\"attributes\":{\"callback\":null,\"end\":1.0,\"js_property_callbacks\":{\"change:value\":[{\"id\":\"12acde5d-5d76-439d-98a3-d2e7fdffa8dd\",\"type\":\"CustomJS\"}]},\"start\":0.0,\"step\":0.1,\"title\":\"price elasticity\",\"value\":0.5},\"id\":\"36720472-1f7e-4fe2-acab-f4813254a53c\",\"type\":\"Slider\"},{\"attributes\":{\"callback\":null,\"js_property_callbacks\":{\"change:value\":[{\"id\":\"6be36b59-2ae1-4cb4-b15c-f0c3f4f88de6\",\"type\":\"CustomJS\"}]},\"options\":[\"from the Loop\",\"to the Loop\"],\"title\":\"direction\",\"value\":\"from the Loop\"},\"id\":\"9184999d-ef4e-48ba-b90c-caa896b243e5\",\"type\":\"Select\"},{\"attributes\":{\"callback\":null,\"tooltips\":[[\"(x,y)\",\"($x, $y)\"]]},\"id\":\"b5971991-772a-4ee0-9818-774ce5176794\",\"type\":\"HoverTool\"}],\"root_ids\":[\"16c804fb-1ccd-4709-b853-0411d30c737f\"]},\"title\":\"Bokeh Application\",\"version\":\"0.12.13\"}};\n",
       "  var render_items = [{\"docid\":\"1538ddcb-d206-497d-ae69-86a58ba3d0da\",\"elementid\":\"ac8db629-a6a8-425f-bb66-559416532a0a\",\"modelid\":\"16c804fb-1ccd-4709-b853-0411d30c737f\"}];\n",
       "  root.Bokeh.embed.embed_items_notebook(docs_json, render_items);\n",
       "\n",
       "  }\n",
       "  if (root.Bokeh !== undefined) {\n",
       "    embed_document(root);\n",
       "  } else {\n",
       "    var attempts = 0;\n",
       "    var timer = setInterval(function(root) {\n",
       "      if (root.Bokeh !== undefined) {\n",
       "        embed_document(root);\n",
       "        clearInterval(timer);\n",
       "      }\n",
       "      attempts++;\n",
       "      if (attempts > 100) {\n",
       "        console.log(\"Bokeh: ERROR: Unable to run BokehJS code because BokehJS library is missing\")\n",
       "        clearInterval(timer);\n",
       "      }\n",
       "    }, 10, root)\n",
       "  }\n",
       "})(window);"
      ],
      "application/vnd.bokehjs_exec.v0+json": ""
     },
     "metadata": {
      "application/vnd.bokehjs_exec.v0+json": {
       "id": "16c804fb-1ccd-4709-b853-0411d30c737f"
      }
     },
     "output_type": "display_data"
    }
   ],
   "source": [
    "show(layout)"
   ]
  },
  {
   "cell_type": "code",
   "execution_count": null,
   "metadata": {},
   "outputs": [],
   "source": []
  },
  {
   "cell_type": "code",
   "execution_count": 35,
   "metadata": {},
   "outputs": [
    {
     "data": {
      "text/html": [
       "\n",
       "<div class=\"bk-root\">\n",
       "    <div class=\"bk-plotdiv\" id=\"05d9dd38-10ea-4d22-bc02-ca716b53a408\"></div>\n",
       "</div>"
      ]
     },
     "metadata": {},
     "output_type": "display_data"
    },
    {
     "data": {
      "application/javascript": [
       "(function(root) {\n",
       "  function embed_document(root) {\n",
       "    \n",
       "  var docs_json = {\"8e12bd0b-1224-4ce2-aebf-b32cb6688b05\":{\"roots\":{\"references\":[{\"attributes\":{\"source\":{\"id\":\"cf91dde4-4d96-4b4d-968d-0b9c42fd43ef\",\"type\":\"ColumnDataSource\"}},\"id\":\"682a1996-75e6-4bd0-a5e6-3a965cc37f33\",\"type\":\"CDSView\"},{\"attributes\":{\"callback\":null,\"column_names\":[\"x\",\"y\"],\"data\":{\"x\":[0.0,0.005,0.01,0.015,0.02,0.025,0.03,0.035,0.04,0.045,0.05,0.055,0.06,0.065,0.07,0.075,0.08,0.085,0.09,0.095,0.1,0.105,0.11,0.115,0.12,0.125,0.13,0.135,0.14,0.145,0.15,0.155,0.16,0.165,0.17,0.17500000000000002,0.18,0.185,0.19,0.195,0.2,0.20500000000000002,0.21,0.215,0.22,0.225,0.23,0.23500000000000001,0.24,0.245,0.25,0.255,0.26,0.265,0.27,0.275,0.28,0.28500000000000003,0.29,0.295,0.3,0.305,0.31,0.315,0.32,0.325,0.33,0.335,0.34,0.34500000000000003,0.35000000000000003,0.355,0.36,0.365,0.37,0.375,0.38,0.385,0.39,0.395,0.4,0.405,0.41000000000000003,0.41500000000000004,0.42,0.425,0.43,0.435,0.44,0.445,0.45,0.455,0.46,0.465,0.47000000000000003,0.47500000000000003,0.48,0.485,0.49,0.495,0.5,0.505,0.51,0.515,0.52,0.525,0.53,0.535,0.54,0.545,0.55,0.555,0.56,0.5650000000000001,0.5700000000000001,0.5750000000000001,0.58,0.585,0.59,0.595,0.6,0.605,0.61,0.615,0.62,0.625,0.63,0.635,0.64,0.645,0.65,0.655,0.66,0.665,0.67,0.675,0.68,0.685,0.6900000000000001,0.6950000000000001,0.7000000000000001,0.705,0.71,0.715,0.72,0.725,0.73,0.735,0.74,0.745,0.75,0.755,0.76,0.765,0.77,0.775,0.78,0.785,0.79,0.795,0.8,0.805,0.81,0.8150000000000001,0.8200000000000001,0.8250000000000001,0.8300000000000001,0.835,0.84,0.845,0.85,0.855,0.86,0.865,0.87,0.875,0.88,0.885,0.89,0.895,0.9,0.905,0.91,0.915,0.92,0.925,0.93,0.935,0.9400000000000001,0.9450000000000001,0.9500000000000001,0.9550000000000001,0.96,0.965,0.97,0.975,0.98,0.985,0.99,0.995],\"y\":[0.0,0.005,0.01,0.015,0.02,0.025,0.03,0.035,0.04,0.045,0.05,0.055,0.06,0.065,0.07,0.075,0.08,0.085,0.09,0.095,0.1,0.105,0.11,0.115,0.12,0.125,0.13,0.135,0.14,0.145,0.15,0.155,0.16,0.165,0.17,0.17500000000000002,0.18,0.185,0.19,0.195,0.2,0.20500000000000002,0.21,0.215,0.22,0.225,0.23,0.23500000000000001,0.24,0.245,0.25,0.255,0.26,0.265,0.27,0.275,0.28,0.28500000000000003,0.29,0.295,0.3,0.305,0.31,0.315,0.32,0.325,0.33,0.335,0.34,0.34500000000000003,0.35000000000000003,0.355,0.36,0.365,0.37,0.375,0.38,0.385,0.39,0.395,0.4,0.405,0.41000000000000003,0.41500000000000004,0.42,0.425,0.43,0.435,0.44,0.445,0.45,0.455,0.46,0.465,0.47000000000000003,0.47500000000000003,0.48,0.485,0.49,0.495,0.5,0.505,0.51,0.515,0.52,0.525,0.53,0.535,0.54,0.545,0.55,0.555,0.56,0.5650000000000001,0.5700000000000001,0.5750000000000001,0.58,0.585,0.59,0.595,0.6,0.605,0.61,0.615,0.62,0.625,0.63,0.635,0.64,0.645,0.65,0.655,0.66,0.665,0.67,0.675,0.68,0.685,0.6900000000000001,0.6950000000000001,0.7000000000000001,0.705,0.71,0.715,0.72,0.725,0.73,0.735,0.74,0.745,0.75,0.755,0.76,0.765,0.77,0.775,0.78,0.785,0.79,0.795,0.8,0.805,0.81,0.8150000000000001,0.8200000000000001,0.8250000000000001,0.8300000000000001,0.835,0.84,0.845,0.85,0.855,0.86,0.865,0.87,0.875,0.88,0.885,0.89,0.895,0.9,0.905,0.91,0.915,0.92,0.925,0.93,0.935,0.9400000000000001,0.9450000000000001,0.9500000000000001,0.9550000000000001,0.96,0.965,0.97,0.975,0.98,0.985,0.99,0.995]}},\"id\":\"cf91dde4-4d96-4b4d-968d-0b9c42fd43ef\",\"type\":\"ColumnDataSource\"},{\"attributes\":{},\"id\":\"7413d1da-d476-4d95-a9b6-7562e555fdd0\",\"type\":\"ResetTool\"},{\"attributes\":{\"args\":{\"source\":{\"id\":\"cf91dde4-4d96-4b4d-968d-0b9c42fd43ef\",\"type\":\"ColumnDataSource\"}},\"code\":\"\\n    var data = source.data;\\n    var f = cb_obj.value\\n    x = data['x']\\n    y = data['y']\\n    for (i = 0; i < x.length; i++) {\\n        y[i] = Math.pow(x[i], f)\\n    }\\n    source.change.emit();\\n\"},\"id\":\"a13cdd47-3dde-4f2e-bc4a-e089a828e473\",\"type\":\"CustomJS\"},{\"attributes\":{\"formatter\":{\"id\":\"4884444f-5129-4f31-833e-d18567b8fcaf\",\"type\":\"BasicTickFormatter\"},\"plot\":{\"id\":\"adfb43e5-0221-4c1a-80d6-aad0670d6de2\",\"subtype\":\"Figure\",\"type\":\"Plot\"},\"ticker\":{\"id\":\"6ecb2be3-63ea-4d3a-aa85-9355adf21da5\",\"type\":\"BasicTicker\"}},\"id\":\"1f2d893f-0832-40a3-9116-0759a36a62cd\",\"type\":\"LinearAxis\"},{\"attributes\":{},\"id\":\"50af3987-c177-4ff9-a842-e6262aac8e16\",\"type\":\"BasicTickFormatter\"},{\"attributes\":{},\"id\":\"6ecb2be3-63ea-4d3a-aa85-9355adf21da5\",\"type\":\"BasicTicker\"},{\"attributes\":{\"line_alpha\":0.1,\"line_color\":\"#1f77b4\",\"line_width\":3,\"x\":{\"field\":\"x\"},\"y\":{\"field\":\"y\"}},\"id\":\"c1fc0529-3185-4f47-a9bd-4bacc5b45fcf\",\"type\":\"Line\"},{\"attributes\":{\"callback\":null,\"end\":4,\"js_property_callbacks\":{\"change:value\":[{\"id\":\"a13cdd47-3dde-4f2e-bc4a-e089a828e473\",\"type\":\"CustomJS\"}]},\"start\":0.1,\"step\":0.1,\"title\":\"power\",\"value\":1},\"id\":\"d61dbcf1-91c1-44ba-bf1d-0303e6f75016\",\"type\":\"Slider\"},{\"attributes\":{},\"id\":\"0f630ff4-24bd-409f-808c-b8a5670a224a\",\"type\":\"LinearScale\"},{\"attributes\":{\"callback\":null},\"id\":\"013eae9b-1583-40d1-a62d-16ca63db4764\",\"type\":\"DataRange1d\"},{\"attributes\":{},\"id\":\"842bc6f8-98fb-4b1f-9283-267d294eefe9\",\"type\":\"LinearScale\"},{\"attributes\":{},\"id\":\"df22cace-7376-4cb1-b725-1b8afba01d2c\",\"type\":\"BasicTicker\"},{\"attributes\":{\"children\":[{\"id\":\"0f390a3e-4b47-4667-a74b-1b8e1fa1fd9f\",\"type\":\"WidgetBox\"},{\"id\":\"adfb43e5-0221-4c1a-80d6-aad0670d6de2\",\"subtype\":\"Figure\",\"type\":\"Plot\"}]},\"id\":\"c8dddf24-12de-46f6-a2b7-c124cfe8c50a\",\"type\":\"Column\"},{\"attributes\":{},\"id\":\"b7158123-e5d3-46e4-a6de-84ed8b8999fe\",\"type\":\"HelpTool\"},{\"attributes\":{\"dimension\":1,\"plot\":{\"id\":\"adfb43e5-0221-4c1a-80d6-aad0670d6de2\",\"subtype\":\"Figure\",\"type\":\"Plot\"},\"ticker\":{\"id\":\"df22cace-7376-4cb1-b725-1b8afba01d2c\",\"type\":\"BasicTicker\"}},\"id\":\"0755453d-6482-4dc5-ab87-bcc4d7617d53\",\"type\":\"Grid\"},{\"attributes\":{\"line_alpha\":0.6,\"line_color\":\"#1f77b4\",\"line_width\":3,\"x\":{\"field\":\"x\"},\"y\":{\"field\":\"y\"}},\"id\":\"4c40b501-2fcf-4e09-8345-b3029b133d04\",\"type\":\"Line\"},{\"attributes\":{\"data_source\":{\"id\":\"cf91dde4-4d96-4b4d-968d-0b9c42fd43ef\",\"type\":\"ColumnDataSource\"},\"glyph\":{\"id\":\"4c40b501-2fcf-4e09-8345-b3029b133d04\",\"type\":\"Line\"},\"hover_glyph\":null,\"muted_glyph\":null,\"nonselection_glyph\":{\"id\":\"c1fc0529-3185-4f47-a9bd-4bacc5b45fcf\",\"type\":\"Line\"},\"selection_glyph\":null,\"view\":{\"id\":\"682a1996-75e6-4bd0-a5e6-3a965cc37f33\",\"type\":\"CDSView\"}},\"id\":\"fbb5a438-369c-4a4a-90ea-3292dc539353\",\"type\":\"GlyphRenderer\"},{\"attributes\":{},\"id\":\"26c359d6-aee5-4d82-a91d-2e3c3cb3a5d9\",\"type\":\"SaveTool\"},{\"attributes\":{\"formatter\":{\"id\":\"50af3987-c177-4ff9-a842-e6262aac8e16\",\"type\":\"BasicTickFormatter\"},\"plot\":{\"id\":\"adfb43e5-0221-4c1a-80d6-aad0670d6de2\",\"subtype\":\"Figure\",\"type\":\"Plot\"},\"ticker\":{\"id\":\"df22cace-7376-4cb1-b725-1b8afba01d2c\",\"type\":\"BasicTicker\"}},\"id\":\"fb997c28-05a8-4bc2-8189-6265121a9828\",\"type\":\"LinearAxis\"},{\"attributes\":{\"bottom_units\":\"screen\",\"fill_alpha\":{\"value\":0.5},\"fill_color\":{\"value\":\"lightgrey\"},\"left_units\":\"screen\",\"level\":\"overlay\",\"line_alpha\":{\"value\":1.0},\"line_color\":{\"value\":\"black\"},\"line_dash\":[4,4],\"line_width\":{\"value\":2},\"plot\":null,\"render_mode\":\"css\",\"right_units\":\"screen\",\"top_units\":\"screen\"},\"id\":\"44bfb3d0-a3bf-432c-819d-6dce21d3ee12\",\"type\":\"BoxAnnotation\"},{\"attributes\":{\"children\":[{\"id\":\"d61dbcf1-91c1-44ba-bf1d-0303e6f75016\",\"type\":\"Slider\"}]},\"id\":\"0f390a3e-4b47-4667-a74b-1b8e1fa1fd9f\",\"type\":\"WidgetBox\"},{\"attributes\":{\"plot\":null,\"text\":\"\"},\"id\":\"a4ba64cb-adc4-4a00-9363-2b8dae64f3a1\",\"type\":\"Title\"},{\"attributes\":{},\"id\":\"c7cc9417-1e77-4c5a-a1c1-f2846bd3f782\",\"type\":\"PanTool\"},{\"attributes\":{},\"id\":\"4884444f-5129-4f31-833e-d18567b8fcaf\",\"type\":\"BasicTickFormatter\"},{\"attributes\":{\"active_drag\":\"auto\",\"active_inspect\":\"auto\",\"active_scroll\":\"auto\",\"active_tap\":\"auto\",\"tools\":[{\"id\":\"c7cc9417-1e77-4c5a-a1c1-f2846bd3f782\",\"type\":\"PanTool\"},{\"id\":\"5e87d842-18d4-4e67-8f2d-4a864c5b2cb1\",\"type\":\"WheelZoomTool\"},{\"id\":\"3a10340b-e034-4b47-ba05-9fe27ecca438\",\"type\":\"BoxZoomTool\"},{\"id\":\"26c359d6-aee5-4d82-a91d-2e3c3cb3a5d9\",\"type\":\"SaveTool\"},{\"id\":\"7413d1da-d476-4d95-a9b6-7562e555fdd0\",\"type\":\"ResetTool\"},{\"id\":\"b7158123-e5d3-46e4-a6de-84ed8b8999fe\",\"type\":\"HelpTool\"}]},\"id\":\"ecfac56b-2400-4e6e-8f03-c38321b251f1\",\"type\":\"Toolbar\"},{\"attributes\":{\"below\":[{\"id\":\"1f2d893f-0832-40a3-9116-0759a36a62cd\",\"type\":\"LinearAxis\"}],\"left\":[{\"id\":\"fb997c28-05a8-4bc2-8189-6265121a9828\",\"type\":\"LinearAxis\"}],\"plot_height\":400,\"plot_width\":400,\"renderers\":[{\"id\":\"1f2d893f-0832-40a3-9116-0759a36a62cd\",\"type\":\"LinearAxis\"},{\"id\":\"831191cf-238d-40b8-81d0-dc7ae301f979\",\"type\":\"Grid\"},{\"id\":\"fb997c28-05a8-4bc2-8189-6265121a9828\",\"type\":\"LinearAxis\"},{\"id\":\"0755453d-6482-4dc5-ab87-bcc4d7617d53\",\"type\":\"Grid\"},{\"id\":\"44bfb3d0-a3bf-432c-819d-6dce21d3ee12\",\"type\":\"BoxAnnotation\"},{\"id\":\"fbb5a438-369c-4a4a-90ea-3292dc539353\",\"type\":\"GlyphRenderer\"}],\"title\":{\"id\":\"a4ba64cb-adc4-4a00-9363-2b8dae64f3a1\",\"type\":\"Title\"},\"toolbar\":{\"id\":\"ecfac56b-2400-4e6e-8f03-c38321b251f1\",\"type\":\"Toolbar\"},\"x_range\":{\"id\":\"013eae9b-1583-40d1-a62d-16ca63db4764\",\"type\":\"DataRange1d\"},\"x_scale\":{\"id\":\"842bc6f8-98fb-4b1f-9283-267d294eefe9\",\"type\":\"LinearScale\"},\"y_range\":{\"id\":\"c56f2ba0-e51b-4a3f-9912-2339122a21cf\",\"type\":\"DataRange1d\"},\"y_scale\":{\"id\":\"0f630ff4-24bd-409f-808c-b8a5670a224a\",\"type\":\"LinearScale\"}},\"id\":\"adfb43e5-0221-4c1a-80d6-aad0670d6de2\",\"subtype\":\"Figure\",\"type\":\"Plot\"},{\"attributes\":{},\"id\":\"5e87d842-18d4-4e67-8f2d-4a864c5b2cb1\",\"type\":\"WheelZoomTool\"},{\"attributes\":{\"callback\":null},\"id\":\"c56f2ba0-e51b-4a3f-9912-2339122a21cf\",\"type\":\"DataRange1d\"},{\"attributes\":{\"overlay\":{\"id\":\"44bfb3d0-a3bf-432c-819d-6dce21d3ee12\",\"type\":\"BoxAnnotation\"}},\"id\":\"3a10340b-e034-4b47-ba05-9fe27ecca438\",\"type\":\"BoxZoomTool\"},{\"attributes\":{\"plot\":{\"id\":\"adfb43e5-0221-4c1a-80d6-aad0670d6de2\",\"subtype\":\"Figure\",\"type\":\"Plot\"},\"ticker\":{\"id\":\"6ecb2be3-63ea-4d3a-aa85-9355adf21da5\",\"type\":\"BasicTicker\"}},\"id\":\"831191cf-238d-40b8-81d0-dc7ae301f979\",\"type\":\"Grid\"}],\"root_ids\":[\"c8dddf24-12de-46f6-a2b7-c124cfe8c50a\"]},\"title\":\"Bokeh Application\",\"version\":\"0.12.13\"}};\n",
       "  var render_items = [{\"docid\":\"8e12bd0b-1224-4ce2-aebf-b32cb6688b05\",\"elementid\":\"05d9dd38-10ea-4d22-bc02-ca716b53a408\",\"modelid\":\"c8dddf24-12de-46f6-a2b7-c124cfe8c50a\"}];\n",
       "  root.Bokeh.embed.embed_items_notebook(docs_json, render_items);\n",
       "\n",
       "  }\n",
       "  if (root.Bokeh !== undefined) {\n",
       "    embed_document(root);\n",
       "  } else {\n",
       "    var attempts = 0;\n",
       "    var timer = setInterval(function(root) {\n",
       "      if (root.Bokeh !== undefined) {\n",
       "        embed_document(root);\n",
       "        clearInterval(timer);\n",
       "      }\n",
       "      attempts++;\n",
       "      if (attempts > 100) {\n",
       "        console.log(\"Bokeh: ERROR: Unable to run BokehJS code because BokehJS library is missing\")\n",
       "        clearInterval(timer);\n",
       "      }\n",
       "    }, 10, root)\n",
       "  }\n",
       "})(window);"
      ],
      "application/vnd.bokehjs_exec.v0+json": ""
     },
     "metadata": {
      "application/vnd.bokehjs_exec.v0+json": {
       "id": "c8dddf24-12de-46f6-a2b7-c124cfe8c50a"
      }
     },
     "output_type": "display_data"
    }
   ],
   "source": [
    "from bokeh.layouts import column\n",
    "from bokeh.models import CustomJS, ColumnDataSource, Slider\n",
    "from bokeh.plotting import Figure, output_file, show\n",
    "\n",
    "x = [x*0.005 for x in range(0, 200)]\n",
    "y = x\n",
    "\n",
    "source = ColumnDataSource(data=dict(x=x, y=y))\n",
    "\n",
    "plot = Figure(plot_width=400, plot_height=400)\n",
    "plot.line('x', 'y', source=source, line_width=3, line_alpha=0.6)\n",
    "\n",
    "callback = CustomJS(args=dict(source=source), code=\"\"\"\n",
    "    var data = source.data;\n",
    "    var f = cb_obj.value\n",
    "    x = data['x']\n",
    "    y = data['y']\n",
    "    for (i = 0; i < x.length; i++) {\n",
    "        y[i] = Math.pow(x[i], f)\n",
    "    }\n",
    "    source.change.emit();\n",
    "\"\"\")\n",
    "\n",
    "slider = Slider(start=0.1, end=4, value=1, step=.1, title=\"power\")\n",
    "slider.js_on_change('value', callback)\n",
    "\n",
    "layout = column(slider, plot)\n",
    "\n",
    "show(layout)"
   ]
  },
  {
   "cell_type": "code",
   "execution_count": null,
   "metadata": {},
   "outputs": [],
   "source": []
  },
  {
   "cell_type": "code",
   "execution_count": 24,
   "metadata": {},
   "outputs": [],
   "source": [
    "def update_data(attrname, old, new):\n",
    "    #Get the current values\n",
    "    direction = dir_select.value\n",
    "    elasticity = elas_select.value\n",
    "\n",
    "    x = np.linspace(0, 5, 51)\n",
    "    df_line = pd.DataFrame(x, columns=['x'])\n",
    "    df_line['total'] = df_line['x'].apply(lambda x: total_traffic(x, elasticity)[direction_dict[direction]])\n",
    "    for region in regions:\n",
    "        df_line[region] = df_line['x'].apply(lambda x: traffic(region, x, elasticity)[direction_dict[direction]])\n",
    "    src = ColumnDataSource(df_line)\n",
    "    source_line.data.update(src.data)"
   ]
  },
  {
   "cell_type": "code",
   "execution_count": 25,
   "metadata": {},
   "outputs": [],
   "source": [
    "def update_data(attrname, old, new):\n",
    "    #Get the current values\n",
    "    direction = dir_select.value\n",
    "    #elasticity = elas_select.value\n",
    "    elasticity = new\n",
    "\n",
    "    x = np.linspace(0, 5, 51)\n",
    "    df_line = pd.DataFrame(x, columns=['x'])\n",
    "    df_line['total'] = df_line['x'].apply(lambda x: total_traffic(x, elasticity)[direction_dict[direction]])\n",
    "    for region in regions:\n",
    "        df_line[region] = df_line['x'].apply(lambda x: traffic(region, x, elasticity)[direction_dict[direction]])\n",
    "    src = ColumnDataSource(df_line)\n",
    "    source_line.data.update(src.data)"
   ]
  }
 ],
 "metadata": {
  "kernelspec": {
   "display_name": "Python 3",
   "language": "python",
   "name": "python3"
  },
  "language_info": {
   "codemirror_mode": {
    "name": "ipython",
    "version": 3
   },
   "file_extension": ".py",
   "mimetype": "text/x-python",
   "name": "python",
   "nbconvert_exporter": "python",
   "pygments_lexer": "ipython3",
   "version": "3.6.4"
  }
 },
 "nbformat": 4,
 "nbformat_minor": 2
}
