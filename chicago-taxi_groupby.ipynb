{
 "cells": [
  {
   "cell_type": "markdown",
   "metadata": {},
   "source": [
    "Make a file with a group by with start time and census tract. I have done a Hadoop job to write all the rows, and they need to be processed to be nicer."
   ]
  },
  {
   "cell_type": "code",
   "execution_count": 1,
   "metadata": {},
   "outputs": [],
   "source": [
    "import numpy as np\n",
    "import pandas as pd\n",
    "import matplotlib.pyplot as plt"
   ]
  },
  {
   "cell_type": "code",
   "execution_count": 2,
   "metadata": {},
   "outputs": [],
   "source": [
    "import os\n",
    "import ast"
   ]
  },
  {
   "cell_type": "code",
   "execution_count": 3,
   "metadata": {},
   "outputs": [],
   "source": [
    "path = 'GroupBy/'\n",
    "files = os.listdir(path)"
   ]
  },
  {
   "cell_type": "code",
   "execution_count": 4,
   "metadata": {},
   "outputs": [],
   "source": [
    "#parse time into year, month, day, hour (0-23), minute\n",
    "def time_parser(time):\n",
    "    \"\"\"Return year, month, day, hour, minute as ints.\n",
    "    Input format is '01/01/2013 01:00:00 AM'\"\"\"\n",
    "    time_list = list(map(int, [time[6:10], time[0:2], time[3:5],\n",
    "                              time[11:13], time[14:16]]))\n",
    "    #add 12 to hour for 'PM', subtract 12 if hour is written as 12\n",
    "    time_list[3] += 12 * ((time[-2:] == 'PM') - (time[11:13] == '12'))\n",
    "    return tuple(time_list)"
   ]
  },
  {
   "cell_type": "code",
   "execution_count": 5,
   "metadata": {},
   "outputs": [],
   "source": [
    "rows = []\n",
    "with open('GroupBy/part-00000', 'r') as f:\n",
    "    for line in f:\n",
    "        key, count = line.split('\\t')\n",
    "        direction, time, tract = ast.literal_eval(key)\n",
    "        year, month, day, hour, minute = time_parser(time)\n",
    "        row = [direction, year, month, day, hour, minute, int(tract), int(count)]\n",
    "        rows.append(row)"
   ]
  },
  {
   "cell_type": "markdown",
   "metadata": {},
   "source": [
    "This works."
   ]
  },
  {
   "cell_type": "code",
   "execution_count": null,
   "metadata": {},
   "outputs": [],
   "source": [
    "rows = []\n",
    "for file in files:\n",
    "    if file.startswith('part'):\n",
    "        with open(path + file, 'r') as f:\n",
    "            for line in f:\n",
    "                key, count = line.split('\\t')\n",
    "                direction, time, tract = ast.literal_eval(key)\n",
    "                year, month, day, hour, minute = time_parser(time)\n",
    "                row = [direction, year, month, day, hour, minute, int(tract), int(count)]\n",
    "                rows.append(row)"
   ]
  },
  {
   "cell_type": "code",
   "execution_count": null,
   "metadata": {},
   "outputs": [],
   "source": [
    "df = pd.DataFrame(rows)"
   ]
  },
  {
   "cell_type": "code",
   "execution_count": null,
   "metadata": {},
   "outputs": [],
   "source": [
    "df.head()"
   ]
  },
  {
   "cell_type": "code",
   "execution_count": null,
   "metadata": {},
   "outputs": [],
   "source": [
    "df.columns = ['direction', 'year', 'month', 'day', 'hour', 'minute', 'census_tract', 'count']"
   ]
  },
  {
   "cell_type": "code",
   "execution_count": null,
   "metadata": {},
   "outputs": [],
   "source": [
    "df.to_csv('Data/GroupBy.csv')"
   ]
  },
  {
   "cell_type": "code",
   "execution_count": null,
   "metadata": {},
   "outputs": [],
   "source": [
    "df['hour'].describe()"
   ]
  },
  {
   "cell_type": "code",
   "execution_count": null,
   "metadata": {},
   "outputs": [],
   "source": []
  }
 ],
 "metadata": {
  "kernelspec": {
   "display_name": "Python 3",
   "language": "python",
   "name": "python3"
  },
  "language_info": {
   "codemirror_mode": {
    "name": "ipython",
    "version": 3
   },
   "file_extension": ".py",
   "mimetype": "text/x-python",
   "name": "python",
   "nbconvert_exporter": "python",
   "pygments_lexer": "ipython3",
   "version": "3.6.4"
  }
 },
 "nbformat": 4,
 "nbformat_minor": 2
}
