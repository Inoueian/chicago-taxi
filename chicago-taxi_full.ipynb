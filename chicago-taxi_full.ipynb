{
 "cells": [
  {
   "cell_type": "markdown",
   "metadata": {},
   "source": [
    "## To do\n",
    "1. Convert 'Taxi ID' to something other than object type."
   ]
  },
  {
   "cell_type": "markdown",
   "metadata": {},
   "source": [
    "This notebook is a continuation of the chicago-taxi Jupyter notebook. In this, I will attempt to use the full taxi trip dataset by slicing off a small piece.\n",
    "\n",
    "First, I'll again focus on weekday evening rush, and remake the 'to the Loop', 'from the Loop', and fare plots."
   ]
  },
  {
   "cell_type": "code",
   "execution_count": 88,
   "metadata": {},
   "outputs": [],
   "source": [
    "import numpy as np\n",
    "import pandas as pd\n",
    "import matplotlib.pyplot as plt\n",
    "\n",
    "import geopandas"
   ]
  },
  {
   "cell_type": "markdown",
   "metadata": {},
   "source": [
    "## Data cleaning?"
   ]
  },
  {
   "cell_type": "code",
   "execution_count": 6,
   "metadata": {},
   "outputs": [
    {
     "name": "stdout",
     "output_type": "stream",
     "text": [
      "1 50541\n",
      "2 47066\n"
     ]
    },
    {
     "name": "stderr",
     "output_type": "stream",
     "text": [
      "/opt/local/Library/Frameworks/Python.framework/Versions/3.6/lib/python3.6/site-packages/IPython/core/interactiveshell.py:2728: DtypeWarning: Columns (22) have mixed types. Specify dtype option on import or set low_memory=False.\n",
      "  interactivity=interactivity, compiler=compiler, result=result)\n"
     ]
    },
    {
     "name": "stdout",
     "output_type": "stream",
     "text": [
      "3 7433\n"
     ]
    },
    {
     "name": "stderr",
     "output_type": "stream",
     "text": [
      "/opt/local/Library/Frameworks/Python.framework/Versions/3.6/lib/python3.6/site-packages/IPython/core/interactiveshell.py:2728: DtypeWarning: Columns (19,22) have mixed types. Specify dtype option on import or set low_memory=False.\n",
      "  interactivity=interactivity, compiler=compiler, result=result)\n"
     ]
    },
    {
     "name": "stdout",
     "output_type": "stream",
     "text": [
      "4 57\n",
      "5 40161\n",
      "6 61526\n",
      "7 22186\n",
      "8 1\n",
      "9 0\n",
      "10 3\n",
      "11 1\n",
      "12 2\n",
      "13 3\n",
      "14 4\n",
      "15 4\n",
      "16 3\n",
      "17 6\n"
     ]
    },
    {
     "ename": "KeyboardInterrupt",
     "evalue": "",
     "output_type": "error",
     "traceback": [
      "\u001b[0;31m---------------------------------------------------------------------------\u001b[0m",
      "\u001b[0;31mKeyboardInterrupt\u001b[0m                         Traceback (most recent call last)",
      "\u001b[0;32m<ipython-input-6-7a75318e664a>\u001b[0m in \u001b[0;36m<module>\u001b[0;34m()\u001b[0m\n\u001b[1;32m      8\u001b[0m \u001b[0;34m\u001b[0m\u001b[0m\n\u001b[1;32m      9\u001b[0m for chunk in pd.read_csv('Data/Taxi_Trips.csv',\n\u001b[0;32m---> 10\u001b[0;31m                            iterator=True, chunksize=1000000):\n\u001b[0m\u001b[1;32m     11\u001b[0m     \u001b[0mdf\u001b[0m \u001b[0;34m=\u001b[0m \u001b[0mchunk\u001b[0m\u001b[0;34m[\u001b[0m\u001b[0mchunk\u001b[0m\u001b[0;34m[\u001b[0m\u001b[0;34m'Pickup Community Area'\u001b[0m\u001b[0;34m]\u001b[0m \u001b[0;34m==\u001b[0m \u001b[0;36m32.\u001b[0m\u001b[0;34m]\u001b[0m\u001b[0;34m[\u001b[0m\u001b[0mcolumns\u001b[0m\u001b[0;34m]\u001b[0m \u001b[0;31m#select trips leaving the Loop\u001b[0m\u001b[0;34m\u001b[0m\u001b[0m\n\u001b[1;32m     12\u001b[0m     \u001b[0mdf\u001b[0m\u001b[0;34m[\u001b[0m\u001b[0;34m'hour'\u001b[0m\u001b[0;34m]\u001b[0m \u001b[0;34m=\u001b[0m \u001b[0mdf\u001b[0m\u001b[0;34m[\u001b[0m\u001b[0;34m'Trip Start Timestamp'\u001b[0m\u001b[0;34m]\u001b[0m\u001b[0;34m.\u001b[0m\u001b[0mapply\u001b[0m\u001b[0;34m(\u001b[0m\u001b[0;32mlambda\u001b[0m \u001b[0mx\u001b[0m\u001b[0;34m:\u001b[0m \u001b[0mtime_parser\u001b[0m\u001b[0;34m(\u001b[0m\u001b[0mx\u001b[0m\u001b[0;34m)\u001b[0m\u001b[0;34m.\u001b[0m\u001b[0mhour\u001b[0m\u001b[0;34m)\u001b[0m \u001b[0;31m#create hour column\u001b[0m\u001b[0;34m\u001b[0m\u001b[0m\n",
      "\u001b[0;32m/opt/local/Library/Frameworks/Python.framework/Versions/3.6/lib/python3.6/site-packages/pandas/io/parsers.py\u001b[0m in \u001b[0;36m__next__\u001b[0;34m(self)\u001b[0m\n\u001b[1;32m    976\u001b[0m     \u001b[0;32mdef\u001b[0m \u001b[0m__next__\u001b[0m\u001b[0;34m(\u001b[0m\u001b[0mself\u001b[0m\u001b[0;34m)\u001b[0m\u001b[0;34m:\u001b[0m\u001b[0;34m\u001b[0m\u001b[0m\n\u001b[1;32m    977\u001b[0m         \u001b[0;32mtry\u001b[0m\u001b[0;34m:\u001b[0m\u001b[0;34m\u001b[0m\u001b[0m\n\u001b[0;32m--> 978\u001b[0;31m             \u001b[0;32mreturn\u001b[0m \u001b[0mself\u001b[0m\u001b[0;34m.\u001b[0m\u001b[0mget_chunk\u001b[0m\u001b[0;34m(\u001b[0m\u001b[0;34m)\u001b[0m\u001b[0;34m\u001b[0m\u001b[0m\n\u001b[0m\u001b[1;32m    979\u001b[0m         \u001b[0;32mexcept\u001b[0m \u001b[0mStopIteration\u001b[0m\u001b[0;34m:\u001b[0m\u001b[0;34m\u001b[0m\u001b[0m\n\u001b[1;32m    980\u001b[0m             \u001b[0mself\u001b[0m\u001b[0;34m.\u001b[0m\u001b[0mclose\u001b[0m\u001b[0;34m(\u001b[0m\u001b[0;34m)\u001b[0m\u001b[0;34m\u001b[0m\u001b[0m\n",
      "\u001b[0;32m/opt/local/Library/Frameworks/Python.framework/Versions/3.6/lib/python3.6/site-packages/pandas/io/parsers.py\u001b[0m in \u001b[0;36mget_chunk\u001b[0;34m(self, size)\u001b[0m\n\u001b[1;32m   1040\u001b[0m                 \u001b[0;32mraise\u001b[0m \u001b[0mStopIteration\u001b[0m\u001b[0;34m\u001b[0m\u001b[0m\n\u001b[1;32m   1041\u001b[0m             \u001b[0msize\u001b[0m \u001b[0;34m=\u001b[0m \u001b[0mmin\u001b[0m\u001b[0;34m(\u001b[0m\u001b[0msize\u001b[0m\u001b[0;34m,\u001b[0m \u001b[0mself\u001b[0m\u001b[0;34m.\u001b[0m\u001b[0mnrows\u001b[0m \u001b[0;34m-\u001b[0m \u001b[0mself\u001b[0m\u001b[0;34m.\u001b[0m\u001b[0m_currow\u001b[0m\u001b[0;34m)\u001b[0m\u001b[0;34m\u001b[0m\u001b[0m\n\u001b[0;32m-> 1042\u001b[0;31m         \u001b[0;32mreturn\u001b[0m \u001b[0mself\u001b[0m\u001b[0;34m.\u001b[0m\u001b[0mread\u001b[0m\u001b[0;34m(\u001b[0m\u001b[0mnrows\u001b[0m\u001b[0;34m=\u001b[0m\u001b[0msize\u001b[0m\u001b[0;34m)\u001b[0m\u001b[0;34m\u001b[0m\u001b[0m\n\u001b[0m\u001b[1;32m   1043\u001b[0m \u001b[0;34m\u001b[0m\u001b[0m\n\u001b[1;32m   1044\u001b[0m \u001b[0;34m\u001b[0m\u001b[0m\n",
      "\u001b[0;32m/opt/local/Library/Frameworks/Python.framework/Versions/3.6/lib/python3.6/site-packages/pandas/io/parsers.py\u001b[0m in \u001b[0;36mread\u001b[0;34m(self, nrows)\u001b[0m\n\u001b[1;32m   1003\u001b[0m                 \u001b[0;32mraise\u001b[0m \u001b[0mValueError\u001b[0m\u001b[0;34m(\u001b[0m\u001b[0;34m'skipfooter not supported for iteration'\u001b[0m\u001b[0;34m)\u001b[0m\u001b[0;34m\u001b[0m\u001b[0m\n\u001b[1;32m   1004\u001b[0m \u001b[0;34m\u001b[0m\u001b[0m\n\u001b[0;32m-> 1005\u001b[0;31m         \u001b[0mret\u001b[0m \u001b[0;34m=\u001b[0m \u001b[0mself\u001b[0m\u001b[0;34m.\u001b[0m\u001b[0m_engine\u001b[0m\u001b[0;34m.\u001b[0m\u001b[0mread\u001b[0m\u001b[0;34m(\u001b[0m\u001b[0mnrows\u001b[0m\u001b[0;34m)\u001b[0m\u001b[0;34m\u001b[0m\u001b[0m\n\u001b[0m\u001b[1;32m   1006\u001b[0m \u001b[0;34m\u001b[0m\u001b[0m\n\u001b[1;32m   1007\u001b[0m         \u001b[0;32mif\u001b[0m \u001b[0mself\u001b[0m\u001b[0;34m.\u001b[0m\u001b[0moptions\u001b[0m\u001b[0;34m.\u001b[0m\u001b[0mget\u001b[0m\u001b[0;34m(\u001b[0m\u001b[0;34m'as_recarray'\u001b[0m\u001b[0;34m)\u001b[0m\u001b[0;34m:\u001b[0m\u001b[0;34m\u001b[0m\u001b[0m\n",
      "\u001b[0;32m/opt/local/Library/Frameworks/Python.framework/Versions/3.6/lib/python3.6/site-packages/pandas/io/parsers.py\u001b[0m in \u001b[0;36mread\u001b[0;34m(self, nrows)\u001b[0m\n\u001b[1;32m   1746\u001b[0m     \u001b[0;32mdef\u001b[0m \u001b[0mread\u001b[0m\u001b[0;34m(\u001b[0m\u001b[0mself\u001b[0m\u001b[0;34m,\u001b[0m \u001b[0mnrows\u001b[0m\u001b[0;34m=\u001b[0m\u001b[0;32mNone\u001b[0m\u001b[0;34m)\u001b[0m\u001b[0;34m:\u001b[0m\u001b[0;34m\u001b[0m\u001b[0m\n\u001b[1;32m   1747\u001b[0m         \u001b[0;32mtry\u001b[0m\u001b[0;34m:\u001b[0m\u001b[0;34m\u001b[0m\u001b[0m\n\u001b[0;32m-> 1748\u001b[0;31m             \u001b[0mdata\u001b[0m \u001b[0;34m=\u001b[0m \u001b[0mself\u001b[0m\u001b[0;34m.\u001b[0m\u001b[0m_reader\u001b[0m\u001b[0;34m.\u001b[0m\u001b[0mread\u001b[0m\u001b[0;34m(\u001b[0m\u001b[0mnrows\u001b[0m\u001b[0;34m)\u001b[0m\u001b[0;34m\u001b[0m\u001b[0m\n\u001b[0m\u001b[1;32m   1749\u001b[0m         \u001b[0;32mexcept\u001b[0m \u001b[0mStopIteration\u001b[0m\u001b[0;34m:\u001b[0m\u001b[0;34m\u001b[0m\u001b[0m\n\u001b[1;32m   1750\u001b[0m             \u001b[0;32mif\u001b[0m \u001b[0mself\u001b[0m\u001b[0;34m.\u001b[0m\u001b[0m_first_chunk\u001b[0m\u001b[0;34m:\u001b[0m\u001b[0;34m\u001b[0m\u001b[0m\n",
      "\u001b[0;32mpandas/_libs/parsers.pyx\u001b[0m in \u001b[0;36mpandas._libs.parsers.TextReader.read (pandas/_libs/parsers.c:10862)\u001b[0;34m()\u001b[0m\n",
      "\u001b[0;32mpandas/_libs/parsers.pyx\u001b[0m in \u001b[0;36mpandas._libs.parsers.TextReader._read_low_memory (pandas/_libs/parsers.c:11343)\u001b[0;34m()\u001b[0m\n",
      "\u001b[0;32mpandas/_libs/parsers.pyx\u001b[0m in \u001b[0;36mpandas._libs.parsers.TextReader._read_rows (pandas/_libs/parsers.c:12175)\u001b[0;34m()\u001b[0m\n",
      "\u001b[0;32mpandas/_libs/parsers.pyx\u001b[0m in \u001b[0;36mpandas._libs.parsers.TextReader._convert_column_data (pandas/_libs/parsers.c:14136)\u001b[0;34m()\u001b[0m\n",
      "\u001b[0;32mpandas/_libs/parsers.pyx\u001b[0m in \u001b[0;36mpandas._libs.parsers.TextReader._convert_tokens (pandas/_libs/parsers.c:14858)\u001b[0;34m()\u001b[0m\n",
      "\u001b[0;32mpandas/_libs/parsers.pyx\u001b[0m in \u001b[0;36mpandas._libs.parsers.TextReader._convert_with_dtype (pandas/_libs/parsers.c:15629)\u001b[0;34m()\u001b[0m\n",
      "\u001b[0;32m/opt/local/Library/Frameworks/Python.framework/Versions/3.6/lib/python3.6/site-packages/pandas/core/dtypes/common.py\u001b[0m in \u001b[0;36mis_integer_dtype\u001b[0;34m(arr_or_dtype)\u001b[0m\n\u001b[1;32m    738\u001b[0m \u001b[0;34m\u001b[0m\u001b[0m\n\u001b[1;32m    739\u001b[0m \u001b[0;34m\u001b[0m\u001b[0m\n\u001b[0;32m--> 740\u001b[0;31m \u001b[0;32mdef\u001b[0m \u001b[0mis_integer_dtype\u001b[0m\u001b[0;34m(\u001b[0m\u001b[0marr_or_dtype\u001b[0m\u001b[0;34m)\u001b[0m\u001b[0;34m:\u001b[0m\u001b[0;34m\u001b[0m\u001b[0m\n\u001b[0m\u001b[1;32m    741\u001b[0m     \"\"\"\n\u001b[1;32m    742\u001b[0m     \u001b[0mCheck\u001b[0m \u001b[0mwhether\u001b[0m \u001b[0mthe\u001b[0m \u001b[0mprovided\u001b[0m \u001b[0marray\u001b[0m \u001b[0;32mor\u001b[0m \u001b[0mdtype\u001b[0m \u001b[0;32mis\u001b[0m \u001b[0mof\u001b[0m \u001b[0man\u001b[0m \u001b[0minteger\u001b[0m \u001b[0mdtype\u001b[0m\u001b[0;34m.\u001b[0m\u001b[0;34m\u001b[0m\u001b[0m\n",
      "\u001b[0;31mKeyboardInterrupt\u001b[0m: "
     ]
    }
   ],
   "source": [
    "#Omit 'Taxi ID' for now, as it uses a lot of memory.\n",
    "columns = ['Trip Start Timestamp', 'Trip End Timestamp',\n",
    "           'Pickup Community Area', 'Dropoff Community Area', 'Fare']\n",
    "#Use time parser\n",
    "time_parser = lambda x: pd.datetime.strptime(x, '%m/%d/%Y %I:%M:%S %p')\n",
    "\n",
    "df_list = []\n",
    "\n",
    "for chunk in pd.read_csv('Data/Taxi_Trips.csv',\n",
    "                           iterator=True, chunksize=1000000):\n",
    "    df = chunk[chunk['Pickup Community Area'] == 32.][columns] #select trips leaving the Loop\n",
    "    df['hour'] = df['Trip Start Timestamp'].apply(lambda x: time_parser(x).hour) #create hour column\n",
    "    df_list.append(df[(df.hour >= 16) & (df.hour <= 18)]) #only append evening rush hour trips\n",
    "    \n",
    "    #print the number of DataFrames appended so far, and length of the last one appended\n",
    "    print(len(df_list), len(df_list[-1]))"
   ]
  },
  {
   "cell_type": "markdown",
   "metadata": {},
   "source": [
    "There's something weird happening here. What's causing some chunks to have almost no matches? 3rd chunk is the first one with a problem. Look at it."
   ]
  },
  {
   "cell_type": "code",
   "execution_count": 28,
   "metadata": {
    "scrolled": true
   },
   "outputs": [
    {
     "name": "stdout",
     "output_type": "stream",
     "text": [
      "0 8000080 8.0\n",
      "1 8000084 21.0\n",
      "2 8000084 28.0\n"
     ]
    }
   ],
   "source": [
    "#Omit 'Taxi ID' for now, as it uses a lot of memory.\n",
    "columns = ['Trip Start Timestamp', 'Trip End Timestamp',\n",
    "           'Pickup Community Area', 'Dropoff Community Area', 'Fare']\n",
    "#Use time parser\n",
    "time_parser = lambda x: pd.datetime.strptime(x, '%m/%d/%Y %I:%M:%S %p')\n",
    "\n",
    "count = 0\n",
    "for chunk in pd.read_csv('Data/Taxi_Trips.csv',\n",
    "                        iterator=True, chunksize=1000000,\n",
    "                        low_memory=False):\n",
    "    #df = chunk[chunk['Pickup Community Area'] == 32.][columns] #select trips leaving the Loop\n",
    "    \n",
    "    if count == 3:\n",
    "        df = chunk\n",
    "        break\n",
    "    \n",
    "    print(count, chunk['Pickup Community Area'].memory_usage(), chunk['Pickup Community Area'].iloc[0])\n",
    "    count += 1"
   ]
  },
  {
   "cell_type": "markdown",
   "metadata": {},
   "source": [
    "It appears that many rows at certain spots in data have nan as the community area (and other) values."
   ]
  },
  {
   "cell_type": "code",
   "execution_count": 38,
   "metadata": {},
   "outputs": [
    {
     "data": {
      "text/plain": [
       "True"
      ]
     },
     "execution_count": 38,
     "metadata": {},
     "output_type": "execute_result"
    }
   ],
   "source": [
    "np.isnan(df['Pickup Census Tract'].iloc[0])"
   ]
  },
  {
   "cell_type": "code",
   "execution_count": 40,
   "metadata": {},
   "outputs": [
    {
     "name": "stdout",
     "output_type": "stream",
     "text": [
      "1 50541\n",
      "2 47066\n",
      "3 7433\n",
      "4 57\n",
      "5 40161\n",
      "6 61526\n",
      "7 22186\n",
      "8 1\n",
      "9 0\n",
      "10 3\n",
      "11 1\n",
      "12 2\n",
      "13 3\n",
      "14 4\n",
      "15 4\n",
      "16 3\n",
      "17 6\n",
      "18 3\n",
      "19 4\n",
      "20 2\n",
      "21 46463\n",
      "22 50608\n",
      "23 50783\n",
      "24 50713\n",
      "25 50729\n",
      "26 50846\n",
      "27 50843\n",
      "28 50593\n",
      "29 50273\n",
      "30 50609\n",
      "31 50533\n",
      "32 50759\n",
      "33 50242\n",
      "34 51097\n",
      "35 51317\n",
      "36 50904\n",
      "37 50911\n",
      "38 50984\n",
      "39 50746\n",
      "40 50856\n",
      "41 50760\n",
      "42 50625\n",
      "43 50871\n",
      "44 50725\n",
      "45 50438\n",
      "46 50723\n",
      "47 50872\n",
      "48 50749\n",
      "49 50411\n",
      "50 50499\n",
      "51 50757\n",
      "52 50302\n",
      "53 50586\n",
      "54 50151\n",
      "55 50691\n",
      "56 50314\n",
      "57 50735\n",
      "58 50617\n",
      "59 51180\n",
      "60 50856\n",
      "61 50687\n",
      "62 50603\n",
      "63 50511\n",
      "64 50720\n",
      "65 50796\n",
      "66 50596\n",
      "67 50448\n",
      "68 50786\n",
      "69 50705\n",
      "70 50737\n",
      "71 50844\n",
      "72 50538\n",
      "73 50589\n",
      "74 50332\n",
      "75 50911\n",
      "76 50802\n",
      "77 50912\n",
      "78 50692\n",
      "79 50720\n",
      "80 50563\n",
      "81 50893\n",
      "82 50598\n",
      "83 50847\n",
      "84 50745\n",
      "85 51057\n",
      "86 50852\n",
      "87 50689\n",
      "88 50610\n",
      "89 50840\n",
      "90 50591\n",
      "91 50878\n",
      "92 50772\n",
      "93 50626\n",
      "94 50828\n",
      "95 51264\n",
      "96 50837\n",
      "97 50893\n",
      "98 50651\n",
      "99 50376\n",
      "100 50576\n",
      "101 50779\n",
      "102 50606\n",
      "103 51197\n",
      "104 50454\n",
      "105 50516\n",
      "106 50377\n",
      "107 50205\n",
      "108 50412\n",
      "109 50752\n",
      "110 50957\n",
      "111 50731\n",
      "112 50828\n",
      "113 43886\n"
     ]
    }
   ],
   "source": [
    "#Omit 'Taxi ID' for now, as it uses a lot of memory.\n",
    "columns = ['Trip Start Timestamp', 'Trip End Timestamp',\n",
    "           'Pickup Community Area', 'Dropoff Community Area', 'Fare']\n",
    "#Use time parser\n",
    "time_parser = lambda x: pd.datetime.strptime(x, '%m/%d/%Y %I:%M:%S %p')\n",
    "\n",
    "df_list = []\n",
    "\n",
    "for chunk in pd.read_csv('Data/Taxi_Trips.csv',\n",
    "                        iterator=True, chunksize=1000000,\n",
    "                        low_memory=False):\n",
    "    \n",
    "    df = chunk[chunk['Pickup Community Area'] == 32.][columns] #select trips leaving the Loop\n",
    "    \n",
    "    df['hour'] = df['Trip Start Timestamp'].apply(lambda x: time_parser(x).hour) #create hour column\n",
    "    df_list.append(df[(df.hour >= 16) & (df.hour <= 18)]) #only append evening rush hour trips\n",
    "    \n",
    "    #print the number of DataFrames appended so far, and length of the last one appended\n",
    "    print(len(df_list), len(df_list[-1]))"
   ]
  },
  {
   "cell_type": "code",
   "execution_count": 59,
   "metadata": {},
   "outputs": [],
   "source": [
    "df = pd.concat(df_list)"
   ]
  },
  {
   "cell_type": "code",
   "execution_count": 61,
   "metadata": {},
   "outputs": [
    {
     "name": "stdout",
     "output_type": "stream",
     "text": [
      "<class 'pandas.core.frame.DataFrame'>\n",
      "Int64Index: 4933292 entries, 3 to 112860028\n",
      "Data columns (total 6 columns):\n",
      "Trip Start Timestamp      object\n",
      "Trip End Timestamp        object\n",
      "Pickup Community Area     float64\n",
      "Dropoff Community Area    float64\n",
      "Fare                      object\n",
      "hour                      int64\n",
      "dtypes: float64(2), int64(1), object(3)\n",
      "memory usage: 263.5+ MB\n"
     ]
    }
   ],
   "source": [
    "df.info()"
   ]
  },
  {
   "cell_type": "code",
   "execution_count": 60,
   "metadata": {},
   "outputs": [
    {
     "data": {
      "text/plain": [
       "Index                      39466336\n",
       "Trip Start Timestamp      389730068\n",
       "Trip End Timestamp        389695241\n",
       "Pickup Community Area      39466336\n",
       "Dropoff Community Area     39466336\n",
       "Fare                      307069362\n",
       "hour                       39466336\n",
       "dtype: int64"
      ]
     },
     "execution_count": 60,
     "metadata": {},
     "output_type": "execute_result"
    }
   ],
   "source": [
    "df.memory_usage(deep=True)"
   ]
  },
  {
   "cell_type": "code",
   "execution_count": 64,
   "metadata": {},
   "outputs": [
    {
     "ename": "TypeError",
     "evalue": "strptime() argument 1 must be str, not Timestamp",
     "output_type": "error",
     "traceback": [
      "\u001b[0;31m---------------------------------------------------------------------------\u001b[0m",
      "\u001b[0;31mTypeError\u001b[0m                                 Traceback (most recent call last)",
      "\u001b[0;32m<ipython-input-64-f4ca4f3333bf>\u001b[0m in \u001b[0;36m<module>\u001b[0;34m()\u001b[0m\n\u001b[1;32m      7\u001b[0m \u001b[0mdf\u001b[0m\u001b[0;34m[\u001b[0m\u001b[0;34m'Fare'\u001b[0m\u001b[0;34m]\u001b[0m \u001b[0;34m=\u001b[0m \u001b[0mdf\u001b[0m\u001b[0;34m[\u001b[0m\u001b[0;34m'Fare'\u001b[0m\u001b[0;34m]\u001b[0m\u001b[0;34m.\u001b[0m\u001b[0mapply\u001b[0m\u001b[0;34m(\u001b[0m\u001b[0mfare_converter\u001b[0m\u001b[0;34m)\u001b[0m\u001b[0;34m\u001b[0m\u001b[0m\n\u001b[1;32m      8\u001b[0m \u001b[0;31m#parse timestamps\u001b[0m\u001b[0;34m\u001b[0m\u001b[0;34m\u001b[0m\u001b[0m\n\u001b[0;32m----> 9\u001b[0;31m \u001b[0mdf\u001b[0m\u001b[0;34m[\u001b[0m\u001b[0;34m'Trip Start Timestamp'\u001b[0m\u001b[0;34m]\u001b[0m \u001b[0;34m=\u001b[0m \u001b[0mdf\u001b[0m\u001b[0;34m[\u001b[0m\u001b[0;34m'Trip Start Timestamp'\u001b[0m\u001b[0;34m]\u001b[0m\u001b[0;34m.\u001b[0m\u001b[0mapply\u001b[0m\u001b[0;34m(\u001b[0m\u001b[0mtime_parser\u001b[0m\u001b[0;34m)\u001b[0m\u001b[0;34m\u001b[0m\u001b[0m\n\u001b[0m",
      "\u001b[0;32m/opt/local/Library/Frameworks/Python.framework/Versions/3.6/lib/python3.6/site-packages/pandas/core/series.py\u001b[0m in \u001b[0;36mapply\u001b[0;34m(self, func, convert_dtype, args, **kwds)\u001b[0m\n\u001b[1;32m   2353\u001b[0m             \u001b[0;32melse\u001b[0m\u001b[0;34m:\u001b[0m\u001b[0;34m\u001b[0m\u001b[0m\n\u001b[1;32m   2354\u001b[0m                 \u001b[0mvalues\u001b[0m \u001b[0;34m=\u001b[0m \u001b[0mself\u001b[0m\u001b[0;34m.\u001b[0m\u001b[0masobject\u001b[0m\u001b[0;34m\u001b[0m\u001b[0m\n\u001b[0;32m-> 2355\u001b[0;31m                 \u001b[0mmapped\u001b[0m \u001b[0;34m=\u001b[0m \u001b[0mlib\u001b[0m\u001b[0;34m.\u001b[0m\u001b[0mmap_infer\u001b[0m\u001b[0;34m(\u001b[0m\u001b[0mvalues\u001b[0m\u001b[0;34m,\u001b[0m \u001b[0mf\u001b[0m\u001b[0;34m,\u001b[0m \u001b[0mconvert\u001b[0m\u001b[0;34m=\u001b[0m\u001b[0mconvert_dtype\u001b[0m\u001b[0;34m)\u001b[0m\u001b[0;34m\u001b[0m\u001b[0m\n\u001b[0m\u001b[1;32m   2356\u001b[0m \u001b[0;34m\u001b[0m\u001b[0m\n\u001b[1;32m   2357\u001b[0m         \u001b[0;32mif\u001b[0m \u001b[0mlen\u001b[0m\u001b[0;34m(\u001b[0m\u001b[0mmapped\u001b[0m\u001b[0;34m)\u001b[0m \u001b[0;32mand\u001b[0m \u001b[0misinstance\u001b[0m\u001b[0;34m(\u001b[0m\u001b[0mmapped\u001b[0m\u001b[0;34m[\u001b[0m\u001b[0;36m0\u001b[0m\u001b[0;34m]\u001b[0m\u001b[0;34m,\u001b[0m \u001b[0mSeries\u001b[0m\u001b[0;34m)\u001b[0m\u001b[0;34m:\u001b[0m\u001b[0;34m\u001b[0m\u001b[0m\n",
      "\u001b[0;32mpandas/_libs/src/inference.pyx\u001b[0m in \u001b[0;36mpandas._libs.lib.map_infer (pandas/_libs/lib.c:66645)\u001b[0;34m()\u001b[0m\n",
      "\u001b[0;32m<ipython-input-40-49ecbee63b09>\u001b[0m in \u001b[0;36m<lambda>\u001b[0;34m(x)\u001b[0m\n\u001b[1;32m      3\u001b[0m            'Pickup Community Area', 'Dropoff Community Area', 'Fare']\n\u001b[1;32m      4\u001b[0m \u001b[0;31m#Use time parser\u001b[0m\u001b[0;34m\u001b[0m\u001b[0;34m\u001b[0m\u001b[0m\n\u001b[0;32m----> 5\u001b[0;31m \u001b[0mtime_parser\u001b[0m \u001b[0;34m=\u001b[0m \u001b[0;32mlambda\u001b[0m \u001b[0mx\u001b[0m\u001b[0;34m:\u001b[0m \u001b[0mpd\u001b[0m\u001b[0;34m.\u001b[0m\u001b[0mdatetime\u001b[0m\u001b[0;34m.\u001b[0m\u001b[0mstrptime\u001b[0m\u001b[0;34m(\u001b[0m\u001b[0mx\u001b[0m\u001b[0;34m,\u001b[0m \u001b[0;34m'%m/%d/%Y %I:%M:%S %p'\u001b[0m\u001b[0;34m)\u001b[0m\u001b[0;34m\u001b[0m\u001b[0m\n\u001b[0m\u001b[1;32m      6\u001b[0m \u001b[0;34m\u001b[0m\u001b[0m\n\u001b[1;32m      7\u001b[0m \u001b[0mdf_list\u001b[0m \u001b[0;34m=\u001b[0m \u001b[0;34m[\u001b[0m\u001b[0;34m]\u001b[0m\u001b[0;34m\u001b[0m\u001b[0m\n",
      "\u001b[0;31mTypeError\u001b[0m: strptime() argument 1 must be str, not Timestamp"
     ]
    }
   ],
   "source": [
    "def fare_converter(fare):\n",
    "    \"\"\"Keep nan's as is, but turn string '$_.__' into float _.__\"\"\"\n",
    "    try: return float(fare[1:])\n",
    "    except TypeError: return fare\n",
    "\n",
    "#convert Fare to float\n",
    "df['Fare'] = df['Fare'].apply(fare_converter)\n",
    "#parse timestamps\n",
    "df['Trip Start Timestamp'] = df['Trip Start Timestamp'].apply(time_parser)"
   ]
  },
  {
   "cell_type": "code",
   "execution_count": 65,
   "metadata": {},
   "outputs": [
    {
     "name": "stdout",
     "output_type": "stream",
     "text": [
      "<class 'pandas.core.frame.DataFrame'>\n",
      "Int64Index: 4933292 entries, 3 to 112860028\n",
      "Data columns (total 6 columns):\n",
      "Trip Start Timestamp      datetime64[ns]\n",
      "Trip End Timestamp        object\n",
      "Pickup Community Area     float64\n",
      "Dropoff Community Area    float64\n",
      "Fare                      float64\n",
      "hour                      int64\n",
      "dtypes: datetime64[ns](1), float64(3), int64(1), object(1)\n",
      "memory usage: 263.5+ MB\n"
     ]
    }
   ],
   "source": [
    "df.info()"
   ]
  },
  {
   "cell_type": "code",
   "execution_count": 66,
   "metadata": {},
   "outputs": [
    {
     "data": {
      "text/plain": [
       "Index                      39466336\n",
       "Trip Start Timestamp       39466336\n",
       "Trip End Timestamp        389695241\n",
       "Pickup Community Area      39466336\n",
       "Dropoff Community Area     39466336\n",
       "Fare                       39466336\n",
       "hour                       39466336\n",
       "dtype: int64"
      ]
     },
     "execution_count": 66,
     "metadata": {},
     "output_type": "execute_result"
    }
   ],
   "source": [
    "df.memory_usage(deep=True)"
   ]
  },
  {
   "cell_type": "code",
   "execution_count": 72,
   "metadata": {},
   "outputs": [],
   "source": [
    "from_Loop = df.groupby('Dropoff Community Area').count()['Trip Start Timestamp']"
   ]
  },
  {
   "cell_type": "code",
   "execution_count": 80,
   "metadata": {},
   "outputs": [
    {
     "data": {
      "text/plain": [
       "Dropoff Community Area\n",
       "8.0     1769137\n",
       "32.0    1074360\n",
       "28.0     848461\n",
       "7.0      210698\n",
       "33.0     172997\n",
       "76.0     172764\n",
       "6.0      155506\n",
       "24.0     150630\n",
       "56.0      59875\n",
       "22.0      35206\n",
       "Name: Trip Start Timestamp, dtype: int64"
      ]
     },
     "execution_count": 80,
     "metadata": {},
     "output_type": "execute_result"
    }
   ],
   "source": [
    "#top 10\n",
    "from_Loop.sort_values(ascending=False).head(10)"
   ]
  },
  {
   "cell_type": "code",
   "execution_count": 75,
   "metadata": {},
   "outputs": [],
   "source": [
    "#make maps\n",
    "chi_map = geopandas.read_file('Data/Boundaries - Community Areas (current).geojson')\n",
    "#Make area_num_1 int and thne the index, as that's all I use to id them\n",
    "chi_map['area_num_1'] = chi_map['area_num_1'].astype(int)\n",
    "chi_map = chi_map.set_index(chi_map.area_num_1)"
   ]
  },
  {
   "cell_type": "code",
   "execution_count": 76,
   "metadata": {
    "scrolled": true
   },
   "outputs": [
    {
     "data": {
      "image/png": "[encoded data removed]",
      "text/plain": [
       "<matplotlib.figure.Figure at 0x1229de588>"
      ]
     },
     "metadata": {},
     "output_type": "display_data"
    }
   ],
   "source": [
    "chi_map['From_Loop'] = from_Loop\n",
    "\n",
    "chi_map.plot(column='From_Loop', cmap='OrRd')\n",
    "plt.title('Evening rush taxi rides from the Loop')\n",
    "#plt.savefig('Figs/')\n",
    "plt.show()"
   ]
  },
  {
   "cell_type": "markdown",
   "metadata": {},
   "source": [
    "## Fare"
   ]
  },
  {
   "cell_type": "code",
   "execution_count": 82,
   "metadata": {},
   "outputs": [
    {
     "data": {
      "image/png": "[encoded data removed]",
      "text/plain": [
       "<matplotlib.figure.Figure at 0x11552d3c8>"
      ]
     },
     "metadata": {},
     "output_type": "display_data"
    }
   ],
   "source": [
    "df['Fare'][df.Fare <= 50].plot.hist() #There are some outliers with very high fares\n",
    "plt.title('Distribution of taxi fares from the Loop during evening rush')\n",
    "#plt.savefig('Figs/')\n",
    "plt.show()"
   ]
  },
  {
   "cell_type": "code",
   "execution_count": 87,
   "metadata": {},
   "outputs": [
    {
     "name": "stdout",
     "output_type": "stream",
     "text": [
      "0    01/12/2016 11:00:00 AM\n",
      "1    09/01/2016 07:30:00 PM\n",
      "2    01/21/2017 08:30:00 AM\n",
      "3    05/05/2017 04:15:00 PM\n",
      "4    09/23/2015 05:15:00 PM\n",
      "5    04/05/2017 11:15:00 AM\n",
      "6    08/22/2015 04:30:00 PM\n",
      "7    04/10/2014 02:45:00 PM\n",
      "8    05/26/2014 02:45:00 AM\n",
      "9    03/28/2015 11:45:00 AM\n",
      "Name: Trip Start Timestamp, dtype: object\n"
     ]
    }
   ],
   "source": [
    "#Omit 'Taxi ID' for now, as it uses a lot of memory.\n",
    "columns = ['Trip Start Timestamp', 'Trip End Timestamp',\n",
    "           'Pickup Community Area', 'Dropoff Community Area', 'Fare']\n",
    "#Use time parser\n",
    "time_parser = lambda x: pd.datetime.strptime(x, '%m/%d/%Y %I:%M:%S %p')\n",
    "\n",
    "df_list = []\n",
    "\n",
    "for chunk in pd.read_csv('Data/Taxi_Trips.csv',\n",
    "                        iterator=True, chunksize=10,\n",
    "                        low_memory=False):\n",
    "    print(chunk['Trip Start Timestamp'])\n",
    "    break"
   ]
  },
  {
   "cell_type": "code",
   "execution_count": 83,
   "metadata": {},
   "outputs": [
    {
     "data": {
      "text/plain": [
       "Trip Start Timestamp      datetime64[ns]\n",
       "Trip End Timestamp                object\n",
       "Pickup Community Area            float64\n",
       "Dropoff Community Area           float64\n",
       "Fare                             float64\n",
       "hour                               int64\n",
       "dtype: object"
      ]
     },
     "execution_count": 83,
     "metadata": {},
     "output_type": "execute_result"
    }
   ],
   "source": [
    "df.dtypes"
   ]
  },
  {
   "cell_type": "code",
   "execution_count": null,
   "metadata": {},
   "outputs": [],
   "source": []
  }
 ],
 "metadata": {
  "kernelspec": {
   "display_name": "Python 3",
   "language": "python",
   "name": "python3"
  },
  "language_info": {
   "codemirror_mode": {
    "name": "ipython",
    "version": 3
   },
   "file_extension": ".py",
   "mimetype": "text/x-python",
   "name": "python",
   "nbconvert_exporter": "python",
   "pygments_lexer": "ipython3",
   "version": "3.6.2"
  }
 },
 "nbformat": 4,
 "nbformat_minor": 2
}
